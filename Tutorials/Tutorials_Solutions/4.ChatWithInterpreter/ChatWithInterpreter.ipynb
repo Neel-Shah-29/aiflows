{
 "cells": [
  {
   "cell_type": "markdown",
   "metadata": {},
   "source": [
    "# Tutorial 3\n",
    "\n",
    "**In this tutorial you will:**\n",
    "- Build a Chatbot connected to a code interpreter able to execute Python code [Section 1](#1-chatbotwithinterpreter-expanding-interactivity-and-functionality)"
   ]
  },
  {
   "cell_type": "code",
   "execution_count": 1,
   "metadata": {},
   "outputs": [
    {
     "name": "stderr",
     "output_type": "stream",
     "text": [
      "/Users/nicolasbaldwin/opt/miniconda3/envs/mockenv/lib/python3.11/site-packages/tqdm/auto.py:21: TqdmWarning: IProgress not found. Please update jupyter and ipywidgets. See https://ipywidgets.readthedocs.io/en/stable/user_install.html\n",
      "  from .autonotebook import tqdm as notebook_tqdm\n"
     ]
    }
   ],
   "source": [
    "%load_ext autoreload\n",
    "%autoreload 2\n",
    "#imports\n",
    "from aiflows.utils.general_helpers import read_yaml_file, quick_load_api_keys\n",
    "from aiflows.backends.api_info import ApiInfo\n",
    "from aiflows.utils import serve_utils\n",
    "from aiflows.utils import colink_utils\n",
    "from aiflows.workers import run_dispatch_worker_thread\n",
    "from aiflows.base_flows import AtomicFlow\n",
    "from aiflows.messages import FlowMessage\n",
    "from aiflows import flow_verse\n",
    "import sys\n",
    "import os\n",
    "sys.path.append(\"..\")\n",
    "from utils import compile_and_writefile, dict_to_yaml\n",
    "import json\n",
    "import copy\n",
    "#Specify path of your flow modules\n"
   ]
  },
  {
   "cell_type": "code",
   "execution_count": 2,
   "metadata": {},
   "outputs": [],
   "source": [
    "#starting a local colink server\n",
    "cl = colink_utils.start_colink_server()"
   ]
  },
  {
   "cell_type": "code",
   "execution_count": 3,
   "metadata": {},
   "outputs": [
    {
     "name": "stdout",
     "output_type": "stream",
     "text": [
      "[\u001b[36m2024-03-22 19:27:08,908\u001b[0m][\u001b[34maiflows.workers.dispatch_worker:235\u001b[0m][\u001b[32mINFO\u001b[0m] - Dispatch worker started in attached thread.\u001b[0m\n",
      "[\u001b[36m2024-03-22 19:27:08,910\u001b[0m][\u001b[34maiflows.workers.dispatch_worker:236\u001b[0m][\u001b[32mINFO\u001b[0m] - dispatch_point: coflows_dispatch\u001b[0m\n"
     ]
    }
   ],
   "source": [
    "# Start Worker thread\n",
    "run_dispatch_worker_thread(cl)"
   ]
  },
  {
   "cell_type": "code",
   "execution_count": 4,
   "metadata": {},
   "outputs": [
    {
     "name": "stdout",
     "output_type": "stream",
     "text": [
      "[\u001b[36m2024-03-22 19:27:09,653\u001b[0m][\u001b[34maiflows.workers.dispatch_worker:235\u001b[0m][\u001b[32mINFO\u001b[0m] - Dispatch worker started in attached thread.\u001b[0m\n",
      "[\u001b[36m2024-03-22 19:27:09,657\u001b[0m][\u001b[34maiflows.workers.dispatch_worker:236\u001b[0m][\u001b[32mINFO\u001b[0m] - dispatch_point: coflows_dispatch\u001b[0m\n"
     ]
    }
   ],
   "source": [
    "# Start 2nd Worker thread (in case you're making blocking calls)\n",
    "run_dispatch_worker_thread(cl)"
   ]
  },
  {
   "cell_type": "markdown",
   "metadata": {},
   "source": [
    "## 1. ChatBotWithInterpreter: Expanding Interactivity and Functionality\n",
    "\n",
    "In this section, we'll explore the implementation of a chatbot integrated with a code interpreter, offering new dimensions of interactivity and functionality. By connecting an interpreter capable of compiling and executing code to the chatbot, we unlock numerous benefits. This setup enables users to prompt the chatbot with specific tasks, allowing them to provide instructions like \"download Apple's stock prices, plot them, and save them in a PDF.\" In response, the chatbot generates tailored code to execute these tasks, and executes it. \n",
    "\n",
    "Additionally, integrating the interpreter enhances the chatbot's adaptability and versatility. By understanding the user's environment, such as their Python environment, the chatbot can execute code seamlessly within that context. This capability extends to installing necessary Python packages on-the-fly, ensuring smooth execution without requiring user intervention. Such integration enhances the chatbot's utility, making it a versatile tool for coding assistance, troubleshooting, and rapid prototyping. Furthermore, this integration ensures that all generated code is compilable, maintaining a seamless user experience and efficient task execution.\n"
   ]
  },
  {
   "cell_type": "markdown",
   "metadata": {},
   "source": [
    "### 1.1 Leveraging ChatAtomicFlow to write a CodeGenerator Flow"
   ]
  },
  {
   "cell_type": "markdown",
   "metadata": {},
   "source": [
    "##### Pulling ChatAtomicFlow from FlowVerse"
   ]
  },
  {
   "cell_type": "code",
   "execution_count": 5,
   "metadata": {},
   "outputs": [
    {
     "name": "stdout",
     "output_type": "stream",
     "text": [
      "[\u001b[36m2024-03-22 19:27:13,222\u001b[0m][\u001b[34maiflows.flow_verse.loading:775\u001b[0m][\u001b[32mINFO\u001b[0m] - \u001b[32m[<interactive>]\u001b[0m started to sync flow module dependencies to /Users/nicolasbaldwin/Documents/OneDrive/EPFL/DLAB/aiflow-colink/aiflows/AMLD/4.ChatWithInterpreter/flow_modules...\u001b[0m\n",
      "[\u001b[36m2024-03-22 19:27:13,332\u001b[0m][\u001b[34maiflows.flow_verse.loading:563\u001b[0m][\u001b[32mINFO\u001b[0m] - aiflows/ChatFlowModule:main will be fetched from remote\u001b[0m\n"
     ]
    },
    {
     "name": "stderr",
     "output_type": "stream",
     "text": [
      "Fetching 9 files: 100%|██████████| 9/9 [00:00<00:00, 43043.03it/s]\n",
      "Fetching 9 files: 100%|██████████| 9/9 [00:00<00:00, 48897.33it/s]\n"
     ]
    },
    {
     "name": "stdout",
     "output_type": "stream",
     "text": [
      "[\u001b[36m2024-03-22 19:27:13,913\u001b[0m][\u001b[34maiflows.flow_verse.loading:825\u001b[0m][\u001b[32mINFO\u001b[0m] - \u001b[32m[<interactive>]\u001b[0m finished syncing\n",
      "\n",
      "\u001b[0m\n"
     ]
    },
    {
     "data": {
      "text/plain": [
       "['/Users/nicolasbaldwin/Documents/OneDrive/EPFL/DLAB/aiflow-colink/aiflows/AMLD/4.ChatWithInterpreter/flow_modules/aiflows/ChatFlowModule']"
      ]
     },
     "execution_count": 5,
     "metadata": {},
     "output_type": "execute_result"
    }
   ],
   "source": [
    "#Install dependencies from FlowVerse\n",
    "dependencies = [\n",
    "    {\"url\": \"aiflows/ChatFlowModule\", \"revision\": \"main\"},\n",
    "]\n",
    "from aiflows import flow_verse\n",
    "flow_verse.sync_dependencies(dependencies)"
   ]
  },
  {
   "cell_type": "markdown",
   "metadata": {},
   "source": [
    "##### Writing the CodeGenerator's Default Config"
   ]
  },
  {
   "cell_type": "code",
   "execution_count": 6,
   "metadata": {},
   "outputs": [],
   "source": [
    "#Defining prompt templates\n",
    "\n",
    "#system prompt template\n",
    "system_prompt_template = \\\n",
    "\"\"\"\n",
    "You are a world class programmer that can complete any goal with code.\n",
    "      \n",
    "Your tasks are:\n",
    "    1. Write a python code in order to achieve a goal that is given to you. This code should be able to be run by the executor.\n",
    "\n",
    "Notice that:\n",
    "    1. If you use any external libraries, you must install them withing the code (in python)\n",
    "    2. All functions you write are modular, so make sure you make imports necessary imports within the function.\n",
    "    3. You must write docstrings for every function you write.\n",
    "\n",
    "    \n",
    "Your function will then be imported and called by an executor to finish the goal, you do not need to worry about the execution part.\n",
    "The executor will give you feedback on the code you write, and you can revise your code based on the feedback.\n",
    "\n",
    "Performance Evaluation:\n",
    "1. You must write your code in python\n",
    "2. Your answer must be able to be compiled and run by the executor (i.e, do not write codeblocks)\n",
    "\n",
    "**It's important that you should only respond in JSON format as described below:**\n",
    "Response Format:\n",
    "{\n",
    "    \"language_of_code\": \"language of the code\",\n",
    "    \"code\": \"String of the code and docstrings corresponding to the goal\",\n",
    "    \"finish\": \"True if you have finished the goal, False otherwise. Take in consideration the feedback you receive to decide if you have finished the goal or not\",\n",
    "}\n",
    "Ensure your responses can be parsed by Python json.loads\n",
    "    \n",
    "**It's important that the code you generate can be written by Python write, and is human-readable. The written file must also be indented and formatted, so that it is human-readable.**\n",
    "\"\"\"\n",
    "\n",
    "#init_human_prompt_template\n",
    "#This is the prompt passed to the ChatAtomicFlow the first time its called (i.e., the user asks to accomplish a goal)\n",
    "init_human_prompt_template = \\\n",
    "\"\"\"\n",
    "\"Here is the goal you need to achieve:\n",
    "{{goal}}\"\n",
    "\"\"\"\n",
    "\n",
    "#human_prompt_template\n",
    "#This is the prompt passed to the ChatAtomicFlow after the first time its called (i.e., feedback from the code interpreter)\n",
    "human_prompt_template = \\\n",
    "\"\"\"\n",
    "Here is the goal you need to achieve:\n",
    "{{goal}}\n",
    "Here is the previous code you have written:\n",
    "{{previous_code}}\n",
    "Here is the feedback from the previous code:\n",
    "{{feedback}}\n",
    "\"\"\""
   ]
  },
  {
   "cell_type": "code",
   "execution_count": 7,
   "metadata": {},
   "outputs": [],
   "source": [
    "default_config_code_generator = {\n",
    "    \"_target_\": \"CodeGeneratorFlowModule.CodeGenerator.CodeGenerator.instantiate_from_default_config\",\n",
    "    \"name\": \"CodeGenerator\",\n",
    "    \"description\": \"Writes code with given instruction\",\n",
    "    \"backend\": {\n",
    "        \"api_infos\": \"???\"\n",
    "    },\n",
    "    \"model_name\": {\n",
    "        \"openai\": \"gpt-4\"\n",
    "    },\n",
    "    \"input_interface_non_initialized\": [\"goal\"],\n",
    "\n",
    "    \"input_interface_initialized\": [\"goal\", \"previous_code\", \"feedback\"],\n",
    "\n",
    "    \"output_interface\": [\"language_of_code\", \"code\"],\n",
    "\n",
    "    \"system_message_prompt_template\": {\n",
    "        \"template\": f'{system_prompt_template}'\n",
    "    },\n",
    "  \n",
    "    \"human_message_prompt_template\": {\n",
    "        \"template\": f'{human_prompt_template}',\n",
    "        \"input_variables\": [\"goal\", \"previous_code\", \"feedback\"],\n",
    "    },\n",
    "\n",
    "    \"init_human_message_prompt_template\": {\n",
    "        \"template\": f'{init_human_prompt_template}',\n",
    "        \"input_variables\": [\"goal\"]\n",
    "    },\n",
    "    #keep as context window only the first message (system prompt template) and the last two messages (last user-assistant interaction)\n",
    "    \"previous_messages\": {\n",
    "        \"first_k\": 1,\n",
    "        \"last_k\": 2,\n",
    "    }\n",
    "}\n",
    "dict_to_yaml(default_config_code_generator, \"CodeGeneratorFlowModule/CodeGenerator.yaml\")"
   ]
  },
  {
   "cell_type": "markdown",
   "metadata": {},
   "source": [
    "##### Writing the CodeGenerator Flow\n",
    "\n",
    "**Requirements:** We want to make sure that the CodeGenerator generates a json parsable output. Implement this in the `CodeGenerator` class by requerying the LLM if it doesn't generate a parsable output (specifying to reformat its previous output)."
   ]
  },
  {
   "cell_type": "code",
   "execution_count": 8,
   "metadata": {},
   "outputs": [],
   "source": [
    "%%compile_and_writefile CodeGeneratorFlowModule/CodeGenerator.py\n",
    "\n",
    "from aiflows.base_flows import AtomicFlow\n",
    "from aiflows.messages import FlowMessage\n",
    "from flow_modules.aiflows.ChatFlowModule import ChatAtomicFlow\n",
    "import json\n",
    "\n",
    "\n",
    "class CodeGenerator(ChatAtomicFlow):\n",
    "\n",
    "    def run(self, input_message: FlowMessage):\n",
    "        input_data = input_message.data\n",
    "        json_parsable = False\n",
    "        response = None\n",
    "        \n",
    "        #ensure the response is json parsable\n",
    "        while not json_parsable:\n",
    "            \n",
    "            output = self.query_llm(input_data=input_data).strip()\n",
    "            \n",
    "            try:\n",
    "                response = json.loads(output)\n",
    "                json_parsable = True\n",
    "            \n",
    "            except (json.decoder.JSONDecodeError, json.JSONDecodeError):\n",
    "                \n",
    "                feedback = \"The previous response cannot be parsed with json.loads, it \\\n",
    "                    could be the backslashes used for escaping single quotes in the string arguments of the code are not properly \\\n",
    "                        escaped themselves within the JSON context. Next time, do not provide any comments or code blocks. \\\n",
    "                            Make sure your next response is purely json parsable.\"\n",
    "                previous_code = output\n",
    "                new_input_data = input_data.copy()\n",
    "                new_input_data = {\n",
    "                    \"goal\": input_data[\"goal\"],\n",
    "                    \"feedback\": feedback,\n",
    "                    \"previous_code\": previous_code,   \n",
    "                }\n",
    "                input_data = new_input_data\n",
    "\n",
    "        \n",
    "        reply = self.package_output_message(\n",
    "            input_message = input_message,\n",
    "            response = response\n",
    "        )\n",
    "        self.send_message(reply)\n",
    "        "
   ]
  },
  {
   "cell_type": "markdown",
   "metadata": {},
   "source": [
    "##### Serving the CodeGenerator Flow:"
   ]
  },
  {
   "cell_type": "code",
   "execution_count": 9,
   "metadata": {},
   "outputs": [
    {
     "name": "stdout",
     "output_type": "stream",
     "text": [
      "[\u001b[36m2024-03-22 19:27:23,813\u001b[0m][\u001b[34maiflows.utils.serve_utils:116\u001b[0m][\u001b[32mINFO\u001b[0m] - Started serving CodeGeneratorFlowModule.CodeGenerator.CodeGenerator at flows:CodeGenerator.\u001b[0m\n",
      "[\u001b[36m2024-03-22 19:27:23,815\u001b[0m][\u001b[34maiflows.utils.serve_utils:117\u001b[0m][\u001b[32mINFO\u001b[0m] - dispatch_point: coflows_dispatch\u001b[0m\n",
      "[\u001b[36m2024-03-22 19:27:23,816\u001b[0m][\u001b[34maiflows.utils.serve_utils:118\u001b[0m][\u001b[32mINFO\u001b[0m] - parallel_dispatch: False\u001b[0m\n",
      "[\u001b[36m2024-03-22 19:27:23,817\u001b[0m][\u001b[34maiflows.utils.serve_utils:119\u001b[0m][\u001b[32mINFO\u001b[0m] - singleton: False\n",
      "\u001b[0m\n"
     ]
    },
    {
     "data": {
      "text/plain": [
       "True"
      ]
     },
     "execution_count": 9,
     "metadata": {},
     "output_type": "execute_result"
    }
   ],
   "source": [
    "serve_utils.serve_flow(\n",
    "    cl=cl,\n",
    "    flow_class_name=\"CodeGeneratorFlowModule.CodeGenerator.CodeGenerator\",\n",
    "    flow_endpoint=\"CodeGenerator\",\n",
    ")"
   ]
  },
  {
   "cell_type": "markdown",
   "metadata": {},
   "source": [
    "##### Testing the CodeGenerator Flow:\n",
    "\n",
    "We will now test the CodeGenerator Flow by prompting the chatbot with a task and observing the generated code. We will use the following task as an example: \"Download Apple's stock prices, plot them, and save them in a PDF.\" The chatbot should generate code that accomplishes this task, and we will evaluate the generated code's quality and correctness. To showcase the limitations of using the code generator on its own, we will show that the code is not always compilable in your Python environment. To showcase we will manually uninstall, if you do have it installed, the `yfinance` package from the Python environment (which is a library the Flow will use in its answer)"
   ]
  },
  {
   "cell_type": "code",
   "execution_count": 10,
   "metadata": {},
   "outputs": [
    {
     "name": "stdout",
     "output_type": "stream",
     "text": [
      "WARNING: Skipping yfinance as it is not installed.\n"
     ]
    }
   ],
   "source": [
    "!pip uninstall yfinance -y"
   ]
  },
  {
   "cell_type": "code",
   "execution_count": 11,
   "metadata": {},
   "outputs": [
    {
     "name": "stdout",
     "output_type": "stream",
     "text": [
      "[\u001b[36m2024-03-22 19:27:31,009\u001b[0m][\u001b[34maiflows.utils.serve_utils:336\u001b[0m][\u001b[32mINFO\u001b[0m] - Mounted 440bc05f-c12e-4cb7-99f7-fe69fc62fe27 at flows:CodeGenerator:mounts:local:440bc05f-c12e-4cb7-99f7-fe69fc62fe27\u001b[0m\n",
      "Data sent:\n",
      " {'goal': \"Download Apple's stock price between 2015 and 2016, make a plot with it and save it as a pdf in './apple_stocks.pdf'\"} \n",
      "\n",
      "REPLY:\n",
      "```python\n",
      "import yfinance as yf\n",
      "import matplotlib.pyplot as plt\n",
      "\n",
      "\n",
      "def download_and_plot_stock_price():\n",
      "    '''\n",
      "    Download Apple's stock price between 2015 and 2016, make a plot with it, and save it as a pdf.\n",
      "    '''\n",
      "    # Download Apple's stock price data\n",
      "    apple_stock = yf.download('AAPL', start='2015-01-01', end='2016-12-31')\n",
      "    \n",
      "    # Plot the stock price\n",
      "    plt.figure(figsize=(12, 6))\n",
      "    plt.plot(apple_stock['Close'], label='Apple Stock Price')\n",
      "    plt.title('Apple Stock Price (2015 - 2016)')\n",
      "    plt.xlabel('Date')\n",
      "    plt.ylabel('Stock Price')\n",
      "    plt.legend()\n",
      "    \n",
      "    # Save the plot as a pdf\n",
      "    plt.savefig('./apple_stocks.pdf')\n",
      "    \n",
      "    return 'Plot saved as apple_stocks.pdf'\n",
      "\n",
      "# Call the function to download, plot, and save the stock price\n",
      "download_and_plot_stock_price()\n",
      "``` \n",
      "\n"
     ]
    },
    {
     "name": "stdout",
     "output_type": "stream",
     "text": [
      "[\u001b[36m2024-03-22 19:27:31,082\u001b[0m][\u001b[34maiflows.workers.dispatch_worker:119\u001b[0m][\u001b[32mINFO\u001b[0m] - \n",
      "~~~ Dispatch task ~~~\u001b[0m\n",
      "[\u001b[36m2024-03-22 19:27:31,092\u001b[0m][\u001b[34maiflows.workers.dispatch_worker:161\u001b[0m][\u001b[32mINFO\u001b[0m] - flow_endpoint: CodeGenerator\u001b[0m\n",
      "[\u001b[36m2024-03-22 19:27:31,093\u001b[0m][\u001b[34maiflows.workers.dispatch_worker:162\u001b[0m][\u001b[32mINFO\u001b[0m] - flow_id: 440bc05f-c12e-4cb7-99f7-fe69fc62fe27\u001b[0m\n",
      "[\u001b[36m2024-03-22 19:27:31,095\u001b[0m][\u001b[34maiflows.workers.dispatch_worker:163\u001b[0m][\u001b[32mINFO\u001b[0m] - owner_id: local\u001b[0m\n",
      "[\u001b[36m2024-03-22 19:27:31,096\u001b[0m][\u001b[34maiflows.workers.dispatch_worker:164\u001b[0m][\u001b[32mINFO\u001b[0m] - message_paths: ['push_tasks:52822c02-bab6-4dff-b745-702f78f1934c:msg']\u001b[0m\n",
      "[\u001b[36m2024-03-22 19:27:31,097\u001b[0m][\u001b[34maiflows.workers.dispatch_worker:165\u001b[0m][\u001b[32mINFO\u001b[0m] - parallel_dispatch: False\n",
      "\u001b[0m\n",
      "[\u001b[36m2024-03-22 19:27:31,294\u001b[0m][\u001b[34maiflows.workers.dispatch_worker:188\u001b[0m][\u001b[32mINFO\u001b[0m] - Input message source: Proxy_CodeGenerator\u001b[0m\n",
      "[\u001b[36m2024-03-22 19:28:27,058\u001b[0m][\u001b[34maiflows.workers.dispatch_worker:119\u001b[0m][\u001b[32mINFO\u001b[0m] - \n",
      "~~~ Dispatch task ~~~\u001b[0m\n",
      "[\u001b[36m2024-03-22 19:28:27,073\u001b[0m][\u001b[34maiflows.workers.dispatch_worker:161\u001b[0m][\u001b[32mINFO\u001b[0m] - flow_endpoint: InterpreterAtomicFlow\u001b[0m\n",
      "[\u001b[36m2024-03-22 19:28:27,075\u001b[0m][\u001b[34maiflows.workers.dispatch_worker:162\u001b[0m][\u001b[32mINFO\u001b[0m] - flow_id: d2d6ab5d-f6ba-4366-b7ad-568950e37054\u001b[0m\n",
      "[\u001b[36m2024-03-22 19:28:27,077\u001b[0m][\u001b[34maiflows.workers.dispatch_worker:163\u001b[0m][\u001b[32mINFO\u001b[0m] - owner_id: local\u001b[0m\n",
      "[\u001b[36m2024-03-22 19:28:27,078\u001b[0m][\u001b[34maiflows.workers.dispatch_worker:164\u001b[0m][\u001b[32mINFO\u001b[0m] - message_paths: ['push_tasks:d49d90de-69ef-435e-818d-cc619d0ed46a:msg']\u001b[0m\n",
      "[\u001b[36m2024-03-22 19:28:27,079\u001b[0m][\u001b[34maiflows.workers.dispatch_worker:165\u001b[0m][\u001b[32mINFO\u001b[0m] - parallel_dispatch: False\n",
      "\u001b[0m\n",
      "[\u001b[36m2024-03-22 19:28:27,120\u001b[0m][\u001b[34maiflows.workers.dispatch_worker:188\u001b[0m][\u001b[32mINFO\u001b[0m] - Input message source: Proxy_InterpreterAtomicFlow\u001b[0m\n",
      "[\u001b[36m2024-03-22 19:29:13,702\u001b[0m][\u001b[34maiflows.workers.dispatch_worker:119\u001b[0m][\u001b[32mINFO\u001b[0m] - \n",
      "~~~ Dispatch task ~~~\u001b[0m\n",
      "[\u001b[36m2024-03-22 19:29:13,717\u001b[0m][\u001b[34maiflows.workers.dispatch_worker:161\u001b[0m][\u001b[32mINFO\u001b[0m] - flow_endpoint: ChatCodeInterpreter\u001b[0m\n",
      "[\u001b[36m2024-03-22 19:29:13,717\u001b[0m][\u001b[34maiflows.workers.dispatch_worker:162\u001b[0m][\u001b[32mINFO\u001b[0m] - flow_id: b43f2aa4-dba7-46fa-bc4d-3fdc4014e809\u001b[0m\n",
      "[\u001b[36m2024-03-22 19:29:13,718\u001b[0m][\u001b[34maiflows.workers.dispatch_worker:163\u001b[0m][\u001b[32mINFO\u001b[0m] - owner_id: local\u001b[0m\n",
      "[\u001b[36m2024-03-22 19:29:13,721\u001b[0m][\u001b[34maiflows.workers.dispatch_worker:164\u001b[0m][\u001b[32mINFO\u001b[0m] - message_paths: ['push_tasks:a2b288cf-00aa-4f62-8610-720eab6b242a:msg']\u001b[0m\n",
      "[\u001b[36m2024-03-22 19:29:13,727\u001b[0m][\u001b[34maiflows.workers.dispatch_worker:165\u001b[0m][\u001b[32mINFO\u001b[0m] - parallel_dispatch: False\n",
      "\u001b[0m\n",
      "[\u001b[36m2024-03-22 19:29:13,846\u001b[0m][\u001b[34maiflows.workers.dispatch_worker:188\u001b[0m][\u001b[32mINFO\u001b[0m] - Input message source: Proxy of Coder\u001b[0m\n",
      "[\u001b[36m2024-03-22 19:29:32,593\u001b[0m][\u001b[34maiflows.workers.dispatch_worker:119\u001b[0m][\u001b[32mINFO\u001b[0m] - \n",
      "~~~ Dispatch task ~~~\u001b[0m\n",
      "[\u001b[36m2024-03-22 19:29:32,621\u001b[0m][\u001b[34maiflows.workers.dispatch_worker:161\u001b[0m][\u001b[32mINFO\u001b[0m] - flow_endpoint: ChatCodeInterpreter\u001b[0m\n",
      "[\u001b[36m2024-03-22 19:29:32,622\u001b[0m][\u001b[34maiflows.workers.dispatch_worker:162\u001b[0m][\u001b[32mINFO\u001b[0m] - flow_id: b43f2aa4-dba7-46fa-bc4d-3fdc4014e809\u001b[0m\n",
      "[\u001b[36m2024-03-22 19:29:32,624\u001b[0m][\u001b[34maiflows.workers.dispatch_worker:163\u001b[0m][\u001b[32mINFO\u001b[0m] - owner_id: local\u001b[0m\n",
      "[\u001b[36m2024-03-22 19:29:32,625\u001b[0m][\u001b[34maiflows.workers.dispatch_worker:164\u001b[0m][\u001b[32mINFO\u001b[0m] - message_paths: ['push_tasks:d6b49b0e-0dd0-4e71-b434-a3e74af60a5a:msg']\u001b[0m\n",
      "[\u001b[36m2024-03-22 19:29:32,628\u001b[0m][\u001b[34maiflows.workers.dispatch_worker:165\u001b[0m][\u001b[32mINFO\u001b[0m] - parallel_dispatch: False\n",
      "\u001b[0m\n",
      "[\u001b[36m2024-03-22 19:29:32,690\u001b[0m][\u001b[34maiflows.workers.dispatch_worker:188\u001b[0m][\u001b[32mINFO\u001b[0m] - Input message source: Proxy of Coder\u001b[0m\n"
     ]
    }
   ],
   "source": [
    "\n",
    "path_to_yaml = os.path.join(\"CodeGeneratorFlowModule\", \"CodeGenerator.yaml\")\n",
    "default_config = read_yaml_file(path_to_yaml)\n",
    "overrides = copy.deepcopy(default_config)\n",
    "api_information = [ApiInfo(backend_used=\"openai\", api_key=os.getenv(\"OPENAI_API_KEY\"))]\n",
    "quick_load_api_keys(overrides, api_information)\n",
    "\n",
    "proxy_code_generator = serve_utils.get_flow_instance(\n",
    "    cl=cl,\n",
    "    flow_endpoint=\"CodeGenerator\", #TODO: SPECIFY THE ENDPOINT\n",
    "    user_id=\"local\",\n",
    "    config_overrides=overrides,\n",
    ")\n",
    "data = {\n",
    "    \"goal\": \"Download Apple's stock price between 2015 and 2016, make a plot with it and save it as a pdf in './apple_stocks.pdf'\",\n",
    "}\n",
    "input_message = proxy_code_generator.package_input_message(data)\n",
    "future = proxy_code_generator.get_reply_future(input_message)\n",
    "reply_data = future.get_data()\n",
    "print(\"Data sent:\\n\",  data, \"\\n\")\n",
    "print(f'REPLY:\\n{reply_data[\"code\"]} \\n')\n"
   ]
  },
  {
   "cell_type": "markdown",
   "metadata": {},
   "source": [
    "Now if you copy paste the reply from the chatbot, you will see that the code is not compilable. This is because the `yfinance` package is not installed in your Python environment. This is an example where the interpreter comes in handy."
   ]
  },
  {
   "cell_type": "code",
   "execution_count": 12,
   "metadata": {},
   "outputs": [
    {
     "ename": "ModuleNotFoundError",
     "evalue": "No module named 'yfinance'",
     "output_type": "error",
     "traceback": [
      "\u001b[0;31m---------------------------------------------------------------------------\u001b[0m",
      "\u001b[0;31mModuleNotFoundError\u001b[0m                       Traceback (most recent call last)",
      "Cell \u001b[0;32mIn[12], line 1\u001b[0m\n\u001b[0;32m----> 1\u001b[0m \u001b[38;5;28;01mimport\u001b[39;00m \u001b[38;5;21;01myfinance\u001b[39;00m \u001b[38;5;28;01mas\u001b[39;00m \u001b[38;5;21;01myf\u001b[39;00m\n\u001b[1;32m      2\u001b[0m \u001b[38;5;28;01mimport\u001b[39;00m \u001b[38;5;21;01mmatplotlib\u001b[39;00m\u001b[38;5;21;01m.\u001b[39;00m\u001b[38;5;21;01mpyplot\u001b[39;00m \u001b[38;5;28;01mas\u001b[39;00m \u001b[38;5;21;01mplt\u001b[39;00m\n\u001b[1;32m      5\u001b[0m \u001b[38;5;28;01mdef\u001b[39;00m \u001b[38;5;21mdownload_and_plot_stock_price\u001b[39m():\n",
      "\u001b[0;31mModuleNotFoundError\u001b[0m: No module named 'yfinance'"
     ]
    }
   ],
   "source": [
    "import yfinance as yf\n",
    "import matplotlib.pyplot as plt\n",
    "\n",
    "def download_and_plot_stock_price():\n",
    "    '''\n",
    "    Download Apple's stock price between 2015 and 2016, make a plot with it, and save it as a pdf.\n",
    "    '''\n",
    "    # Download Apple's stock price data\n",
    "    apple_stock = yf.download('AAPL', start='2015-01-01', end='2016-12-31')\n",
    "    \n",
    "    # Plot the stock price\n",
    "    plt.figure(figsize=(12, 6))\n",
    "    plt.plot(apple_stock['Close'], label='Apple Stock Price')\n",
    "    plt.title('Apple Stock Price (2015 - 2016)')\n",
    "    plt.xlabel('Date')\n",
    "    plt.ylabel('Stock Price')\n",
    "    plt.legend()\n",
    "    \n",
    "    # Save the plot as a pdf\n",
    "    plt.savefig('./apple_stocks.pdf')\n",
    "    \n",
    "    return 'Plot saved as apple_stocks.pdf'\n",
    "\n",
    "# Call the function to download, plot, and save the stock price\n",
    "download_and_plot_stock_price()"
   ]
  },
  {
   "cell_type": "markdown",
   "metadata": {},
   "source": [
    "### 1.2 Using the Interperter Flow Module\n",
    "\n",
    "We already have an interpreter flow module implemented on the flow verse which you can checkout [here](https://huggingface.co/aiflows/InterpreterFlowModule) !\n",
    "\n",
    "Let's check out its config, serve it and test it."
   ]
  },
  {
   "cell_type": "markdown",
   "metadata": {},
   "source": [
    "##### Pulling the InterpreterFlowModule from FlowVerse\n",
    "\n"
   ]
  },
  {
   "cell_type": "code",
   "execution_count": 13,
   "metadata": {},
   "outputs": [
    {
     "name": "stdout",
     "output_type": "stream",
     "text": [
      "[\u001b[36m2024-03-22 19:28:18,757\u001b[0m][\u001b[34maiflows.flow_verse.loading:775\u001b[0m][\u001b[32mINFO\u001b[0m] - \u001b[32m[<interactive>]\u001b[0m started to sync flow module dependencies to /Users/nicolasbaldwin/Documents/OneDrive/EPFL/DLAB/aiflow-colink/aiflows/AMLD/4.ChatWithInterpreter/flow_modules...\u001b[0m\n",
      "[\u001b[36m2024-03-22 19:28:18,760\u001b[0m][\u001b[34maiflows.flow_verse.loading:563\u001b[0m][\u001b[32mINFO\u001b[0m] - aiflows/InterpreterFlowModule:main will be fetched from remote\u001b[0m\n"
     ]
    },
    {
     "name": "stderr",
     "output_type": "stream",
     "text": [
      "Fetching 22 files: 100%|██████████| 22/22 [00:00<00:00, 63769.65it/s]\n",
      "Fetching 22 files: 100%|██████████| 22/22 [00:00<00:00, 113359.57it/s]\n"
     ]
    },
    {
     "name": "stdout",
     "output_type": "stream",
     "text": [
      "[\u001b[36m2024-03-22 19:28:19,323\u001b[0m][\u001b[34maiflows.flow_verse.loading:825\u001b[0m][\u001b[32mINFO\u001b[0m] - \u001b[32m[<interactive>]\u001b[0m finished syncing\n",
      "\n",
      "\u001b[0m\n"
     ]
    },
    {
     "data": {
      "text/plain": [
       "['/Users/nicolasbaldwin/Documents/OneDrive/EPFL/DLAB/aiflow-colink/aiflows/AMLD/4.ChatWithInterpreter/flow_modules/aiflows/ChatFlowModule',\n",
       " '/Users/nicolasbaldwin/Documents/OneDrive/EPFL/DLAB/aiflow-colink/aiflows/AMLD/4.ChatWithInterpreter/flow_modules/aiflows/InterpreterFlowModule']"
      ]
     },
     "execution_count": 13,
     "metadata": {},
     "output_type": "execute_result"
    }
   ],
   "source": [
    "#Install dependencies from FlowVerse\n",
    "dependencies = [\n",
    "    {\"url\": \"aiflows/InterpreterFlowModule\", \"revision\": \"main\"},\n",
    "]\n",
    "from aiflows import flow_verse\n",
    "flow_verse.sync_dependencies(dependencies)\n"
   ]
  },
  {
   "cell_type": "code",
   "execution_count": 14,
   "metadata": {},
   "outputs": [
    {
     "name": "stdout",
     "output_type": "stream",
     "text": [
      "{\n",
      "    \"name\": \"InterpreterAtomicFlow\",\n",
      "    \"description\": \"A flow that compiles and runs codes\",\n",
      "    \"_target_\": \"flow_modules.aiflows.InterpreterFlowModule.InterpreterAtomicFlow.instantiate_from_default_config\",\n",
      "    \"max_output\": 2000,\n",
      "    \"input_interface\": [\n",
      "        \"language\",\n",
      "        \"code\"\n",
      "    ],\n",
      "    \"output_interface\": [\n",
      "        \"interpreter_output\"\n",
      "    ]\n",
      "}\n"
     ]
    }
   ],
   "source": [
    "#print it's default config\n",
    "\n",
    "interpreter_default_config = read_yaml_file(\"flow_modules/aiflows/InterpreterFlowModule/InterpreterAtomicFlow.yaml\")\n",
    "print(json.dumps(interpreter_default_config, indent=4))"
   ]
  },
  {
   "cell_type": "markdown",
   "metadata": {},
   "source": [
    "##### Serving the InterpreterFlowModule"
   ]
  },
  {
   "cell_type": "code",
   "execution_count": 15,
   "metadata": {},
   "outputs": [
    {
     "name": "stdout",
     "output_type": "stream",
     "text": [
      "[\u001b[36m2024-03-22 19:28:22,955\u001b[0m][\u001b[34maiflows.utils.serve_utils:116\u001b[0m][\u001b[32mINFO\u001b[0m] - Started serving flow_modules.aiflows.InterpreterFlowModule.InterpreterAtomicFlow at flows:InterpreterAtomicFlow.\u001b[0m\n",
      "[\u001b[36m2024-03-22 19:28:22,957\u001b[0m][\u001b[34maiflows.utils.serve_utils:117\u001b[0m][\u001b[32mINFO\u001b[0m] - dispatch_point: coflows_dispatch\u001b[0m\n",
      "[\u001b[36m2024-03-22 19:28:22,962\u001b[0m][\u001b[34maiflows.utils.serve_utils:118\u001b[0m][\u001b[32mINFO\u001b[0m] - parallel_dispatch: False\u001b[0m\n",
      "[\u001b[36m2024-03-22 19:28:22,965\u001b[0m][\u001b[34maiflows.utils.serve_utils:119\u001b[0m][\u001b[32mINFO\u001b[0m] - singleton: False\n",
      "\u001b[0m\n",
      "[\u001b[36m2024-03-22 19:28:22,968\u001b[0m][\u001b[34maiflows.workers.dispatch_worker:235\u001b[0m][\u001b[32mINFO\u001b[0m] - Dispatch worker started in attached thread.\u001b[0m\n",
      "[\u001b[36m2024-03-22 19:28:22,981\u001b[0m][\u001b[34maiflows.workers.dispatch_worker:236\u001b[0m][\u001b[32mINFO\u001b[0m] - dispatch_point: coflows_dispatch\u001b[0m\n"
     ]
    }
   ],
   "source": [
    "serve_utils.serve_flow(\n",
    "    cl=cl,\n",
    "    flow_class_name=\"flow_modules.aiflows.InterpreterFlowModule.InterpreterAtomicFlow\",\n",
    "    flow_endpoint=\"InterpreterAtomicFlow\",\n",
    ")\n",
    "run_dispatch_worker_thread(cl)"
   ]
  },
  {
   "cell_type": "markdown",
   "metadata": {},
   "source": [
    "##### Testing the InterpreterFlowModule"
   ]
  },
  {
   "cell_type": "code",
   "execution_count": 16,
   "metadata": {},
   "outputs": [
    {
     "name": "stdout",
     "output_type": "stream",
     "text": [
      "[\u001b[36m2024-03-22 19:28:25,691\u001b[0m][\u001b[34maiflows.utils.serve_utils:336\u001b[0m][\u001b[32mINFO\u001b[0m] - Mounted d2d6ab5d-f6ba-4366-b7ad-568950e37054 at flows:InterpreterAtomicFlow:mounts:local:d2d6ab5d-f6ba-4366-b7ad-568950e37054\u001b[0m\n"
     ]
    },
    {
     "name": "stdout",
     "output_type": "stream",
     "text": [
      "[\u001b[36m2024-03-22 19:28:25,759\u001b[0m][\u001b[34maiflows.workers.dispatch_worker:119\u001b[0m][\u001b[32mINFO\u001b[0m] - \n",
      "~~~ Dispatch task ~~~\u001b[0m\n",
      "[\u001b[36m2024-03-22 19:28:25,769\u001b[0m][\u001b[34maiflows.workers.dispatch_worker:161\u001b[0m][\u001b[32mINFO\u001b[0m] - flow_endpoint: InterpreterAtomicFlow\u001b[0m\n",
      "[\u001b[36m2024-03-22 19:28:25,771\u001b[0m][\u001b[34maiflows.workers.dispatch_worker:162\u001b[0m][\u001b[32mINFO\u001b[0m] - flow_id: d2d6ab5d-f6ba-4366-b7ad-568950e37054\u001b[0m\n",
      "[\u001b[36m2024-03-22 19:28:25,773\u001b[0m][\u001b[34maiflows.workers.dispatch_worker:163\u001b[0m][\u001b[32mINFO\u001b[0m] - owner_id: local\u001b[0m\n",
      "[\u001b[36m2024-03-22 19:28:25,775\u001b[0m][\u001b[34maiflows.workers.dispatch_worker:164\u001b[0m][\u001b[32mINFO\u001b[0m] - message_paths: ['push_tasks:6bb319c8-3fbd-45d2-9ead-8495901c6443:msg']\u001b[0m\n",
      "[\u001b[36m2024-03-22 19:28:25,776\u001b[0m][\u001b[34maiflows.workers.dispatch_worker:165\u001b[0m][\u001b[32mINFO\u001b[0m] - parallel_dispatch: False\n",
      "\u001b[0m\n",
      "[\u001b[36m2024-03-22 19:28:25,832\u001b[0m][\u001b[34maiflows.workers.dispatch_worker:188\u001b[0m][\u001b[32mINFO\u001b[0m] - Input message source: Proxy_InterpreterAtomicFlow\u001b[0m\n",
      "[\u001b[36m2024-03-22 19:28:47,866\u001b[0m][\u001b[34maiflows.workers.dispatch_worker:119\u001b[0m][\u001b[32mINFO\u001b[0m] - \n",
      "~~~ Dispatch task ~~~\u001b[0m\n",
      "[\u001b[36m2024-03-22 19:28:47,874\u001b[0m][\u001b[34maiflows.workers.dispatch_worker:161\u001b[0m][\u001b[32mINFO\u001b[0m] - flow_endpoint: CodeGenerator\u001b[0m\n",
      "[\u001b[36m2024-03-22 19:28:47,887\u001b[0m][\u001b[34maiflows.workers.dispatch_worker:162\u001b[0m][\u001b[32mINFO\u001b[0m] - flow_id: fd30e5f5-6bb6-4188-a80b-3fed3b746a70\u001b[0m\n",
      "[\u001b[36m2024-03-22 19:28:47,889\u001b[0m][\u001b[34maiflows.workers.dispatch_worker:163\u001b[0m][\u001b[32mINFO\u001b[0m] - owner_id: local\u001b[0m\n",
      "[\u001b[36m2024-03-22 19:28:47,890\u001b[0m][\u001b[34maiflows.workers.dispatch_worker:164\u001b[0m][\u001b[32mINFO\u001b[0m] - message_paths: ['push_tasks:55813eb5-13ba-48cc-8e5d-874cb8864d5a:msg']\u001b[0m\n",
      "[\u001b[36m2024-03-22 19:28:47,892\u001b[0m][\u001b[34maiflows.workers.dispatch_worker:165\u001b[0m][\u001b[32mINFO\u001b[0m] - parallel_dispatch: False\n",
      "\u001b[0m\n",
      "[\u001b[36m2024-03-22 19:28:48,032\u001b[0m][\u001b[34maiflows.workers.dispatch_worker:188\u001b[0m][\u001b[32mINFO\u001b[0m] - Input message source: Coder\u001b[0m\n",
      "[\u001b[36m2024-03-22 19:29:17,762\u001b[0m][\u001b[34maiflows.workers.dispatch_worker:119\u001b[0m][\u001b[32mINFO\u001b[0m] - \n",
      "~~~ Dispatch task ~~~\u001b[0m\n",
      "[\u001b[36m2024-03-22 19:29:17,794\u001b[0m][\u001b[34maiflows.workers.dispatch_worker:161\u001b[0m][\u001b[32mINFO\u001b[0m] - flow_endpoint: CodeGenerator\u001b[0m\n",
      "[\u001b[36m2024-03-22 19:29:17,795\u001b[0m][\u001b[34maiflows.workers.dispatch_worker:162\u001b[0m][\u001b[32mINFO\u001b[0m] - flow_id: fd30e5f5-6bb6-4188-a80b-3fed3b746a70\u001b[0m\n",
      "[\u001b[36m2024-03-22 19:29:17,796\u001b[0m][\u001b[34maiflows.workers.dispatch_worker:163\u001b[0m][\u001b[32mINFO\u001b[0m] - owner_id: local\u001b[0m\n",
      "[\u001b[36m2024-03-22 19:29:17,797\u001b[0m][\u001b[34maiflows.workers.dispatch_worker:164\u001b[0m][\u001b[32mINFO\u001b[0m] - message_paths: ['push_tasks:2f521f78-37b6-4ceb-bdd0-e38ddc4d03e3:msg']\u001b[0m\n",
      "[\u001b[36m2024-03-22 19:29:17,798\u001b[0m][\u001b[34maiflows.workers.dispatch_worker:165\u001b[0m][\u001b[32mINFO\u001b[0m] - parallel_dispatch: False\n",
      "\u001b[0m\n",
      "[\u001b[36m2024-03-22 19:29:17,930\u001b[0m][\u001b[34maiflows.workers.dispatch_worker:188\u001b[0m][\u001b[32mINFO\u001b[0m] - Input message source: Coder\u001b[0m\n"
     ]
    },
    {
     "name": "stdout",
     "output_type": "stream",
     "text": [
      "Data sent:\n",
      " {'language': 'Python', 'code': \"print('Hello, World!')\"} \n",
      "\n",
      "REPLY:\n",
      " {'interpreter_output': 'Hello, World!'} \n",
      "\n",
      "Data sent:\n",
      " {'language': 'Python', 'code': \"import yfinance as yf\\nyf.download('AAPL', start='2015-01-01', end='2016-01-01')\"} \n",
      "\n",
      "REPLY:\n",
      " {'interpreter_output': 'File \"<stdin>\", line 4, in <module>\\nModuleNotFoundError: No module named \\'yfinance\\''} \n",
      "\n"
     ]
    }
   ],
   "source": [
    "proxy_code_interpreter = serve_utils.get_flow_instance(\n",
    "    cl=cl,\n",
    "    flow_endpoint=\"InterpreterAtomicFlow\", #TODO: SPECIFY THE ENDPOINT\n",
    "    user_id=\"local\",\n",
    ")\n",
    "data = [\n",
    "    #should return \"Hello, World!\"\n",
    "    {\"language\": \"Python\", \"code\": \"print('Hello, World!')\"},\n",
    "    #should return an error\n",
    "    {\"language\": \"Python\", \"code\": \"import yfinance as yf\\nyf.download('AAPL', start='2015-01-01', end='2016-01-01')\"},\n",
    "]\n",
    "\n",
    "for dp in data:\n",
    "    input_message = proxy_code_interpreter.package_input_message(dp)\n",
    "    future = proxy_code_interpreter.get_reply_future(input_message)\n",
    "    reply_data = future.get_data()\n",
    "    print(\"Data sent:\\n\",  dp, \"\\n\")\n",
    "    print(\"REPLY:\\n\", reply_data, \"\\n\")"
   ]
  },
  {
   "cell_type": "markdown",
   "metadata": {},
   "source": [
    "### 1.3 Combining the CodeGenerator and Interpreter Flow Modules (ChatCodeInterpreter Flow)\n",
    "\n",
    "Now that we have both the CodeGenerator and Interpreter Flow Modules, we can combine them to create a ChatCodeInterpreter Flow. This flow will leverage the CodeGenerator to generate code based on user prompts, and the Interpreter to execute the generated code. The CodeGenerator will decide when to finish generating the code and return the final output (see system prompt template)"
   ]
  },
  {
   "cell_type": "markdown",
   "metadata": {},
   "source": [
    "##### Writing the default config of the ChatCodeInterpreter Flow"
   ]
  },
  {
   "cell_type": "code",
   "execution_count": 17,
   "metadata": {},
   "outputs": [],
   "source": [
    "init_human_prompt_template = \\\n",
    "\"\"\"\n",
    "Here is the goal you need to achieve:\n",
    "{{goal}}\"\n",
    "Feedback:\n",
    "Do not finish this goal yet. You will receive feedback on the code you write.\n",
    "\"\"\"\n"
   ]
  },
  {
   "cell_type": "code",
   "execution_count": 18,
   "metadata": {},
   "outputs": [],
   "source": [
    "default_config_ChatCodeInterpreter = \\\n",
    "{\n",
    "    \"name\": \"ChatCodeInterpreter\",\n",
    "    \"description\": \"A code which generate code with the help of a interpreter\",\n",
    "\n",
    "    # TODO: Define the target\n",
    "    \"_target_\": \"ChatCodeInterpreterFlowModule.ChatCodeInterpreter.ChatCodeInterpreter.instantiate_from_default_config\",\n",
    "\n",
    "    \"input_interface\": \"goal\",\n",
    "    \"output_interface\": [\"code\",\"interpreter_output\"],\n",
    "    \n",
    "    \"subflows_config\": {\n",
    "        \"Coder\": {\n",
    "            \"user_id\": \"local\",\n",
    "            \"flow_endpoint\": \"CodeGenerator\",\n",
    "            \"name\": \"Proxy of Coder\",\n",
    "            \"description\": \"A proxy flow of the Coder flow.\",\n",
    "             \"backend\": {\n",
    "                \"api_infos\": \"???\",\n",
    "                \"model_name\": {\"openai\": \"gpt-4\"}\n",
    "            },\n",
    "             \"init_human_message_prompt_template\": {\n",
    "                \"template\": f'{init_human_prompt_template}',\n",
    "                \"input_variables\": [\"goal\"]\n",
    "             }\n",
    "        },\n",
    "        \"Interpreter\": {\n",
    "           \n",
    "            \"user_id\": \"local\",\n",
    "            \n",
    "            \"flow_endpoint\": \"InterpreterAtomicFlow\",\n",
    "            \"name\": \"Proxy of Interpreter Flow\",\n",
    "            \"description\": \"A proxy flow of the Interpreter Flow.\",\n",
    "        }\n",
    "    }\n",
    "}\n",
    "dict_to_yaml(default_config_ChatCodeInterpreter, \"ChatCodeInterpreterFlowModule/ChatCodeInterpreter.yaml\")"
   ]
  },
  {
   "cell_type": "markdown",
   "metadata": {},
   "source": [
    "##### Writing the ChatCodeInterpreter Flow\n"
   ]
  },
  {
   "cell_type": "code",
   "execution_count": 19,
   "metadata": {},
   "outputs": [],
   "source": [
    "%%compile_and_writefile ChatCodeInterpreterFlowModule/ChatCodeInterpreter.py\n",
    "\n",
    "from aiflows.base_flows import CompositeFlow\n",
    "from aiflows.messages import FlowMessage\n",
    "from aiflows.interfaces import KeyInterface\n",
    "\n",
    "class ChatCodeInterpreter(CompositeFlow):\n",
    "        \n",
    "    def __init__(self,**kwargs):\n",
    "        super().__init__(**kwargs)\n",
    "        # Input to generate reply\n",
    "        self.input_interface_generate_reply = KeyInterface(\n",
    "            keys_to_rename={\"question\": \"prompt\"},\n",
    "            keys_to_select=[\"code\", \"interpreter_output\"]\n",
    "        )\n",
    "        \n",
    "        # Input to call the coder\n",
    "        self.first_input_interface_coder = KeyInterface(\n",
    "            keys_to_select=[\"goal\"]\n",
    "        )\n",
    "        \n",
    "        # Input to call the interpreter\n",
    "        self.input_interface_coder = KeyInterface(\n",
    "            keys_to_rename={\"code\": \"previous_code\", \"interpreter_output\": \"feedback\"},\n",
    "            keys_to_select=[\"goal\", \"previous_code\", \"feedback\"]\n",
    "        )\n",
    "        \n",
    "        # Input to call the interpreter\n",
    "        self.input_interface_interpreter = KeyInterface(\n",
    "            keys_to_rename={\"code\": \"code\", \"language_of_code\": \"language\"},\n",
    "            keys_to_select=[\"code\", \"language\"]\n",
    "        )\n",
    "        \n",
    "    def set_up_flow_state(self):\n",
    "        \"\"\" Set up the flow state. (called in __init__)\"\"\"\n",
    "        super().set_up_flow_state()\n",
    "        self.flow_state[\"previous_state\"] = None\n",
    "        self.flow_state[\"first_round\"] = True\n",
    "\n",
    "    def determine_current_state(self):\n",
    "        \"\"\" Determine the current state of the flow.\"\"\"\n",
    "        previous_state = self.flow_state[\"previous_state\"]\n",
    "        \n",
    "        if previous_state is None:\n",
    "            return \"Coder\"\n",
    "        \n",
    "        elif previous_state == \"Coder\":\n",
    "            return \"Interpreter\"\n",
    "            \n",
    "        elif previous_state == \"Interpreter\":\n",
    "            if self.flow_state[\"finish\"] and not self.flow_state[\"first_round\"]:\n",
    "                curr_state = \"GenerateReply\"\n",
    "            else:\n",
    "                curr_state = \"Coder\"\n",
    "            self.flow_state[\"first_round\"] = False\n",
    "            return curr_state\n",
    "        \n",
    "        elif \"GenerateReply\":\n",
    "            return None\n",
    "        \n",
    "        else:\n",
    "            raise ValueError(f\"Invalid state: {previous_state}\")\n",
    "                        \n",
    "    def call_coder(self):\n",
    "        \"\"\" Call the coder subflow.\"\"\"\n",
    "        if self.flow_state[\"previous_state\"] is None:\n",
    "            input_interface = self.first_input_interface_coder\n",
    "        else:\n",
    "            input_interface = self.input_interface_coder\n",
    "        \n",
    "        message = self.package_input_message(\n",
    "            data = input_interface(self.flow_state),\n",
    "            dst_flow = \"Coder\"\n",
    "        )\n",
    "        self.subflows[\"Coder\"].get_reply(\n",
    "            message,\n",
    "        )\n",
    "        \n",
    "    def call_interpreter(self):\n",
    "        \"\"\" Call the interpreter subflow.\"\"\"\n",
    "        input_interface = self.input_interface_interpreter\n",
    "        \n",
    "        message = self.package_input_message(\n",
    "            data = input_interface(self.flow_state),\n",
    "            dst_flow = \"Interpreter\"\n",
    "        )\n",
    "        \n",
    "        self.subflows[\"Interpreter\"].get_reply(\n",
    "                message,\n",
    "        )\n",
    "        \n",
    "    def generate_reply(self):\n",
    "          \n",
    "        input_interface = self.input_interface_generate_reply\n",
    "          \n",
    "        reply = self.package_output_message(\n",
    "            input_message=self.flow_state[\"initial_message\"],\n",
    "            response=input_interface(self.flow_state),\n",
    "        )\n",
    "        self.send_message(reply)\n",
    "        \n",
    "    def register_data_to_state(self, input_message):\n",
    "        \"\"\" Register the data from the input message to the flow state.\"\"\"\n",
    "        previous_state = self.flow_state[\"previous_state\"]\n",
    "        \n",
    "        #first call to flow\n",
    "        if previous_state is None:\n",
    "            #register initial message so we can reply to it later\n",
    "            self.flow_state[\"initial_message\"] = input_message\n",
    "            #register the question\n",
    "            self.flow_state[\"goal\"] = input_message.data[\"goal\"]\n",
    "        \n",
    "        elif previous_state == \"Coder\":\n",
    "            self.flow_state[\"code\"] = input_message.data[\"code\"]\n",
    "            self.flow_state[\"language_of_code\"] = input_message.data[\"language_of_code\"]\n",
    "            self.flow_state[\"finish\"] = input_message.data[\"finish\"]\n",
    "        \n",
    "        #case where our last call was to the safeguard\n",
    "        elif previous_state == \"Interpreter\":\n",
    "            self.flow_state[\"interpreter_output\"] = input_message.data[\"interpreter_output\"]\n",
    "\n",
    "   \n",
    "    def run(self, input_message: FlowMessage):\n",
    "        \"\"\" Run the flow.\"\"\"\n",
    "        self.register_data_to_state(input_message)\n",
    "        \n",
    "        current_state = self.determine_current_state()\n",
    "        \n",
    "        #call the appropriate function based on the current state\n",
    "        if current_state == \"Coder\":\n",
    "            self.call_coder()\n",
    "            \n",
    "        elif current_state == \"Interpreter\":\n",
    "            self.call_interpreter()\n",
    "            \n",
    "        elif current_state == \"GenerateReply\":\n",
    "            self.generate_reply()\n",
    "        \n",
    "        self.flow_state[\"previous_state\"] = current_state if current_state != \"GenerateReply\" else None"
   ]
  },
  {
   "cell_type": "markdown",
   "metadata": {},
   "source": [
    "##### Serve the ChatCodeInterpreter Flow"
   ]
  },
  {
   "cell_type": "code",
   "execution_count": 20,
   "metadata": {},
   "outputs": [
    {
     "name": "stdout",
     "output_type": "stream",
     "text": [
      "[\u001b[36m2024-03-22 19:28:36,247\u001b[0m][\u001b[34maiflows.utils.serve_utils:116\u001b[0m][\u001b[32mINFO\u001b[0m] - Started serving ChatCodeInterpreterFlowModule.ChatCodeInterpreter.ChatCodeInterpreter at flows:ChatCodeInterpreter.\u001b[0m\n",
      "[\u001b[36m2024-03-22 19:28:36,254\u001b[0m][\u001b[34maiflows.utils.serve_utils:117\u001b[0m][\u001b[32mINFO\u001b[0m] - dispatch_point: coflows_dispatch\u001b[0m\n",
      "[\u001b[36m2024-03-22 19:28:36,255\u001b[0m][\u001b[34maiflows.utils.serve_utils:118\u001b[0m][\u001b[32mINFO\u001b[0m] - parallel_dispatch: False\u001b[0m\n",
      "[\u001b[36m2024-03-22 19:28:36,259\u001b[0m][\u001b[34maiflows.utils.serve_utils:119\u001b[0m][\u001b[32mINFO\u001b[0m] - singleton: False\n",
      "\u001b[0m\n",
      "[\u001b[36m2024-03-22 19:28:36,262\u001b[0m][\u001b[34maiflows.workers.dispatch_worker:235\u001b[0m][\u001b[32mINFO\u001b[0m] - Dispatch worker started in attached thread.\u001b[0m\n",
      "[\u001b[36m2024-03-22 19:28:36,264\u001b[0m][\u001b[34maiflows.workers.dispatch_worker:236\u001b[0m][\u001b[32mINFO\u001b[0m] - dispatch_point: coflows_dispatch\u001b[0m\n"
     ]
    }
   ],
   "source": [
    "serve_utils.serve_flow(\n",
    "    cl=cl,\n",
    "    flow_class_name=\"ChatCodeInterpreterFlowModule.ChatCodeInterpreter.ChatCodeInterpreter\",\n",
    "    flow_endpoint=\"ChatCodeInterpreter\",\n",
    ")\n",
    "\n",
    "run_dispatch_worker_thread(cl)"
   ]
  },
  {
   "cell_type": "code",
   "execution_count": 21,
   "metadata": {},
   "outputs": [
    {
     "name": "stdout",
     "output_type": "stream",
     "text": [
      "WARNING: Skipping yfinance as it is not installed.\n"
     ]
    }
   ],
   "source": [
    "#make sure we don't have yfinacne installed\n",
    "!pip uninstall yfinance -y"
   ]
  },
  {
   "cell_type": "markdown",
   "metadata": {},
   "source": [
    "##### Testing the ChatCodeInterpreter Flow\n",
    "\n",
    "Now let's test the ChatCodeInterpreter Flow by prompting the chatbot with the same task as before: \"Download Apple's stock prices, plot them, and save them in a PDF.\" The chatbot should generate code that accomplishes this task, and the interpreter should execute the generated code (including installing the necessary packages)."
   ]
  },
  {
   "cell_type": "code",
   "execution_count": 22,
   "metadata": {},
   "outputs": [
    {
     "name": "stdout",
     "output_type": "stream",
     "text": [
      "[\u001b[36m2024-03-22 19:28:47,518\u001b[0m][\u001b[34maiflows.utils.serve_utils:336\u001b[0m][\u001b[32mINFO\u001b[0m] - Mounted fd30e5f5-6bb6-4188-a80b-3fed3b746a70 at flows:CodeGenerator:mounts:local:fd30e5f5-6bb6-4188-a80b-3fed3b746a70\u001b[0m\n",
      "[\u001b[36m2024-03-22 19:28:47,563\u001b[0m][\u001b[34maiflows.utils.serve_utils:336\u001b[0m][\u001b[32mINFO\u001b[0m] - Mounted 99aed26d-2f14-4dcf-bced-6838368cd077 at flows:InterpreterAtomicFlow:mounts:local:99aed26d-2f14-4dcf-bced-6838368cd077\u001b[0m\n",
      "[\u001b[36m2024-03-22 19:28:47,589\u001b[0m][\u001b[34maiflows.utils.serve_utils:336\u001b[0m][\u001b[32mINFO\u001b[0m] - Mounted b43f2aa4-dba7-46fa-bc4d-3fdc4014e809 at flows:ChatCodeInterpreter:mounts:local:b43f2aa4-dba7-46fa-bc4d-3fdc4014e809\u001b[0m\n",
      "Data sent:\n",
      " {'id': 0, 'goal': \"Download Apple's stock price between 2015 and 2016, make a plot with it,         and save it as a pdf in Download Apple's stock price between 2015 and 2016, make a plot with             it and save it as a pdf in 'apple_stocks.pdf'\"} \n",
      "\n",
      "REPLY:\n",
      " {'code': \"import os\\nimport matplotlib.pyplot as plt\\nimport pandas as pd\\nimport subprocess\\n\\n# Install yfinance package\\nsubprocess.check_call(['python', '-m', 'pip', 'install', 'yfinance'])\\nimport yfinance as yf\\nfrom matplotlib.backends.backend_pdf import PdfPages\\n\\ndef download_and_plot_apple_stock():\\n    '''\\n    This function downloads Apple's stock price between 2015 and 2016, plots it and saves it as a pdf in 'apple_stocks.pdf'\\n    '''\\n    # Download Apple's stock price data\\n    data = yf.download('AAPL', start='2015-01-01', end='2016-12-31')\\n\\n    # Plot the closing price\\n    plt.figure(figsize=(10, 8))\\n    plt.plot(data['Close'])\\n    plt.title('Apple Stock Prices (2015-2016)')\\n    plt.xlabel('Date')\\n    plt.ylabel('Closing Price (USD)')\\n\\n    # Save the plot as a pdf\\n    pdf_pages = PdfPages('apple_stocks.pdf')\\n    pdf_pages.savefig(plt.gcf(), bbox_inches='tight')\\n    pdf_pages.close()\\n\\ndownload_and_plot_apple_stock()\\n\", 'interpreter_output': 'Output truncated. Showing the last 2000 characters.\\n\\n1 in /Users/nicolasbaldwin/opt/miniconda3/envs/mockenv/lib/python3.11/site-packages (from yfinance) (4.12.3)\\nRequirement already satisfied: html5lib>=1.1 in /Users/nicolasbaldwin/opt/miniconda3/envs/mockenv/lib/python3.11/site-packages (from yfinance) (1.1)\\nRequirement already satisfied: soupsieve>1.2 in /Users/nicolasbaldwin/opt/miniconda3/envs/mockenv/lib/python3.11/site-packages (from beautifulsoup4>=4.11.1->yfinance) (2.5)\\nRequirement already satisfied: six>=1.9 in /Users/nicolasbaldwin/opt/miniconda3/envs/mockenv/lib/python3.11/site-packages (from html5lib>=1.1->yfinance) (1.16.0)\\nRequirement already satisfied: webencodings in /Users/nicolasbaldwin/opt/miniconda3/envs/mockenv/lib/python3.11/site-packages (from html5lib>=1.1->yfinance) (0.5.1)\\nRequirement already satisfied: python-dateutil>=2.8.2 in /Users/nicolasbaldwin/opt/miniconda3/envs/mockenv/lib/python3.11/site-packages (from pandas>=1.3.0->yfinance) (2.9.0)\\nRequirement already satisfied: tzdata>=2022.7 in /Users/nicolasbaldwin/opt/miniconda3/envs/mockenv/lib/python3.11/site-packages (from pandas>=1.3.0->yfinance) (2024.1)\\nRequirement already satisfied: charset-normalizer<4,>=2 in /Users/nicolasbaldwin/opt/miniconda3/envs/mockenv/lib/python3.11/site-packages (from requests>=2.31->yfinance) (3.3.2)\\nRequirement already satisfied: idna<4,>=2.5 in /Users/nicolasbaldwin/opt/miniconda3/envs/mockenv/lib/python3.11/site-packages (from requests>=2.31->yfinance) (3.6)\\nRequirement already satisfied: urllib3<3,>=1.21.1 in /Users/nicolasbaldwin/opt/miniconda3/envs/mockenv/lib/python3.11/site-packages (from requests>=2.31->yfinance) (2.2.1)\\nRequirement already satisfied: certifi>=2017.4.17 in /Users/nicolasbaldwin/opt/miniconda3/envs/mockenv/lib/python3.11/site-packages (from requests>=2.31->yfinance) (2023.11.17)\\nUsing cached yfinance-0.2.37-py2.py3-none-any.whl (72 kB)\\nInstalling collected packages: yfinance\\nSuccessfully installed yfinance-0.2.37\\n0\\n[*********************100%%**********************]  1 of 1 completed'} \n",
      "\n"
     ]
    },
    {
     "name": "stdout",
     "output_type": "stream",
     "text": [
      "[\u001b[36m2024-03-22 19:28:47,659\u001b[0m][\u001b[34maiflows.workers.dispatch_worker:119\u001b[0m][\u001b[32mINFO\u001b[0m] - \n",
      "~~~ Dispatch task ~~~\u001b[0m\n",
      "[\u001b[36m2024-03-22 19:28:47,671\u001b[0m][\u001b[34maiflows.workers.dispatch_worker:161\u001b[0m][\u001b[32mINFO\u001b[0m] - flow_endpoint: ChatCodeInterpreter\u001b[0m\n",
      "[\u001b[36m2024-03-22 19:28:47,673\u001b[0m][\u001b[34maiflows.workers.dispatch_worker:162\u001b[0m][\u001b[32mINFO\u001b[0m] - flow_id: b43f2aa4-dba7-46fa-bc4d-3fdc4014e809\u001b[0m\n",
      "[\u001b[36m2024-03-22 19:28:47,675\u001b[0m][\u001b[34maiflows.workers.dispatch_worker:163\u001b[0m][\u001b[32mINFO\u001b[0m] - owner_id: local\u001b[0m\n",
      "[\u001b[36m2024-03-22 19:28:47,676\u001b[0m][\u001b[34maiflows.workers.dispatch_worker:164\u001b[0m][\u001b[32mINFO\u001b[0m] - message_paths: ['push_tasks:88ac1ca5-1474-48ba-bb15-b47d2103a76a:msg']\u001b[0m\n",
      "[\u001b[36m2024-03-22 19:28:47,677\u001b[0m][\u001b[34maiflows.workers.dispatch_worker:165\u001b[0m][\u001b[32mINFO\u001b[0m] - parallel_dispatch: False\n",
      "\u001b[0m\n",
      "[\u001b[36m2024-03-22 19:28:47,819\u001b[0m][\u001b[34maiflows.workers.dispatch_worker:188\u001b[0m][\u001b[32mINFO\u001b[0m] - Input message source: Proxy_ChatCodeInterpreter\u001b[0m\n",
      "[\u001b[36m2024-03-22 19:29:17,497\u001b[0m][\u001b[34maiflows.workers.dispatch_worker:119\u001b[0m][\u001b[32mINFO\u001b[0m] - \n",
      "~~~ Dispatch task ~~~\u001b[0m\n",
      "[\u001b[36m2024-03-22 19:29:17,524\u001b[0m][\u001b[34maiflows.workers.dispatch_worker:161\u001b[0m][\u001b[32mINFO\u001b[0m] - flow_endpoint: ChatCodeInterpreter\u001b[0m\n",
      "[\u001b[36m2024-03-22 19:29:17,532\u001b[0m][\u001b[34maiflows.workers.dispatch_worker:162\u001b[0m][\u001b[32mINFO\u001b[0m] - flow_id: b43f2aa4-dba7-46fa-bc4d-3fdc4014e809\u001b[0m\n",
      "[\u001b[36m2024-03-22 19:29:17,547\u001b[0m][\u001b[34maiflows.workers.dispatch_worker:163\u001b[0m][\u001b[32mINFO\u001b[0m] - owner_id: local\u001b[0m\n",
      "[\u001b[36m2024-03-22 19:29:17,558\u001b[0m][\u001b[34maiflows.workers.dispatch_worker:164\u001b[0m][\u001b[32mINFO\u001b[0m] - message_paths: ['push_tasks:27a72c20-4542-4dc7-b4c2-55f8783a0b81:msg']\u001b[0m\n",
      "[\u001b[36m2024-03-22 19:29:17,566\u001b[0m][\u001b[34maiflows.workers.dispatch_worker:165\u001b[0m][\u001b[32mINFO\u001b[0m] - parallel_dispatch: False\n",
      "\u001b[0m\n",
      "[\u001b[36m2024-03-22 19:29:17,734\u001b[0m][\u001b[34maiflows.workers.dispatch_worker:188\u001b[0m][\u001b[32mINFO\u001b[0m] - Input message source: Proxy of Interpreter Flow\u001b[0m\n",
      "[\u001b[36m2024-03-22 19:29:44,975\u001b[0m][\u001b[34maiflows.workers.dispatch_worker:119\u001b[0m][\u001b[32mINFO\u001b[0m] - \n",
      "~~~ Dispatch task ~~~\u001b[0m\n",
      "[\u001b[36m2024-03-22 19:29:45,002\u001b[0m][\u001b[34maiflows.workers.dispatch_worker:161\u001b[0m][\u001b[32mINFO\u001b[0m] - flow_endpoint: ChatCodeInterpreter\u001b[0m\n",
      "[\u001b[36m2024-03-22 19:29:45,003\u001b[0m][\u001b[34maiflows.workers.dispatch_worker:162\u001b[0m][\u001b[32mINFO\u001b[0m] - flow_id: b43f2aa4-dba7-46fa-bc4d-3fdc4014e809\u001b[0m\n",
      "[\u001b[36m2024-03-22 19:29:45,005\u001b[0m][\u001b[34maiflows.workers.dispatch_worker:163\u001b[0m][\u001b[32mINFO\u001b[0m] - owner_id: local\u001b[0m\n",
      "[\u001b[36m2024-03-22 19:29:45,008\u001b[0m][\u001b[34maiflows.workers.dispatch_worker:164\u001b[0m][\u001b[32mINFO\u001b[0m] - message_paths: ['push_tasks:84e09b47-2b4c-4304-904e-ab1f75b51294:msg']\u001b[0m\n",
      "[\u001b[36m2024-03-22 19:29:45,009\u001b[0m][\u001b[34maiflows.workers.dispatch_worker:165\u001b[0m][\u001b[32mINFO\u001b[0m] - parallel_dispatch: False\n",
      "\u001b[0m\n",
      "[\u001b[36m2024-03-22 19:29:45,095\u001b[0m][\u001b[34maiflows.workers.dispatch_worker:188\u001b[0m][\u001b[32mINFO\u001b[0m] - Input message source: Proxy of Interpreter Flow\u001b[0m\n"
     ]
    },
    {
     "name": "stdout",
     "output_type": "stream",
     "text": [
      "[\u001b[36m2024-03-22 19:29:13,913\u001b[0m][\u001b[34maiflows.workers.dispatch_worker:119\u001b[0m][\u001b[32mINFO\u001b[0m] - \n",
      "~~~ Dispatch task ~~~\u001b[0m\n",
      "[\u001b[36m2024-03-22 19:29:13,922\u001b[0m][\u001b[34maiflows.workers.dispatch_worker:161\u001b[0m][\u001b[32mINFO\u001b[0m] - flow_endpoint: InterpreterAtomicFlow\u001b[0m\n",
      "[\u001b[36m2024-03-22 19:29:13,923\u001b[0m][\u001b[34maiflows.workers.dispatch_worker:162\u001b[0m][\u001b[32mINFO\u001b[0m] - flow_id: 99aed26d-2f14-4dcf-bced-6838368cd077\u001b[0m\n",
      "[\u001b[36m2024-03-22 19:29:13,924\u001b[0m][\u001b[34maiflows.workers.dispatch_worker:163\u001b[0m][\u001b[32mINFO\u001b[0m] - owner_id: local\u001b[0m\n",
      "[\u001b[36m2024-03-22 19:29:13,925\u001b[0m][\u001b[34maiflows.workers.dispatch_worker:164\u001b[0m][\u001b[32mINFO\u001b[0m] - message_paths: ['push_tasks:37e00c16-0b6f-4bcc-8a33-fbe22073be91:msg']\u001b[0m\n",
      "[\u001b[36m2024-03-22 19:29:13,926\u001b[0m][\u001b[34maiflows.workers.dispatch_worker:165\u001b[0m][\u001b[32mINFO\u001b[0m] - parallel_dispatch: False\n",
      "\u001b[0m\n",
      "[\u001b[36m2024-03-22 19:29:13,990\u001b[0m][\u001b[34maiflows.workers.dispatch_worker:188\u001b[0m][\u001b[32mINFO\u001b[0m] - Input message source: Interpreter\u001b[0m\n",
      "[\u001b[36m2024-03-22 19:29:32,733\u001b[0m][\u001b[34maiflows.workers.dispatch_worker:119\u001b[0m][\u001b[32mINFO\u001b[0m] - \n",
      "~~~ Dispatch task ~~~\u001b[0m\n",
      "[\u001b[36m2024-03-22 19:29:32,745\u001b[0m][\u001b[34maiflows.workers.dispatch_worker:161\u001b[0m][\u001b[32mINFO\u001b[0m] - flow_endpoint: InterpreterAtomicFlow\u001b[0m\n",
      "[\u001b[36m2024-03-22 19:29:32,746\u001b[0m][\u001b[34maiflows.workers.dispatch_worker:162\u001b[0m][\u001b[32mINFO\u001b[0m] - flow_id: 99aed26d-2f14-4dcf-bced-6838368cd077\u001b[0m\n",
      "[\u001b[36m2024-03-22 19:29:32,746\u001b[0m][\u001b[34maiflows.workers.dispatch_worker:163\u001b[0m][\u001b[32mINFO\u001b[0m] - owner_id: local\u001b[0m\n",
      "[\u001b[36m2024-03-22 19:29:32,747\u001b[0m][\u001b[34maiflows.workers.dispatch_worker:164\u001b[0m][\u001b[32mINFO\u001b[0m] - message_paths: ['push_tasks:d8638eab-24d6-4b89-950b-217d9f7bddac:msg']\u001b[0m\n",
      "[\u001b[36m2024-03-22 19:29:32,748\u001b[0m][\u001b[34maiflows.workers.dispatch_worker:165\u001b[0m][\u001b[32mINFO\u001b[0m] - parallel_dispatch: False\n",
      "\u001b[0m\n",
      "[\u001b[36m2024-03-22 19:29:32,798\u001b[0m][\u001b[34maiflows.workers.dispatch_worker:188\u001b[0m][\u001b[32mINFO\u001b[0m] - Input message source: Interpreter\u001b[0m\n"
     ]
    }
   ],
   "source": [
    "\n",
    "default_config = default_config_ChatCodeInterpreter\n",
    "overrides = copy.deepcopy(default_config)\n",
    "api_information = [ApiInfo(backend_used=\"openai\", api_key=os.getenv(\"OPENAI_API_KEY\"))]\n",
    "quick_load_api_keys(overrides, api_information)\n",
    "\n",
    "proxy_code_generator = serve_utils.get_flow_instance(\n",
    "    cl=cl,\n",
    "    flow_endpoint=\"ChatCodeInterpreter\", #TODO: SPECIFY THE ENDPOINT\n",
    "    user_id=\"local\",\n",
    "    config_overrides=overrides,\n",
    ")\n",
    "data = [\n",
    "    {\"id\": 0, \"goal\": \"Download Apple's stock price between 2015 and 2016, make a plot with it, \\\n",
    "        and save it as a pdf in Download Apple's stock price between 2015 and 2016, make a plot with \\\n",
    "            it and save it as a pdf in 'apple_stocks.pdf'\"},\n",
    "]\n",
    "\n",
    "for dp in data:\n",
    "    input_message = proxy_code_generator.package_input_message(dp)\n",
    "    future = proxy_code_generator.get_reply_future(input_message)\n",
    "    reply_data = future.get_data()\n",
    "    print(\"Data sent:\\n\",  dp, \"\\n\")\n",
    "    print(\"REPLY:\\n\", reply_data, \"\\n\")"
   ]
  },
  {
   "cell_type": "markdown",
   "metadata": {},
   "source": [
    "Note how a pdf named `apple_stock_prices.pdf` is saved in the current directory. This is the pdf that was generated by the ChatAtomicFlow executerd by the interpreter Flow.\n",
    "\n",
    "You can also check out the code it generated:"
   ]
  },
  {
   "cell_type": "code",
   "execution_count": 23,
   "metadata": {},
   "outputs": [
    {
     "name": "stdout",
     "output_type": "stream",
     "text": [
      "import os\n",
      "import matplotlib.pyplot as plt\n",
      "import pandas as pd\n",
      "import subprocess\n",
      "\n",
      "# Install yfinance package\n",
      "subprocess.check_call(['python', '-m', 'pip', 'install', 'yfinance'])\n",
      "import yfinance as yf\n",
      "from matplotlib.backends.backend_pdf import PdfPages\n",
      "\n",
      "def download_and_plot_apple_stock():\n",
      "    '''\n",
      "    This function downloads Apple's stock price between 2015 and 2016, plots it and saves it as a pdf in 'apple_stocks.pdf'\n",
      "    '''\n",
      "    # Download Apple's stock price data\n",
      "    data = yf.download('AAPL', start='2015-01-01', end='2016-12-31')\n",
      "\n",
      "    # Plot the closing price\n",
      "    plt.figure(figsize=(10, 8))\n",
      "    plt.plot(data['Close'])\n",
      "    plt.title('Apple Stock Prices (2015-2016)')\n",
      "    plt.xlabel('Date')\n",
      "    plt.ylabel('Closing Price (USD)')\n",
      "\n",
      "    # Save the plot as a pdf\n",
      "    pdf_pages = PdfPages('apple_stocks.pdf')\n",
      "    pdf_pages.savefig(plt.gcf(), bbox_inches='tight')\n",
      "    pdf_pages.close()\n",
      "\n",
      "download_and_plot_apple_stock()\n",
      "\n"
     ]
    }
   ],
   "source": [
    "print(reply_data[\"code\"])"
   ]
  },
  {
   "cell_type": "markdown",
   "metadata": {},
   "source": [
    "If you copy paste the code in a new cell it should also run since it installed the necessary packages !"
   ]
  },
  {
   "cell_type": "code",
   "execution_count": 24,
   "metadata": {},
   "outputs": [
    {
     "name": "stdout",
     "output_type": "stream",
     "text": [
      "Requirement already satisfied: yfinance in /Users/nicolasbaldwin/opt/miniconda3/envs/mockenv/lib/python3.11/site-packages (0.2.37)\n",
      "Requirement already satisfied: pandas>=1.3.0 in /Users/nicolasbaldwin/opt/miniconda3/envs/mockenv/lib/python3.11/site-packages (from yfinance) (2.2.1)\n",
      "Requirement already satisfied: numpy>=1.16.5 in /Users/nicolasbaldwin/opt/miniconda3/envs/mockenv/lib/python3.11/site-packages (from yfinance) (1.26.4)\n",
      "Requirement already satisfied: requests>=2.31 in /Users/nicolasbaldwin/opt/miniconda3/envs/mockenv/lib/python3.11/site-packages (from yfinance) (2.31.0)\n",
      "Requirement already satisfied: multitasking>=0.0.7 in /Users/nicolasbaldwin/opt/miniconda3/envs/mockenv/lib/python3.11/site-packages (from yfinance) (0.0.11)\n",
      "Requirement already satisfied: lxml>=4.9.1 in /Users/nicolasbaldwin/opt/miniconda3/envs/mockenv/lib/python3.11/site-packages (from yfinance) (5.1.0)\n",
      "Requirement already satisfied: appdirs>=1.4.4 in /Users/nicolasbaldwin/opt/miniconda3/envs/mockenv/lib/python3.11/site-packages (from yfinance) (1.4.4)\n",
      "Requirement already satisfied: pytz>=2022.5 in /Users/nicolasbaldwin/opt/miniconda3/envs/mockenv/lib/python3.11/site-packages (from yfinance) (2024.1)\n",
      "Requirement already satisfied: frozendict>=2.3.4 in /Users/nicolasbaldwin/opt/miniconda3/envs/mockenv/lib/python3.11/site-packages (from yfinance) (2.4.0)\n",
      "Requirement already satisfied: peewee>=3.16.2 in /Users/nicolasbaldwin/opt/miniconda3/envs/mockenv/lib/python3.11/site-packages (from yfinance) (3.17.1)\n",
      "Requirement already satisfied: beautifulsoup4>=4.11.1 in /Users/nicolasbaldwin/opt/miniconda3/envs/mockenv/lib/python3.11/site-packages (from yfinance) (4.12.3)\n",
      "Requirement already satisfied: html5lib>=1.1 in /Users/nicolasbaldwin/opt/miniconda3/envs/mockenv/lib/python3.11/site-packages (from yfinance) (1.1)\n",
      "Requirement already satisfied: soupsieve>1.2 in /Users/nicolasbaldwin/opt/miniconda3/envs/mockenv/lib/python3.11/site-packages (from beautifulsoup4>=4.11.1->yfinance) (2.5)\n",
      "Requirement already satisfied: six>=1.9 in /Users/nicolasbaldwin/opt/miniconda3/envs/mockenv/lib/python3.11/site-packages (from html5lib>=1.1->yfinance) (1.16.0)\n",
      "Requirement already satisfied: webencodings in /Users/nicolasbaldwin/opt/miniconda3/envs/mockenv/lib/python3.11/site-packages (from html5lib>=1.1->yfinance) (0.5.1)\n",
      "Requirement already satisfied: python-dateutil>=2.8.2 in /Users/nicolasbaldwin/opt/miniconda3/envs/mockenv/lib/python3.11/site-packages (from pandas>=1.3.0->yfinance) (2.9.0)\n",
      "Requirement already satisfied: tzdata>=2022.7 in /Users/nicolasbaldwin/opt/miniconda3/envs/mockenv/lib/python3.11/site-packages (from pandas>=1.3.0->yfinance) (2024.1)\n",
      "Requirement already satisfied: charset-normalizer<4,>=2 in /Users/nicolasbaldwin/opt/miniconda3/envs/mockenv/lib/python3.11/site-packages (from requests>=2.31->yfinance) (3.3.2)\n",
      "Requirement already satisfied: idna<4,>=2.5 in /Users/nicolasbaldwin/opt/miniconda3/envs/mockenv/lib/python3.11/site-packages (from requests>=2.31->yfinance) (3.6)\n",
      "Requirement already satisfied: urllib3<3,>=1.21.1 in /Users/nicolasbaldwin/opt/miniconda3/envs/mockenv/lib/python3.11/site-packages (from requests>=2.31->yfinance) (2.2.1)\n",
      "Requirement already satisfied: certifi>=2017.4.17 in /Users/nicolasbaldwin/opt/miniconda3/envs/mockenv/lib/python3.11/site-packages (from requests>=2.31->yfinance) (2023.11.17)\n"
     ]
    },
    {
     "name": "stderr",
     "output_type": "stream",
     "text": [
      "[*********************100%%**********************]  1 of 1 completed\n"
     ]
    },
    {
     "data": {
      "image/png": "[encoded data removed]",
      "text/plain": [
       "<Figure size 1000x800 with 1 Axes>"
      ]
     },
     "metadata": {},
     "output_type": "display_data"
    }
   ],
   "source": [
    "import os\n",
    "import matplotlib.pyplot as plt\n",
    "import pandas as pd\n",
    "import subprocess\n",
    "\n",
    "# Install yfinance package\n",
    "subprocess.check_call(['python', '-m', 'pip', 'install', 'yfinance'])\n",
    "import yfinance as yf\n",
    "from matplotlib.backends.backend_pdf import PdfPages\n",
    "\n",
    "def download_and_plot_apple_stock():\n",
    "    '''\n",
    "    This function downloads Apple's stock price between 2015 and 2016, plots it and saves it as a pdf in 'apple_stocks.pdf'\n",
    "    '''\n",
    "    # Download Apple's stock price data\n",
    "    data = yf.download('AAPL', start='2015-01-01', end='2016-12-31')\n",
    "\n",
    "    # Plot the closing price\n",
    "    plt.figure(figsize=(10, 8))\n",
    "    plt.plot(data['Close'])\n",
    "    plt.title('Apple Stock Prices (2015-2016)')\n",
    "    plt.xlabel('Date')\n",
    "    plt.ylabel('Closing Price (USD)')\n",
    "\n",
    "    # Save the plot as a pdf\n",
    "    pdf_pages = PdfPages('apple_stocks.pdf')\n",
    "    pdf_pages.savefig(plt.gcf(), bbox_inches='tight')\n",
    "    pdf_pages.close()\n",
    "\n",
    "download_and_plot_apple_stock()"
   ]
  }
 ],
 "metadata": {
  "kernelspec": {
   "display_name": "coflows",
   "language": "python",
   "name": "python3"
  },
  "language_info": {
   "codemirror_mode": {
    "name": "ipython",
    "version": 3
   },
   "file_extension": ".py",
   "mimetype": "text/x-python",
   "name": "python",
   "nbconvert_exporter": "python",
   "pygments_lexer": "ipython3",
   "version": "3.11.8"
  }
 },
 "nbformat": 4,
 "nbformat_minor": 2
}

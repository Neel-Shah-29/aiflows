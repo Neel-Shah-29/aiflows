{
 "cells": [
  {
   "cell_type": "markdown",
   "id": "d7a649b1-e259-4b73-8df5-5dc7c28cae47",
   "metadata": {},
   "source": [
    "# Getting Flow instances from other CoLink users\n",
    "\n",
    "This notebook demonstrates how a user can obtain instances of Flows that are served by other CoLink users. Both the client user and the serving user need to have a get_instance worker running to perform the instance exchange. \n",
    "\n",
    "When a user calls get_flow_instance on some flow_endpoint, we start a colink task with all users that are serving the subflows of the specified Flow. Every involved user will then recursively call get_flow_instance on its served subflows, which might again propagate across different CoLink users. Therefore, a get_flow_instance call results in a tree-like fetching process across CoLink users - this process is facilitated by the get_instance workers."
   ]
  },
  {
   "cell_type": "code",
   "execution_count": 1,
   "id": "3290339a-e045-465a-a503-03dece48822a",
   "metadata": {},
   "outputs": [],
   "source": [
    "%load_ext autoreload\n",
    "%autoreload 2\n",
    "import os, json\n",
    "from colink import CoLink\n",
    "from aiflows.utils import serve_utils\n",
    "from aiflows.utils.general_helpers import read_yaml_file\n",
    "from aiflows.messages import FlowMessage\n",
    "from aiflows.utils import coflows_utils, colink_utils\n",
    "from aiflows.workers import run_dispatch_worker_thread, run_get_instance_worker_thread"
   ]
  },
  {
   "cell_type": "markdown",
   "id": "0afb71d4-fc58-425b-98ae-c7667a159565",
   "metadata": {},
   "source": [
    "# Create two users"
   ]
  },
  {
   "cell_type": "code",
   "execution_count": 2,
   "id": "aa7d4186-d488-4a52-99d6-6a804cccd977",
   "metadata": {},
   "outputs": [
    {
     "name": "stdout",
     "output_type": "stream",
     "text": [
      "User 0 id: 0221d42dd15eed900ead8cc818f675d3e93379195bfb3e6a1e3180a6d49b9f0885\n",
      "User 1 id: 03ca1410f6335aaa5f4db141bdf6344f5c5c4c7dd9b235b948182906cc3e06f7c2\n"
     ]
    }
   ],
   "source": [
    "cls = colink_utils.start_colink_server_with_users(num_users=2)\n",
    "print(\"User 0 id:\", cls[0].get_user_id())\n",
    "print(\"User 1 id:\", cls[1].get_user_id())"
   ]
  },
  {
   "cell_type": "markdown",
   "id": "0af33573-24b2-4d27-a7dc-9299f17d1e5b",
   "metadata": {},
   "source": [
    "# USER 0\n",
    "\n",
    "User 0 will serve ReverseNumberAtomicFlow that User 1 will then use as a subflow."
   ]
  },
  {
   "cell_type": "code",
   "execution_count": 3,
   "id": "c36a4f71-7fc6-490c-9966-de8725120a64",
   "metadata": {},
   "outputs": [
    {
     "name": "stdout",
     "output_type": "stream",
     "text": [
      "[\u001b[36m2024-03-23 05:32:52,356\u001b[0m][\u001b[34maiflows.workers.dispatch_worker:235\u001b[0m][\u001b[32mINFO\u001b[0m] - Dispatch worker started in attached thread.\u001b[0m\n",
      "[\u001b[36m2024-03-23 05:32:52,360\u001b[0m][\u001b[34maiflows.workers.dispatch_worker:236\u001b[0m][\u001b[32mINFO\u001b[0m] - dispatch_point: coflows_dispatch\u001b[0m\n",
      "[\u001b[36m2024-03-23 05:32:52,377\u001b[0m][\u001b[34maiflows.workers.get_instance_worker:164\u001b[0m][\u001b[32mINFO\u001b[0m] - get_instances worker started in attached thread for user 0221d42dd15eed900ead8cc818f675d3e93379195bfb3e6a1e3180a6d49b9f0885\u001b[0m\n",
      "[\u001b[36m2024-03-23 05:32:54,867\u001b[0m][\u001b[34maiflows.workers.get_instance_worker:112\u001b[0m][\u001b[32mINFO\u001b[0m] - \n",
      "~~~ serving get_instances request ~~~\u001b[0m\n",
      "[\u001b[36m2024-03-23 05:32:54,868\u001b[0m][\u001b[34maiflows.workers.get_instance_worker:113\u001b[0m][\u001b[32mINFO\u001b[0m] - task_id = 93d1bccd-6551-4124-8c0a-610a2cd21339\u001b[0m\n",
      "[\u001b[36m2024-03-23 05:32:56,934\u001b[0m][\u001b[34maiflows.workers.get_instance_worker:117\u001b[0m][\u001b[32mINFO\u001b[0m] - get_instance_calls: [['first_reverse_flow', 'reverse_number_atomic', {'flow_class_name': 'ReverseNumberFlowModule.ReverseNumberAtomicFlow', 'singleton': True, 'name': 'ReverseNumberFirst', 'description': 'A flow that takes in a number and reverses it.'}], ['second_reverse_flow', 'reverse_number_atomic', {'flow_class_name': 'ReverseNumberFlowModule.ReverseNumberAtomicFlow', 'name': 'ReverseNumberSecond', 'description': 'A flow that takes in a number and reverses it AGAIN.'}]]\u001b[0m\n",
      "[\u001b[36m2024-03-23 05:32:57,036\u001b[0m][\u001b[34maiflows.utils.serve_utils:336\u001b[0m][\u001b[32mINFO\u001b[0m] - Mounted fc845fe7-b1fd-4ce9-8e7f-93b472282773 at flows:reverse_number_atomic:mounts:03ca1410f6335aaa5f4db141bdf6344f5c5c4c7dd9b235b948182906cc3e06f7c2:fc845fe7-b1fd-4ce9-8e7f-93b472282773\u001b[0m\n",
      "[\u001b[36m2024-03-23 05:32:57,097\u001b[0m][\u001b[34maiflows.utils.serve_utils:543\u001b[0m][\u001b[32mINFO\u001b[0m] - Fetched singleton fc845fe7-b1fd-4ce9-8e7f-93b472282773\u001b[0m\n",
      "[\u001b[36m2024-03-23 05:32:57,473\u001b[0m][\u001b[34maiflows.workers.dispatch_worker:119\u001b[0m][\u001b[32mINFO\u001b[0m] - \n",
      "~~~ Dispatch task ~~~\u001b[0m\n",
      "[\u001b[36m2024-03-23 05:32:57,498\u001b[0m][\u001b[34maiflows.workers.dispatch_worker:161\u001b[0m][\u001b[32mINFO\u001b[0m] - flow_endpoint: reverse_number_atomic\u001b[0m\n",
      "[\u001b[36m2024-03-23 05:32:57,500\u001b[0m][\u001b[34maiflows.workers.dispatch_worker:162\u001b[0m][\u001b[32mINFO\u001b[0m] - flow_id: fc845fe7-b1fd-4ce9-8e7f-93b472282773\u001b[0m\n",
      "[\u001b[36m2024-03-23 05:32:57,500\u001b[0m][\u001b[34maiflows.workers.dispatch_worker:163\u001b[0m][\u001b[32mINFO\u001b[0m] - owner_id: 03ca1410f6335aaa5f4db141bdf6344f5c5c4c7dd9b235b948182906cc3e06f7c2\u001b[0m\n",
      "[\u001b[36m2024-03-23 05:32:57,501\u001b[0m][\u001b[34maiflows.workers.dispatch_worker:164\u001b[0m][\u001b[32mINFO\u001b[0m] - message_paths: ['push_tasks:bfef90e7-5295-4fbe-a950-0adc3d666c76:msg']\u001b[0m\n",
      "[\u001b[36m2024-03-23 05:32:57,502\u001b[0m][\u001b[34maiflows.workers.dispatch_worker:165\u001b[0m][\u001b[32mINFO\u001b[0m] - parallel_dispatch: False\n",
      "\u001b[0m\n",
      "[\u001b[36m2024-03-23 05:32:57,561\u001b[0m][\u001b[34maiflows.workers.dispatch_worker:188\u001b[0m][\u001b[32mINFO\u001b[0m] - Input message source: first_reverse_flow\u001b[0m\n",
      "[\u001b[36m2024-03-23 05:32:57,838\u001b[0m][\u001b[34maiflows.workers.dispatch_worker:119\u001b[0m][\u001b[32mINFO\u001b[0m] - \n",
      "~~~ Dispatch task ~~~\u001b[0m\n",
      "[\u001b[36m2024-03-23 05:32:57,859\u001b[0m][\u001b[34maiflows.workers.dispatch_worker:161\u001b[0m][\u001b[32mINFO\u001b[0m] - flow_endpoint: reverse_number_atomic\u001b[0m\n",
      "[\u001b[36m2024-03-23 05:32:57,861\u001b[0m][\u001b[34maiflows.workers.dispatch_worker:162\u001b[0m][\u001b[32mINFO\u001b[0m] - flow_id: fc845fe7-b1fd-4ce9-8e7f-93b472282773\u001b[0m\n",
      "[\u001b[36m2024-03-23 05:32:57,861\u001b[0m][\u001b[34maiflows.workers.dispatch_worker:163\u001b[0m][\u001b[32mINFO\u001b[0m] - owner_id: 03ca1410f6335aaa5f4db141bdf6344f5c5c4c7dd9b235b948182906cc3e06f7c2\u001b[0m\n",
      "[\u001b[36m2024-03-23 05:32:57,862\u001b[0m][\u001b[34maiflows.workers.dispatch_worker:164\u001b[0m][\u001b[32mINFO\u001b[0m] - message_paths: ['push_tasks:9668fb97-cb13-46e1-9b53-c58e24e0e3da:msg']\u001b[0m\n",
      "[\u001b[36m2024-03-23 05:32:57,862\u001b[0m][\u001b[34maiflows.workers.dispatch_worker:165\u001b[0m][\u001b[32mINFO\u001b[0m] - parallel_dispatch: False\n",
      "\u001b[0m\n",
      "[\u001b[36m2024-03-23 05:32:57,916\u001b[0m][\u001b[34maiflows.workers.dispatch_worker:188\u001b[0m][\u001b[32mINFO\u001b[0m] - Input message source: second_reverse_flow\u001b[0m\n",
      "[\u001b[36m2024-03-23 05:32:58,205\u001b[0m][\u001b[34maiflows.workers.get_instance_worker:112\u001b[0m][\u001b[32mINFO\u001b[0m] - \n",
      "~~~ serving get_instances request ~~~\u001b[0m\n",
      "[\u001b[36m2024-03-23 05:32:58,217\u001b[0m][\u001b[34maiflows.workers.get_instance_worker:113\u001b[0m][\u001b[32mINFO\u001b[0m] - task_id = 7f54a4e7-0c7c-4bfb-9bdf-09108f7cfd52\u001b[0m\n",
      "[\u001b[36m2024-03-23 05:32:58,303\u001b[0m][\u001b[34maiflows.workers.get_instance_worker:117\u001b[0m][\u001b[32mINFO\u001b[0m] - get_instance_calls: [['my_flow', 'reverse_number_atomic', {}]]\u001b[0m\n",
      "[\u001b[36m2024-03-23 05:32:58,364\u001b[0m][\u001b[34maiflows.utils.serve_utils:543\u001b[0m][\u001b[32mINFO\u001b[0m] - Fetched singleton fc845fe7-b1fd-4ce9-8e7f-93b472282773\u001b[0m\n",
      "[\u001b[36m2024-03-23 05:32:58,527\u001b[0m][\u001b[34maiflows.workers.dispatch_worker:119\u001b[0m][\u001b[32mINFO\u001b[0m] - \n",
      "~~~ Dispatch task ~~~\u001b[0m\n",
      "[\u001b[36m2024-03-23 05:32:58,557\u001b[0m][\u001b[34maiflows.workers.dispatch_worker:161\u001b[0m][\u001b[32mINFO\u001b[0m] - flow_endpoint: reverse_number_atomic\u001b[0m\n",
      "[\u001b[36m2024-03-23 05:32:58,558\u001b[0m][\u001b[34maiflows.workers.dispatch_worker:162\u001b[0m][\u001b[32mINFO\u001b[0m] - flow_id: fc845fe7-b1fd-4ce9-8e7f-93b472282773\u001b[0m\n",
      "[\u001b[36m2024-03-23 05:32:58,559\u001b[0m][\u001b[34maiflows.workers.dispatch_worker:163\u001b[0m][\u001b[32mINFO\u001b[0m] - owner_id: 03ca1410f6335aaa5f4db141bdf6344f5c5c4c7dd9b235b948182906cc3e06f7c2\u001b[0m\n",
      "[\u001b[36m2024-03-23 05:32:58,559\u001b[0m][\u001b[34maiflows.workers.dispatch_worker:164\u001b[0m][\u001b[32mINFO\u001b[0m] - message_paths: ['push_tasks:9c5e2b4b-5e48-40a4-a0c2-3fe62c0d4497:msg']\u001b[0m\n",
      "[\u001b[36m2024-03-23 05:32:58,560\u001b[0m][\u001b[34maiflows.workers.dispatch_worker:165\u001b[0m][\u001b[32mINFO\u001b[0m] - parallel_dispatch: False\n",
      "\u001b[0m\n",
      "[\u001b[36m2024-03-23 05:32:58,619\u001b[0m][\u001b[34maiflows.workers.dispatch_worker:188\u001b[0m][\u001b[32mINFO\u001b[0m] - Input message source: Proxy_reverse_number_atomic\u001b[0m\n"
     ]
    }
   ],
   "source": [
    "run_dispatch_worker_thread(cls[0])\n",
    "run_get_instance_worker_thread(cls[0])"
   ]
  },
  {
   "cell_type": "code",
   "execution_count": 4,
   "id": "fd1aa9eb-13a2-43f1-9d07-ce1f29d5a38e",
   "metadata": {},
   "outputs": [
    {
     "name": "stdout",
     "output_type": "stream",
     "text": [
      "[\u001b[36m2024-03-23 05:32:52,505\u001b[0m][\u001b[34maiflows.utils.serve_utils:116\u001b[0m][\u001b[32mINFO\u001b[0m] - Started serving ReverseNumberFlowModule.ReverseNumberAtomicFlow at flows:reverse_number_atomic.\u001b[0m\n",
      "[\u001b[36m2024-03-23 05:32:52,505\u001b[0m][\u001b[34maiflows.utils.serve_utils:117\u001b[0m][\u001b[32mINFO\u001b[0m] - dispatch_point: coflows_dispatch\u001b[0m\n",
      "[\u001b[36m2024-03-23 05:32:52,506\u001b[0m][\u001b[34maiflows.utils.serve_utils:118\u001b[0m][\u001b[32mINFO\u001b[0m] - parallel_dispatch: False\u001b[0m\n",
      "[\u001b[36m2024-03-23 05:32:52,506\u001b[0m][\u001b[34maiflows.utils.serve_utils:119\u001b[0m][\u001b[32mINFO\u001b[0m] - singleton: True\n",
      "\u001b[0m\n"
     ]
    },
    {
     "data": {
      "text/plain": [
       "True"
      ]
     },
     "execution_count": 4,
     "metadata": {},
     "output_type": "execute_result"
    }
   ],
   "source": [
    "serve_utils.serve_flow(\n",
    "    cl=cls[0],\n",
    "    flow_class_name=\"ReverseNumberFlowModule.ReverseNumberAtomicFlow\",\n",
    "    flow_endpoint=\"reverse_number_atomic\",\n",
    "    singleton=True,\n",
    ")"
   ]
  },
  {
   "cell_type": "markdown",
   "id": "0f8edcdb-ac4d-45d6-a2fe-be043d00d85d",
   "metadata": {},
   "source": [
    "# USER 1\n",
    "\n",
    "User 1 will get an instance of a local Composite Flow which has remote subflows (served by User 0)."
   ]
  },
  {
   "cell_type": "code",
   "execution_count": 5,
   "id": "6c0f9635-9e85-4f81-a5f5-5e587ad80c36",
   "metadata": {},
   "outputs": [
    {
     "name": "stdout",
     "output_type": "stream",
     "text": [
      "[\u001b[36m2024-03-23 05:32:52,543\u001b[0m][\u001b[34maiflows.workers.dispatch_worker:235\u001b[0m][\u001b[32mINFO\u001b[0m] - Dispatch worker started in attached thread.\u001b[0m\n",
      "[\u001b[36m2024-03-23 05:32:52,548\u001b[0m][\u001b[34maiflows.workers.dispatch_worker:236\u001b[0m][\u001b[32mINFO\u001b[0m] - dispatch_point: coflows_dispatch\u001b[0m\n",
      "[\u001b[36m2024-03-23 05:32:52,567\u001b[0m][\u001b[34maiflows.workers.get_instance_worker:164\u001b[0m][\u001b[32mINFO\u001b[0m] - get_instances worker started in attached thread for user 03ca1410f6335aaa5f4db141bdf6344f5c5c4c7dd9b235b948182906cc3e06f7c2\u001b[0m\n",
      "[\u001b[36m2024-03-23 05:32:54,865\u001b[0m][\u001b[34maiflows.workers.get_instance_worker:68\u001b[0m][\u001b[32mINFO\u001b[0m] - \n",
      "~~~ get_instances initiator ~~~\u001b[0m\n",
      "[\u001b[36m2024-03-23 05:32:54,867\u001b[0m][\u001b[34maiflows.workers.get_instance_worker:69\u001b[0m][\u001b[32mINFO\u001b[0m] - task_id = 93d1bccd-6551-4124-8c0a-610a2cd21339\u001b[0m\n",
      "[\u001b[36m2024-03-23 05:32:57,127\u001b[0m][\u001b[34maiflows.workers.get_instance_worker:93\u001b[0m][\u001b[32mINFO\u001b[0m] - Received subflow instances: {\n",
      "    \"first_reverse_flow\": {\n",
      "        \"flow_id\": \"fc845fe7-b1fd-4ce9-8e7f-93b472282773\",\n",
      "        \"successful\": true,\n",
      "        \"message\": \"Fetched local flow instance.\"\n",
      "    },\n",
      "    \"second_reverse_flow\": {\n",
      "        \"flow_id\": \"fc845fe7-b1fd-4ce9-8e7f-93b472282773\",\n",
      "        \"successful\": true,\n",
      "        \"message\": \"Fetched local flow instance.\"\n",
      "    }\n",
      "}\u001b[0m\n",
      "[\u001b[36m2024-03-23 05:32:57,300\u001b[0m][\u001b[34maiflows.workers.dispatch_worker:119\u001b[0m][\u001b[32mINFO\u001b[0m] - \n",
      "~~~ Dispatch task ~~~\u001b[0m\n",
      "[\u001b[36m2024-03-23 05:32:57,304\u001b[0m][\u001b[34maiflows.workers.dispatch_worker:161\u001b[0m][\u001b[32mINFO\u001b[0m] - flow_endpoint: reverse_number_sequential\u001b[0m\n",
      "[\u001b[36m2024-03-23 05:32:57,305\u001b[0m][\u001b[34maiflows.workers.dispatch_worker:162\u001b[0m][\u001b[32mINFO\u001b[0m] - flow_id: 11ae895a-b24d-4c2c-ba16-92e22a3f49fe\u001b[0m\n",
      "[\u001b[36m2024-03-23 05:32:57,306\u001b[0m][\u001b[34maiflows.workers.dispatch_worker:163\u001b[0m][\u001b[32mINFO\u001b[0m] - owner_id: local\u001b[0m\n",
      "[\u001b[36m2024-03-23 05:32:57,306\u001b[0m][\u001b[34maiflows.workers.dispatch_worker:164\u001b[0m][\u001b[32mINFO\u001b[0m] - message_paths: ['push_tasks:72b4eef2-777e-4c26-9d39-f0efb3bd5ec9:msg']\u001b[0m\n",
      "[\u001b[36m2024-03-23 05:32:57,306\u001b[0m][\u001b[34maiflows.workers.dispatch_worker:165\u001b[0m][\u001b[32mINFO\u001b[0m] - parallel_dispatch: False\n",
      "\u001b[0m\n",
      "[\u001b[36m2024-03-23 05:32:57,369\u001b[0m][\u001b[34maiflows.workers.dispatch_worker:188\u001b[0m][\u001b[32mINFO\u001b[0m] - Input message source: Proxy_reverse_number_sequential\u001b[0m\n",
      "Called ReverseNumberSequential \n",
      " state {'current_call': 'first_reverse_flow'}\n",
      "[\u001b[36m2024-03-23 05:32:57,637\u001b[0m][\u001b[34maiflows.workers.dispatch_worker:119\u001b[0m][\u001b[32mINFO\u001b[0m] - \n",
      "~~~ Dispatch task ~~~\u001b[0m\n",
      "[\u001b[36m2024-03-23 05:32:57,657\u001b[0m][\u001b[34maiflows.workers.dispatch_worker:161\u001b[0m][\u001b[32mINFO\u001b[0m] - flow_endpoint: reverse_number_sequential\u001b[0m\n",
      "[\u001b[36m2024-03-23 05:32:57,658\u001b[0m][\u001b[34maiflows.workers.dispatch_worker:162\u001b[0m][\u001b[32mINFO\u001b[0m] - flow_id: 11ae895a-b24d-4c2c-ba16-92e22a3f49fe\u001b[0m\n",
      "[\u001b[36m2024-03-23 05:32:57,659\u001b[0m][\u001b[34maiflows.workers.dispatch_worker:163\u001b[0m][\u001b[32mINFO\u001b[0m] - owner_id: local\u001b[0m\n",
      "[\u001b[36m2024-03-23 05:32:57,660\u001b[0m][\u001b[34maiflows.workers.dispatch_worker:164\u001b[0m][\u001b[32mINFO\u001b[0m] - message_paths: ['push_tasks:d9dd2634-eded-4fb1-befe-cde3ce98320b:msg']\u001b[0m\n",
      "[\u001b[36m2024-03-23 05:32:57,660\u001b[0m][\u001b[34maiflows.workers.dispatch_worker:165\u001b[0m][\u001b[32mINFO\u001b[0m] - parallel_dispatch: False\n",
      "\u001b[0m\n",
      "[\u001b[36m2024-03-23 05:32:57,742\u001b[0m][\u001b[34maiflows.workers.dispatch_worker:188\u001b[0m][\u001b[32mINFO\u001b[0m] - Input message source: ReverseNumberFirst\u001b[0m\n",
      "Called ReverseNumberSequential \n",
      " state {'current_call': 'second_reverse_flow', 'initial_message': FlowMessage(message_id='d3d7eee1-34a4-49d8-ad22-7b094a89e91c', created_at='2024-03-23 04:32:57.260993564', created_by='Proxy_reverse_number_sequential', message_type='FlowMessage', data={'id': 0, 'number': 1234}, private_keys=[])}\n",
      "[\u001b[36m2024-03-23 05:32:57,994\u001b[0m][\u001b[34maiflows.workers.dispatch_worker:119\u001b[0m][\u001b[32mINFO\u001b[0m] - \n",
      "~~~ Dispatch task ~~~\u001b[0m\n",
      "[\u001b[36m2024-03-23 05:32:58,014\u001b[0m][\u001b[34maiflows.workers.dispatch_worker:161\u001b[0m][\u001b[32mINFO\u001b[0m] - flow_endpoint: reverse_number_sequential\u001b[0m\n",
      "[\u001b[36m2024-03-23 05:32:58,015\u001b[0m][\u001b[34maiflows.workers.dispatch_worker:162\u001b[0m][\u001b[32mINFO\u001b[0m] - flow_id: 11ae895a-b24d-4c2c-ba16-92e22a3f49fe\u001b[0m\n",
      "[\u001b[36m2024-03-23 05:32:58,015\u001b[0m][\u001b[34maiflows.workers.dispatch_worker:163\u001b[0m][\u001b[32mINFO\u001b[0m] - owner_id: local\u001b[0m\n",
      "[\u001b[36m2024-03-23 05:32:58,015\u001b[0m][\u001b[34maiflows.workers.dispatch_worker:164\u001b[0m][\u001b[32mINFO\u001b[0m] - message_paths: ['push_tasks:7ad78217-f74e-432f-8fdf-0053d186ca15:msg']\u001b[0m\n",
      "[\u001b[36m2024-03-23 05:32:58,016\u001b[0m][\u001b[34maiflows.workers.dispatch_worker:165\u001b[0m][\u001b[32mINFO\u001b[0m] - parallel_dispatch: False\n",
      "\u001b[0m\n",
      "[\u001b[36m2024-03-23 05:32:58,095\u001b[0m][\u001b[34maiflows.workers.dispatch_worker:188\u001b[0m][\u001b[32mINFO\u001b[0m] - Input message source: ReverseNumberFirst\u001b[0m\n",
      "Called ReverseNumberSequential \n",
      " state {'current_call': 'reply_to_message', 'initial_message': FlowMessage(message_id='d3d7eee1-34a4-49d8-ad22-7b094a89e91c', created_at='2024-03-23 04:32:57.260993564', created_by='Proxy_reverse_number_sequential', message_type='FlowMessage', data={'id': 0, 'number': 1234}, private_keys=[])}\n",
      "[\u001b[36m2024-03-23 05:32:58,204\u001b[0m][\u001b[34maiflows.workers.get_instance_worker:68\u001b[0m][\u001b[32mINFO\u001b[0m] - \n",
      "~~~ get_instances initiator ~~~\u001b[0m\n",
      "[\u001b[36m2024-03-23 05:32:58,215\u001b[0m][\u001b[34maiflows.workers.get_instance_worker:69\u001b[0m][\u001b[32mINFO\u001b[0m] - task_id = 7f54a4e7-0c7c-4bfb-9bdf-09108f7cfd52\u001b[0m\n",
      "[\u001b[36m2024-03-23 05:32:58,399\u001b[0m][\u001b[34maiflows.workers.get_instance_worker:93\u001b[0m][\u001b[32mINFO\u001b[0m] - Received subflow instances: {\n",
      "    \"my_flow\": {\n",
      "        \"flow_id\": \"fc845fe7-b1fd-4ce9-8e7f-93b472282773\",\n",
      "        \"successful\": true,\n",
      "        \"message\": \"Fetched local flow instance.\"\n",
      "    }\n",
      "}\u001b[0m\n"
     ]
    }
   ],
   "source": [
    "run_dispatch_worker_thread(cls[1])\n",
    "run_get_instance_worker_thread(cls[1])"
   ]
  },
  {
   "cell_type": "code",
   "execution_count": 6,
   "id": "b364acfc-97c9-41b3-be24-62f6262d2872",
   "metadata": {},
   "outputs": [
    {
     "name": "stdout",
     "output_type": "stream",
     "text": [
      "[\u001b[36m2024-03-23 05:32:52,726\u001b[0m][\u001b[34maiflows.utils.serve_utils:116\u001b[0m][\u001b[32mINFO\u001b[0m] - Started serving ReverseNumberFlowModule.ReverseNumberSequentialFlow at flows:reverse_number_sequential.\u001b[0m\n",
      "[\u001b[36m2024-03-23 05:32:52,727\u001b[0m][\u001b[34maiflows.utils.serve_utils:117\u001b[0m][\u001b[32mINFO\u001b[0m] - dispatch_point: coflows_dispatch\u001b[0m\n",
      "[\u001b[36m2024-03-23 05:32:52,727\u001b[0m][\u001b[34maiflows.utils.serve_utils:118\u001b[0m][\u001b[32mINFO\u001b[0m] - parallel_dispatch: False\u001b[0m\n",
      "[\u001b[36m2024-03-23 05:32:52,727\u001b[0m][\u001b[34maiflows.utils.serve_utils:119\u001b[0m][\u001b[32mINFO\u001b[0m] - singleton: False\n",
      "\u001b[0m\n"
     ]
    },
    {
     "data": {
      "text/plain": [
       "True"
      ]
     },
     "execution_count": 6,
     "metadata": {},
     "output_type": "execute_result"
    }
   ],
   "source": [
    "serve_utils.serve_flow(\n",
    "    cl=cls[1],\n",
    "    flow_class_name=\"ReverseNumberFlowModule.ReverseNumberSequentialFlow\",\n",
    "    flow_endpoint=\"reverse_number_sequential\",\n",
    ")"
   ]
  },
  {
   "cell_type": "code",
   "execution_count": 7,
   "id": "f16b39d6-d231-4743-9aec-cf57551e2c0d",
   "metadata": {},
   "outputs": [
    {
     "name": "stdout",
     "output_type": "stream",
     "text": [
      "[\u001b[36m2024-03-23 05:32:57,234\u001b[0m][\u001b[34maiflows.utils.serve_utils:336\u001b[0m][\u001b[32mINFO\u001b[0m] - Mounted 11ae895a-b24d-4c2c-ba16-92e22a3f49fe at flows:reverse_number_sequential:mounts:local:11ae895a-b24d-4c2c-ba16-92e22a3f49fe\u001b[0m\n"
     ]
    }
   ],
   "source": [
    "# since we are creating new dummy users on every run, we inject user_id into config manually\n",
    "# typically this would be hardcoded in yaml config\n",
    "cfg_overrides = {\n",
    "    \"subflows_config\": {\n",
    "        \"first_reverse_flow\": {\n",
    "            \"user_id\": cls[0].get_user_id()\n",
    "        },\n",
    "        \"second_reverse_flow\": {\n",
    "            \"user_id\": cls[0].get_user_id()\n",
    "        }\n",
    "    }\n",
    "}\n",
    "\n",
    "flow = serve_utils.get_flow_instance(\n",
    "    cl=cls[1],\n",
    "    flow_endpoint=\"reverse_number_sequential\",\n",
    "    user_id=\"local\",\n",
    "    config_overrides = cfg_overrides,\n",
    ")"
   ]
  },
  {
   "cell_type": "code",
   "execution_count": 8,
   "id": "527e26fe-5210-4218-99e1-b4a15486f7a7",
   "metadata": {},
   "outputs": [
    {
     "name": "stdout",
     "output_type": "stream",
     "text": [
      "Data sent:\n",
      " {'id': 0, 'number': 1234} \n",
      "\n",
      "REPLY:\n",
      " {'output_number': 1234} \n",
      "\n"
     ]
    }
   ],
   "source": [
    "input_data = {\"id\": 0, \"number\": 1234}\n",
    "    \n",
    "input_message = flow.package_input_message(input_data)\n",
    "future = flow.get_reply_future(input_message)\n",
    "reply_data = future.get_data()\n",
    "\n",
    "print(\"Data sent:\\n\",  input_data, \"\\n\")\n",
    "print(\"REPLY:\\n\", reply_data, \"\\n\")"
   ]
  },
  {
   "cell_type": "markdown",
   "id": "fe9725c7-992c-4bc1-a97f-bfed67883a54",
   "metadata": {},
   "source": [
    "#### Directly fetching remote Flows\n",
    "\n",
    "User 1 can also directly call get_instance on the Flows served by User 0."
   ]
  },
  {
   "cell_type": "code",
   "execution_count": 9,
   "id": "702c5108-7feb-4208-8b69-d5df29a8b2e2",
   "metadata": {},
   "outputs": [],
   "source": [
    "remote_flow = serve_utils.get_flow_instance(\n",
    "    cl=cls[1],\n",
    "    flow_endpoint=\"reverse_number_atomic\",\n",
    "    user_id=cls[0].get_user_id(),\n",
    ") # fetches the singleton served by User 0"
   ]
  },
  {
   "cell_type": "code",
   "execution_count": 10,
   "id": "e11880e8-fcae-4c74-bf42-15572ae0f9ee",
   "metadata": {},
   "outputs": [
    {
     "data": {
      "text/plain": [
       "{'output_number': 4321}"
      ]
     },
     "execution_count": 10,
     "metadata": {},
     "output_type": "execute_result"
    }
   ],
   "source": [
    "input_data = {\"id\": 0, \"number\": 1234}\n",
    "input_message = remote_flow.package_input_message(input_data)\n",
    "remote_flow.get_reply_future(input_message).get_data()"
   ]
  },
  {
   "cell_type": "markdown",
   "id": "42c7528a-45f6-4fb1-a419-17bed435b894",
   "metadata": {},
   "source": [
    "# Observe storage of both users\n",
    "\n",
    "User 0 has a serve endpoint for ReverseNumberAtomic flow and a singleton instance of that flow.\n",
    "User 1 has a serve endpoint for ReverseNumberSequential flow and an instance of that flow whose subflows are remote instances of the ReverseNumberAtomic at user 0 (since ReverseNumberAtomic flow is a singleton, both subflows are the same flow instance)."
   ]
  },
  {
   "cell_type": "code",
   "execution_count": 11,
   "id": "95ea81a8-d9cc-40cc-ad5a-ffa8008abf11",
   "metadata": {},
   "outputs": [],
   "source": [
    "def status(cl):\n",
    "    colink_utils.print_served_flows(cl, print_values=False)\n",
    "    print(\"\\nAll flow instances:\")\n",
    "    colink_utils.print_flow_instances(cl)"
   ]
  },
  {
   "cell_type": "code",
   "execution_count": 12,
   "id": "1e9c01a3-dd14-4907-8450-73724fd20aac",
   "metadata": {},
   "outputs": [
    {
     "name": "stdout",
     "output_type": "stream",
     "text": [
      " reverse_number_atomic/\n",
      "   init\n",
      "   parallel_dispatch\n",
      "   mounts/\n",
      "     03ca1410f6335aaa5f4db141bdf6344f5c5c4c7dd9b235b948182906cc3e06f7c2/\n",
      "       fc845fe7-b1fd-4ce9-8e7f-93b472282773/\n",
      "         init\n",
      "         config_overrides\n",
      "         state\n",
      "   default_dispatch_point\n",
      "   flow_class_name\n",
      "   singleton\n",
      "\n",
      "All flow instances:\n",
      " fc845fe7-b1fd-4ce9-8e7f-93b472282773\n"
     ]
    }
   ],
   "source": [
    "status(cls[0])"
   ]
  },
  {
   "cell_type": "code",
   "execution_count": 13,
   "id": "712b2f13-3144-4d1c-ab1b-93f7293deff6",
   "metadata": {},
   "outputs": [
    {
     "name": "stdout",
     "output_type": "stream",
     "text": [
      " reverse_number_sequential/\n",
      "   singleton\n",
      "   parallel_dispatch\n",
      "   default_dispatch_point\n",
      "   mounts/\n",
      "     local/\n",
      "       11ae895a-b24d-4c2c-ba16-92e22a3f49fe/\n",
      "         config_overrides\n",
      "         state\n",
      "         init\n",
      "   init\n",
      "   flow_class_name\n",
      "\n",
      "All flow instances:\n",
      " 11ae895a-b24d-4c2c-ba16-92e22a3f49fe\n"
     ]
    }
   ],
   "source": [
    "status(cls[1])"
   ]
  }
 ],
 "metadata": {
  "kernelspec": {
   "display_name": "Python 3 (ipykernel)",
   "language": "python",
   "name": "python3"
  },
  "language_info": {
   "codemirror_mode": {
    "name": "ipython",
    "version": 3
   },
   "file_extension": ".py",
   "mimetype": "text/x-python",
   "name": "python",
   "nbconvert_exporter": "python",
   "pygments_lexer": "ipython3",
   "version": "3.10.6"
  }
 },
 "nbformat": 4,
 "nbformat_minor": 5
}

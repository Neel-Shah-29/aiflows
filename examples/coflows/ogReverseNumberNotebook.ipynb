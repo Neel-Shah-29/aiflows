{
 "cells": [
  {
   "cell_type": "markdown",
   "id": "fc78df95-3264-4711-9184-5ba7219eb90a",
   "metadata": {},
   "source": [
    "# ReverseNumberFlow example"
   ]
  },
  {
   "cell_type": "code",
   "execution_count": 1,
   "id": "f086a301-03bc-49f2-b6aa-1aff9862ae8d",
   "metadata": {},
   "outputs": [],
   "source": [
    "%load_ext autoreload\n",
    "%autoreload 2"
   ]
  },
  {
   "cell_type": "code",
   "execution_count": 2,
   "id": "7352f95a-79da-4d94-a557-f39cc7544b4c",
   "metadata": {},
   "outputs": [
    {
     "name": "stderr",
     "output_type": "stream",
     "text": [
      "/Users/nicolasbaldwin/opt/miniconda3/envs/coflows/lib/python3.11/site-packages/tqdm/auto.py:21: TqdmWarning: IProgress not found. Please update jupyter and ipywidgets. See https://ipywidgets.readthedocs.io/en/stable/user_install.html\n",
      "  from .autonotebook import tqdm as notebook_tqdm\n"
     ]
    }
   ],
   "source": [
    "import os, json\n",
    "\n",
    "from colink import CoLink\n",
    "\n",
    "from aiflows.utils import serve_utils\n",
    "from aiflows.utils.general_helpers import read_yaml_file\n",
    "from aiflows.messages import FlowMessage\n",
    "from aiflows.utils import coflows_utils, colink_utils\n",
    "from aiflows.workers import run_dispatch_worker_thread"
   ]
  },
  {
   "cell_type": "code",
   "execution_count": 3,
   "id": "d07e9b08-46f9-4934-9058-7c9d58f8193d",
   "metadata": {},
   "outputs": [],
   "source": [
    "FLOW_MODULES_PATH = \"./\""
   ]
  },
  {
   "cell_type": "markdown",
   "id": "2317f744-65a0-4930-adc7-0b1a0cb2e28f",
   "metadata": {},
   "source": [
    "# Connect to CoLink server\n",
    "\n",
    "To connect to a real server, run below cell instead of the one after."
   ]
  },
  {
   "cell_type": "code",
   "execution_count": 4,
   "id": "d61f73de-50c0-4621-90bc-12aa7a302441",
   "metadata": {},
   "outputs": [],
   "source": [
    "# USER_JWT_PATH = \"/home/staverm/workspace/coflows-dev/coflows/jwts.txt\"\n",
    "# user_jwt = open(USER_JWT_PATH).readline().strip()\n",
    "# cl = CoLink(\"http://127.0.0.1:2021\", user_jwt)"
   ]
  },
  {
   "cell_type": "code",
   "execution_count": 5,
   "id": "e692a432-56b5-4040-8971-6f6246ab60e5",
   "metadata": {},
   "outputs": [
    {
     "name": "stdout",
     "output_type": "stream",
     "text": [
      "started server on 0.0.0.0:11170\n",
      "started server on 0.0.0.0:17415\n"
     ]
    }
   ],
   "source": [
    "cl = colink_utils.start_colink_server()"
   ]
  },
  {
   "cell_type": "markdown",
   "id": "ba8970db-4b3a-4bf6-9dde-f60d143c9642",
   "metadata": {},
   "source": [
    "# Load flow config\n",
    "\n",
    "Every flow instance gets initialized with a flow config specified in a yaml file.\n",
    "\n",
    "The ``_target_`` key specifies the method name used to instantiate the flow. \n",
    "\n",
    "## Load config for ReverseNumberAtomicFlow"
   ]
  },
  {
   "cell_type": "code",
   "execution_count": 6,
   "id": "a710490c-9636-4c5c-b6f6-95aee72be272",
   "metadata": {},
   "outputs": [
    {
     "name": "stdout",
     "output_type": "stream",
     "text": [
      "{\n",
      "    \"name\": \"ReverseNumber\",\n",
      "    \"description\": \"A flow that takes in a number and reverses it.\",\n",
      "    \"_target_\": \"ReverseNumberFlowModule.ReverseNumberAtomicFlow.instantiate_from_default_config\",\n",
      "    \"input_interface\": {\n",
      "        \"_target_\": \"aiflows.interfaces.KeyInterface\",\n",
      "        \"keys_to_select\": [\n",
      "            \"number\"\n",
      "        ]\n",
      "    },\n",
      "    \"output_interface\": {\n",
      "        \"_target_\": \"aiflows.interfaces.KeyInterface\",\n",
      "        \"keys_to_rename\": {\n",
      "            \"output_number\": \"reversed_number\"\n",
      "        }\n",
      "    }\n",
      "}\n"
     ]
    }
   ],
   "source": [
    "reverse_number_atomic_default_config = read_yaml_file(\n",
    "    os.path.join(FLOW_MODULES_PATH, \"ReverseNumberFlowModule/ReverseNumberAtomicFlow.yaml\"))\n",
    "print(json.dumps(reverse_number_atomic_default_config, indent=4))"
   ]
  },
  {
   "cell_type": "markdown",
   "id": "e47fabc0-3dc0-4042-8a7e-79068c477f5c",
   "metadata": {},
   "source": [
    "## Load config for ReverseNumberSequentialFlow"
   ]
  },
  {
   "cell_type": "code",
   "execution_count": 7,
   "id": "a994c047-c2ca-4443-a922-dd5eeec4a3c8",
   "metadata": {},
   "outputs": [
    {
     "name": "stdout",
     "output_type": "stream",
     "text": [
      "{\n",
      "    \"name\": \"ReverseNumberTwice\",\n",
      "    \"description\": \"A sequential flow that reverses a number twice.\",\n",
      "    \"_target_\": \"ReverseNumberFlowModule.ReverseNumberSequentialFlow.instantiate_from_default_config\",\n",
      "    \"flow_type\": \"ReverseNumberSequentialFlow_served\",\n",
      "    \"input_interface\": [\n",
      "        \"number\"\n",
      "    ],\n",
      "    \"output_interface\": [\n",
      "        \"output_number\"\n",
      "    ],\n",
      "    \"subflows_config\": {\n",
      "        \"first_reverse_flow\": {\n",
      "            \"_target_\": \"aiflows.base_flows.AtomicFlow.instantiate_from_default_config\",\n",
      "            \"user_id\": \"local\",\n",
      "            \"flow_type\": \"ReverseNumberAtomicFlow_served\",\n",
      "            \"name\": \"ReverseNumberFirst\",\n",
      "            \"description\": \"A flow that takes in a number and reverses it.\"\n",
      "        },\n",
      "        \"second_reverse_flow\": {\n",
      "            \"_target_\": \"aiflows.base_flows.AtomicFlow.instantiate_from_default_config\",\n",
      "            \"user_id\": \"local\",\n",
      "            \"flow_type\": \"ReverseNumberAtomicFlow_served\",\n",
      "            \"name\": \"ReverseNumberSecond\",\n",
      "            \"description\": \"A flow that takes in a number and reverses it AGAIN.\",\n",
      "            \"config_overrides\": {\n",
      "                \"description\": \"Overriden description.\"\n",
      "            }\n",
      "        }\n",
      "    }\n",
      "}\n"
     ]
    }
   ],
   "source": [
    "reverse_number_sequential_default_config = read_yaml_file(\n",
    "    os.path.join(FLOW_MODULES_PATH, \"ReverseNumberFlowModule/ReverseNumberSequentialFlow.yaml\"))\n",
    "print(json.dumps(reverse_number_sequential_default_config, indent=4))"
   ]
  },
  {
   "cell_type": "markdown",
   "id": "27071f16-bd46-443d-9718-8b866813d3a8",
   "metadata": {},
   "source": [
    "# Serve Flows"
   ]
  },
  {
   "cell_type": "code",
   "execution_count": 8,
   "id": "ad2fed22-36cb-4f68-a484-99d242dffb33",
   "metadata": {},
   "outputs": [
    {
     "name": "stdout",
     "output_type": "stream",
     "text": [
      "Started serving at flows:ReverseNumberAtomicFlow_served.\n",
      "Started serving at flows:ReverseNumberSequentialFlow_served.\n"
     ]
    },
    {
     "data": {
      "text/plain": [
       "True"
      ]
     },
     "execution_count": 8,
     "metadata": {},
     "output_type": "execute_result"
    }
   ],
   "source": [
    "serve_utils.serve_flow(\n",
    "    cl=cl,\n",
    "    flow_type=\"ReverseNumberAtomicFlow_served\",\n",
    "    default_config=reverse_number_atomic_default_config,\n",
    "    default_state=None,\n",
    "    default_dispatch_point=\"coflows_dispatch\",\n",
    "    serve_mode=\"statefull\",\n",
    ")\n",
    "serve_utils.serve_flow(\n",
    "    cl=cl,\n",
    "    flow_type=\"ReverseNumberSequentialFlow_served\",\n",
    "    default_config=reverse_number_sequential_default_config,\n",
    "    default_state=None,\n",
    "    default_dispatch_point=\"coflows_dispatch\",\n",
    "    serve_mode=\"statefull\",\n",
    ")"
   ]
  },
  {
   "cell_type": "markdown",
   "id": "18a35b68-0504-4b1c-895e-82a9cc8c9d0e",
   "metadata": {},
   "source": [
    "# Start dispatch workers"
   ]
  },
  {
   "cell_type": "code",
   "execution_count": 9,
   "id": "a179235b-71c4-40d7-a7ca-73cda0ff77ff",
   "metadata": {},
   "outputs": [
    {
     "name": "stdout",
     "output_type": "stream",
     "text": [
      "Dispatch worker started in attached thread.\n"
     ]
    }
   ],
   "source": [
    "run_dispatch_worker_thread(cl, dispatch_point=\"coflows_dispatch\", flow_modules_base_path=FLOW_MODULES_PATH)"
   ]
  },
  {
   "cell_type": "code",
   "execution_count": 14,
   "id": "3d1a46cb-e4b5-434d-b718-f6338b713d16",
   "metadata": {},
   "outputs": [
    {
     "name": "stdout",
     "output_type": "stream",
     "text": [
      "Dispatch worker started in attached thread.\n"
     ]
    }
   ],
   "source": [
    "run_dispatch_worker_thread(cl, dispatch_point=\"coflows_dispatch\", flow_modules_base_path=FLOW_MODULES_PATH)"
   ]
  },
  {
   "cell_type": "markdown",
   "id": "eda689d4-2775-41d7-9d3d-1cc528d43447",
   "metadata": {},
   "source": [
    "# Get flow instance"
   ]
  },
  {
   "cell_type": "code",
   "execution_count": 10,
   "id": "56bf670c-3639-4ed3-bf6b-21b9fbd63015",
   "metadata": {},
   "outputs": [
    {
     "name": "stdout",
     "output_type": "stream",
     "text": [
      "Mounted adca3e16-c97b-4f5b-a15c-0cdf4720bdaf at flows:ReverseNumberAtomicFlow_served:mounts:local:adca3e16-c97b-4f5b-a15c-0cdf4720bdaf\n",
      "Mounted b0660839-9341-4cfa-b49c-10e641b5ba2f at flows:ReverseNumberAtomicFlow_served:mounts:local:b0660839-9341-4cfa-b49c-10e641b5ba2f\n",
      "Mounted ea6b452b-420d-4531-a6e1-7531b1acbed4 at flows:ReverseNumberSequentialFlow_served:mounts:local:ea6b452b-420d-4531-a6e1-7531b1acbed4\n"
     ]
    }
   ],
   "source": [
    "flow = serve_utils.recursive_mount(\n",
    "    cl=cl,\n",
    "    client_id=\"local\",\n",
    "    flow_type=\"ReverseNumberSequentialFlow_served\",\n",
    "    config_overrides=None,\n",
    "    initial_state=None,\n",
    "    dispatch_point_override=None,\n",
    ")"
   ]
  },
  {
   "cell_type": "code",
   "execution_count": 12,
   "id": "ab237430-b224-4ff3-a020-5f4f24bf8bec",
   "metadata": {},
   "outputs": [
    {
     "name": "stdout",
     "output_type": "stream",
     "text": [
      "Pushing to...\n",
      " Name: Proxy_ReverseNumberSequentialFlow_served\n",
      "Class name: AtomicFlow\n",
      "Type: AtomicFlow\n",
      "Description: Proxy of ReverseNumberSequentialFlow_served\n",
      "Input keys: no input keys\n",
      "Output keys: no output keys\n",
      "\n"
     ]
    },
    {
     "name": "stdout",
     "output_type": "stream",
     "text": [
      "\n",
      "~~~ Dispatch task ~~~\n",
      "flow_type: ReverseNumberSequentialFlow_served\n",
      "flow_id: ea6b452b-420d-4531-a6e1-7531b1acbed4\n",
      "message_ids: ['5faf31f3-5a70-4919-8c52-244711990d59']\n",
      "\n",
      "Called ReverseNumberSequential \n",
      " state {'current_call': 'first_reverse_flow'}\n",
      "\n",
      "~~~ Dispatch task ~~~\n",
      "flow_type: ReverseNumberAtomicFlow_served\n",
      "flow_id: adca3e16-c97b-4f5b-a15c-0cdf4720bdaf\n",
      "message_ids: ['1d40d24d-e145-4585-8ebd-96b2c2087e3c']\n",
      "\n",
      "Called ReverseNumberAtomic \n",
      " state {}\n",
      "\n",
      "~~~ Dispatch task ~~~\n",
      "flow_type: ReverseNumberSequentialFlow_served\n",
      "flow_id: ea6b452b-420d-4531-a6e1-7531b1acbed4\n",
      "message_ids: ['913267c1-e940-4d5a-ac3d-fa688da51841']\n",
      "\n",
      "Called ReverseNumberSequential \n",
      " state {'current_call': 'second_reverse_flow', 'initial_message': FlowMessage(message_id='25e8782d-d59f-4bee-bf26-36ae3dfee599', created_at='2024-03-08 12:50:10.516072000', created_by='Proxy_ReverseNumberSequentialFlow_served', message_type='FlowMessage', data={'id': 0, 'number': 81}, private_keys=[])}\n",
      "\n",
      "~~~ Dispatch task ~~~\n",
      "flow_type: ReverseNumberAtomicFlow_served\n",
      "flow_id: adca3e16-c97b-4f5b-a15c-0cdf4720bdaf\n",
      "message_ids: ['3d3ad46a-d237-42ee-9ab1-2ec0b694c762']\n",
      "\n",
      "Called ReverseNumberAtomic \n",
      " state {}\n",
      "\n",
      "~~~ Dispatch task ~~~\n",
      "flow_type: ReverseNumberSequentialFlow_served\n",
      "flow_id: ea6b452b-420d-4531-a6e1-7531b1acbed4\n",
      "message_ids: ['9040e8f3-b4ba-4d72-8424-525400d68ddd']\n",
      "\n",
      "Called ReverseNumberSequential \n",
      " state {'current_call': 'reply_to_message', 'initial_message': FlowMessage(message_id='25e8782d-d59f-4bee-bf26-36ae3dfee599', created_at='2024-03-08 12:50:10.516072000', created_by='Proxy_ReverseNumberSequentialFlow_served', message_type='FlowMessage', data={'id': 0, 'number': 81}, private_keys=[])}\n"
     ]
    },
    {
     "data": {
      "text/plain": [
       "{'output_number': 81}"
      ]
     },
     "execution_count": 12,
     "metadata": {},
     "output_type": "execute_result"
    }
   ],
   "source": [
    "print(\"Pushing to...\\n\", flow)\n",
    "  \n",
    "input_data = {\"id\": 0, \"number\": 81}\n",
    "    \n",
    "input_message = FlowMessage(\n",
    "    data=input_data,\n",
    "    src_flow=\"Coflows team\",\n",
    "    dst_flow=flow,\n",
    ")\n",
    "\n",
    "flow.ask(input_message).get_data()"
   ]
  },
  {
   "cell_type": "markdown",
   "id": "e4492c0d-f23a-4055-91e5-0bbb2ae12d50",
   "metadata": {},
   "source": [
    "# Unserve flow, delete instances"
   ]
  },
  {
   "cell_type": "code",
   "execution_count": 11,
   "id": "26f9a6d0-5188-444d-87cf-7d1fce214364",
   "metadata": {},
   "outputs": [
    {
     "name": "stdout",
     "output_type": "stream",
     "text": [
      " ReverseNumberSequentialFlow_served/\n",
      "   default_config\n",
      "   mounts/\n",
      "     local/\n",
      "       ea6b452b-420d-4531-a6e1-7531b1acbed4/\n",
      "         init\n"
     ]
    },
    {
     "name": "stdout",
     "output_type": "stream",
     "text": [
      "         config_overrides\n",
      "   serve_mode\n",
      "   default_dispatch_point\n",
      "   init\n",
      " ReverseNumberAtomicFlow_served/\n",
      "   init\n",
      "   default_config\n",
      "   default_dispatch_point\n",
      "   mounts/\n",
      "     local/\n",
      "       b0660839-9341-4cfa-b49c-10e641b5ba2f/\n",
      "         config_overrides\n",
      "         init\n",
      "       adca3e16-c97b-4f5b-a15c-0cdf4720bdaf/\n",
      "         init\n",
      "         config_overrides\n",
      "   serve_mode\n",
      "\n",
      "Live flow instances:\n",
      " adca3e16-c97b-4f5b-a15c-0cdf4720bdaf\n",
      " b0660839-9341-4cfa-b49c-10e641b5ba2f\n",
      " ea6b452b-420d-4531-a6e1-7531b1acbed4\n"
     ]
    }
   ],
   "source": [
    "def status():\n",
    "    colink_utils.print_served_flows(cl)\n",
    "    print(\"\\nLive flow instances:\")\n",
    "    colink_utils.print_flow_instances(cl)\n",
    "status()"
   ]
  },
  {
   "cell_type": "code",
   "execution_count": 14,
   "id": "b17a6793-5875-4fa3-8a3d-7537377bf838",
   "metadata": {
    "scrolled": true
   },
   "outputs": [
    {
     "name": "stdout",
     "output_type": "stream",
     "text": [
      "ReverseNumberAtomicFlow_served has been unserved.\n"
     ]
    }
   ],
   "source": [
    "serve_utils.unserve_flow(cl=cl, flow_type=\"ReverseNumberAtomicFlow_served\")"
   ]
  },
  {
   "cell_type": "code",
   "execution_count": 15,
   "id": "a6a93431-9e21-4598-af52-5284d9245526",
   "metadata": {},
   "outputs": [
    {
     "data": {
      "text/plain": [
       "False"
      ]
     },
     "execution_count": 15,
     "metadata": {},
     "output_type": "execute_result"
    }
   ],
   "source": [
    "serve_utils.is_flow_served(cl, \"ReverseNumberAtomicFlow_served\")"
   ]
  },
  {
   "cell_type": "code",
   "execution_count": 16,
   "id": "103c8cc7-2732-412b-9f08-9fa6ddda7a96",
   "metadata": {},
   "outputs": [
    {
     "name": "stdout",
     "output_type": "stream",
     "text": [
      " ReverseNumberAtomicFlow_served/\n",
      "   init\n",
      "   serve_mode\n",
      "   default_dispatch_point\n",
      "   default_config\n",
      "   mounts/\n",
      "     local/\n",
      "       dbb911c8-e3f2-4441-9f43-5b899905b150/\n",
      "         state\n",
      "         config_overrides\n",
      "         init\n",
      "       f9af6ba5-b5b8-4b78-a93c-f148b665f2bd/\n",
      "         init\n",
      "         config_overrides\n",
      "         state\n",
      " ReverseNumberSequentialFlow_served/\n",
      "   serve_mode\n",
      "   default_config\n",
      "   init\n",
      "   default_dispatch_point\n",
      "   mounts/\n",
      "     local/\n",
      "       882b3caf-e425-4218-98ad-239542f83acf/\n",
      "         config_overrides\n",
      "         state\n",
      "         init\n",
      "\n",
      "Live flow instances:\n",
      " dbb911c8-e3f2-4441-9f43-5b899905b150\n",
      " f9af6ba5-b5b8-4b78-a93c-f148b665f2bd\n",
      " 882b3caf-e425-4218-98ad-239542f83acf\n"
     ]
    }
   ],
   "source": [
    "status()"
   ]
  },
  {
   "cell_type": "code",
   "execution_count": 17,
   "id": "e19047db-fb0d-4ce2-a052-0a7e2962afc9",
   "metadata": {},
   "outputs": [
    {
     "name": "stdout",
     "output_type": "stream",
     "text": [
      "Deleted flow instance dbb911c8-e3f2-4441-9f43-5b899905b150\n",
      "Deleted flow instance f9af6ba5-b5b8-4b78-a93c-f148b665f2bd\n",
      "Stopped serving at flows:ReverseNumberAtomicFlow_served\n"
     ]
    }
   ],
   "source": [
    "serve_utils.delete_served_flow(cl, \"ReverseNumberAtomicFlow_served\")"
   ]
  },
  {
   "cell_type": "code",
   "execution_count": 18,
   "id": "f9e47f65-8240-4aba-a425-82cc5ef20f2f",
   "metadata": {},
   "outputs": [
    {
     "name": "stdout",
     "output_type": "stream",
     "text": [
      " ReverseNumberAtomicFlow_served/\n",
      "   mounts/\n",
      "     local/\n",
      "       dbb911c8-e3f2-4441-9f43-5b899905b150/\n",
      "       f9af6ba5-b5b8-4b78-a93c-f148b665f2bd/\n",
      " ReverseNumberSequentialFlow_served/\n",
      "   serve_mode\n",
      "   default_config\n",
      "   init\n",
      "   default_dispatch_point\n",
      "   mounts/\n",
      "     local/\n",
      "       882b3caf-e425-4218-98ad-239542f83acf/\n",
      "         config_overrides\n",
      "         state\n",
      "         init\n",
      "\n",
      "Live flow instances:\n",
      " 882b3caf-e425-4218-98ad-239542f83acf\n"
     ]
    }
   ],
   "source": [
    "status()"
   ]
  },
  {
   "cell_type": "code",
   "execution_count": 21,
   "id": "b24bb390-22a0-4241-9ad8-1ac56c36fe75",
   "metadata": {},
   "outputs": [
    {
     "name": "stdout",
     "output_type": "stream",
     "text": [
      "Deleted flow instance 882b3caf-e425-4218-98ad-239542f83acf.\n"
     ]
    }
   ],
   "source": [
    "serve_utils.delete_flow_instance(cl, flow.get_instance_id())"
   ]
  },
  {
   "cell_type": "code",
   "execution_count": 22,
   "id": "86c3717d-bf93-45c1-84ad-dcbbda9f0d95",
   "metadata": {},
   "outputs": [
    {
     "name": "stdout",
     "output_type": "stream",
     "text": [
      " ReverseNumberAtomicFlow_served/\n",
      "   mounts/\n",
      "     local/\n",
      "       dbb911c8-e3f2-4441-9f43-5b899905b150/\n",
      "       f9af6ba5-b5b8-4b78-a93c-f148b665f2bd/\n",
      " ReverseNumberSequentialFlow_served/\n",
      "   serve_mode\n",
      "   default_config\n",
      "   init\n",
      "   default_dispatch_point\n",
      "   mounts/\n",
      "     local/\n",
      "       882b3caf-e425-4218-98ad-239542f83acf/\n",
      "\n",
      "Live flow instances:\n"
     ]
    }
   ],
   "source": [
    "status()"
   ]
  }
 ],
 "metadata": {
  "kernelspec": {
   "display_name": "Python 3 (ipykernel)",
   "language": "python",
   "name": "python3"
  },
  "language_info": {
   "codemirror_mode": {
    "name": "ipython",
    "version": 3
   },
   "file_extension": ".py",
   "mimetype": "text/x-python",
   "name": "python",
   "nbconvert_exporter": "python",
   "pygments_lexer": "ipython3",
   "version": "3.11.7"
  }
 },
 "nbformat": 4,
 "nbformat_minor": 5
}

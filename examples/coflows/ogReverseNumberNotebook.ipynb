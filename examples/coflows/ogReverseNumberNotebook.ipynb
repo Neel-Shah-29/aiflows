{
 "cells": [
  {
   "cell_type": "markdown",
   "id": "fc78df95-3264-4711-9184-5ba7219eb90a",
   "metadata": {},
   "source": [
    "# ReverseNumberFlow example"
   ]
  },
  {
   "cell_type": "code",
   "execution_count": 1,
   "id": "f086a301-03bc-49f2-b6aa-1aff9862ae8d",
   "metadata": {},
   "outputs": [],
   "source": [
    "%load_ext autoreload\n",
    "%autoreload 2"
   ]
  },
  {
   "cell_type": "code",
   "execution_count": 2,
   "id": "7352f95a-79da-4d94-a557-f39cc7544b4c",
   "metadata": {},
   "outputs": [],
   "source": [
    "import os, json\n",
    "\n",
    "from colink import CoLink\n",
    "\n",
    "from aiflows.utils import serve_utils\n",
    "from aiflows.utils.general_helpers import read_yaml_file\n",
    "from aiflows.messages import FlowMessage\n",
    "from aiflows.utils import coflows_utils\n",
    "from aiflows.workers import run_dispatch_worker_thread"
   ]
  },
  {
   "cell_type": "code",
   "execution_count": 3,
   "id": "d07e9b08-46f9-4934-9058-7c9d58f8193d",
   "metadata": {},
   "outputs": [],
   "source": [
    "FLOW_MODULES_PATH = \"./\""
   ]
  },
  {
   "cell_type": "markdown",
   "id": "2317f744-65a0-4930-adc7-0b1a0cb2e28f",
   "metadata": {},
   "source": [
    "# Connect to CoLink server\n",
    "\n",
    "To connect to a real server, run below cell instead of the one after."
   ]
  },
  {
   "cell_type": "code",
   "execution_count": 4,
   "id": "d61f73de-50c0-4621-90bc-12aa7a302441",
   "metadata": {},
   "outputs": [],
   "source": [
    "#USER_JWT_PATH = \"/home/staverm/workspace/coflows-dev/coflows/jwts.txt\"\n",
    "#user_jwt = open(USER_JWT_PATH).readline().strip()\n",
    "#cl = CoLink(\"http://127.0.0.1:2021\", user_jwt)"
   ]
  },
  {
   "cell_type": "code",
   "execution_count": 5,
   "id": "e692a432-56b5-4040-8971-6f6246ab60e5",
   "metadata": {},
   "outputs": [],
   "source": [
    "cl = coflows_utils.start_colink_server()"
   ]
  },
  {
   "cell_type": "markdown",
   "id": "ba8970db-4b3a-4bf6-9dde-f60d143c9642",
   "metadata": {},
   "source": [
    "# Load flow config\n",
    "\n",
    "Every flow instance gets initialized with a flow config specified in a yaml file.\n",
    "\n",
    "The ``_target_`` key specifies the method name used to instantiate the flow. \n",
    "\n",
    "## Load config for ReverseNumberAtomicFlow"
   ]
  },
  {
   "cell_type": "code",
   "execution_count": 6,
   "id": "a710490c-9636-4c5c-b6f6-95aee72be272",
   "metadata": {},
   "outputs": [
    {
     "name": "stdout",
     "output_type": "stream",
     "text": [
      "{\n",
      "    \"name\": \"ReverseNumber\",\n",
      "    \"description\": \"A flow that takes in a number and reverses it.\",\n",
      "    \"_target_\": \"ReverseNumberFlowModule.ReverseNumberAtomicFlow.instantiate_from_default_config\",\n",
      "    \"input_interface\": {\n",
      "        \"_target_\": \"aiflows.interfaces.KeyInterface\",\n",
      "        \"keys_to_select\": [\n",
      "            \"number\"\n",
      "        ]\n",
      "    },\n",
      "    \"output_interface\": {\n",
      "        \"_target_\": \"aiflows.interfaces.KeyInterface\",\n",
      "        \"keys_to_rename\": {\n",
      "            \"output_number\": \"reversed_number\"\n",
      "        }\n",
      "    }\n",
      "}\n"
     ]
    }
   ],
   "source": [
    "reverse_number_atomic_default_config = read_yaml_file(\n",
    "    os.path.join(FLOW_MODULES_PATH, \"ReverseNumberFlowModule/ReverseNumberAtomicFlow.yaml\"))\n",
    "print(json.dumps(reverse_number_atomic_default_config, indent=4))"
   ]
  },
  {
   "cell_type": "markdown",
   "id": "e47fabc0-3dc0-4042-8a7e-79068c477f5c",
   "metadata": {},
   "source": [
    "## Load config for ReverseNumberSequentialFlow"
   ]
  },
  {
   "cell_type": "code",
   "execution_count": 7,
   "id": "a994c047-c2ca-4443-a922-dd5eeec4a3c8",
   "metadata": {},
   "outputs": [
    {
     "name": "stdout",
     "output_type": "stream",
     "text": [
      "{\n",
      "    \"name\": \"ReverseNumberTwice\",\n",
      "    \"description\": \"A sequential flow that reverses a number twice.\",\n",
      "    \"_target_\": \"ReverseNumberFlowModule.ReverseNumberSequentialFlow.instantiate_from_default_config\",\n",
      "    \"flow_type\": \"ReverseNumberSequentialFlow_served\",\n",
      "    \"input_interface\": [\n",
      "        \"number\"\n",
      "    ],\n",
      "    \"output_interface\": [\n",
      "        \"output_number\"\n",
      "    ],\n",
      "    \"subflows_config\": {\n",
      "        \"first_reverse_flow\": {\n",
      "            \"_target_\": \"aiflows.base_flows.AtomicFlow.instantiate_from_default_config\",\n",
      "            \"user_id\": \"local\",\n",
      "            \"flow_type\": \"ReverseNumberAtomicFlow_served\",\n",
      "            \"name\": \"ReverseNumberFirst\",\n",
      "            \"description\": \"A flow that takes in a number and reverses it.\"\n",
      "        },\n",
      "        \"second_reverse_flow\": {\n",
      "            \"_target_\": \"aiflows.base_flows.AtomicFlow.instantiate_from_default_config\",\n",
      "            \"user_id\": \"local\",\n",
      "            \"flow_type\": \"ReverseNumberAtomicFlow_served\",\n",
      "            \"name\": \"ReverseNumberSecond\",\n",
      "            \"description\": \"A flow that takes in a number and reverses it AGAIN.\",\n",
      "            \"config_overrides\": {\n",
      "                \"description\": \"Overriden description.\"\n",
      "            }\n",
      "        }\n",
      "    }\n",
      "}\n"
     ]
    }
   ],
   "source": [
    "reverse_number_sequential_default_config = read_yaml_file(\n",
    "    os.path.join(FLOW_MODULES_PATH, \"ReverseNumberFlowModule/ReverseNumberSequentialFlow.yaml\"))\n",
    "print(json.dumps(reverse_number_sequential_default_config, indent=4))"
   ]
  },
  {
   "cell_type": "markdown",
   "id": "27071f16-bd46-443d-9718-8b866813d3a8",
   "metadata": {},
   "source": [
    "# Serve Flows"
   ]
  },
  {
   "cell_type": "code",
   "execution_count": 8,
   "id": "ad2fed22-36cb-4f68-a484-99d242dffb33",
   "metadata": {},
   "outputs": [
    {
     "name": "stdout",
     "output_type": "stream",
     "text": [
      "Started serving at flows:ReverseNumberAtomicFlow_served.\n",
      "Started serving at flows:ReverseNumberSequentialFlow_served.\n"
     ]
    },
    {
     "data": {
      "text/plain": [
       "True"
      ]
     },
     "execution_count": 8,
     "metadata": {},
     "output_type": "execute_result"
    }
   ],
   "source": [
    "serve_utils.serve_flow(\n",
    "    cl=cl,\n",
    "    flow_type=\"ReverseNumberAtomicFlow_served\",\n",
    "    default_config=reverse_number_atomic_default_config,\n",
    "    default_state=None,\n",
    "    default_dispatch_point=\"coflows_dispatch\",\n",
    ")\n",
    "serve_utils.serve_flow(\n",
    "    cl=cl,\n",
    "    flow_type=\"ReverseNumberSequentialFlow_served\",\n",
    "    default_config=reverse_number_sequential_default_config,\n",
    "    default_state=None,\n",
    "    default_dispatch_point=\"coflows_dispatch\",\n",
    "    # serve_mode=\"statefull\" \"stateless\" \"singleton\"\n",
    ")"
   ]
  },
  {
   "cell_type": "markdown",
   "id": "18a35b68-0504-4b1c-895e-82a9cc8c9d0e",
   "metadata": {},
   "source": [
    "# Start dispatch workers"
   ]
  },
  {
   "cell_type": "code",
   "execution_count": 9,
   "id": "a179235b-71c4-40d7-a7ca-73cda0ff77ff",
   "metadata": {},
   "outputs": [
    {
     "name": "stdout",
     "output_type": "stream",
     "text": [
      "Dispatch worker started in attached thread.\n",
      "\n",
      "~~~ Dispatch task ~~~\n",
      "flow_type: ReverseNumberSequentialFlow_served\n",
      "flow_id: 750745d8-6df4-45b5-88c9-e8276fc56bf5\n",
      "message_ids: ['4e2fd72f-e5fe-407e-b76c-dcd543c6395c']\n",
      "\n",
      "Called ReverseNumberSequential\n",
      "\n"
     ]
    }
   ],
   "source": [
    "run_dispatch_worker_thread(cl, dispatch_point=\"coflows_dispatch\", flow_modules_base_path=FLOW_MODULES_PATH)"
   ]
  },
  {
   "cell_type": "code",
   "execution_count": 10,
   "id": "3d1a46cb-e4b5-434d-b718-f6338b713d16",
   "metadata": {},
   "outputs": [
    {
     "name": "stdout",
     "output_type": "stream",
     "text": [
      "Dispatch worker started in attached thread.\n",
      "\n",
      "~~~ Dispatch task ~~~\n",
      "flow_type: ReverseNumberAtomicFlow_served\n",
      "flow_id: fd50460f-d6b5-403c-b454-5a16e608d055\n",
      "message_ids: ['d70bd97e-ecbe-4edf-9f83-56e2b54be205']\n",
      "\n",
      "Called ReverseNumberAtomic\n",
      "\n",
      "\n",
      "~~~ Dispatch task ~~~\n",
      "flow_type: ReverseNumberAtomicFlow_served\n",
      "flow_id: 8f0411b8-eaed-4d11-9b80-fb90d012a2df\n",
      "message_ids: ['b24b0de0-0340-4603-a537-4d8fac28c9ea']\n",
      "\n",
      "Called ReverseNumberAtomic\n",
      "\n"
     ]
    }
   ],
   "source": [
    "run_dispatch_worker_thread(cl, dispatch_point=\"coflows_dispatch\", flow_modules_base_path=FLOW_MODULES_PATH)"
   ]
  },
  {
   "cell_type": "code",
   "execution_count": 12,
   "id": "56bf670c-3639-4ed3-bf6b-21b9fbd63015",
   "metadata": {},
   "outputs": [
    {
     "name": "stdout",
     "output_type": "stream",
     "text": [
      "Mounted fd50460f-d6b5-403c-b454-5a16e608d055 at flows:ReverseNumberAtomicFlow_served:mounts:local:fd50460f-d6b5-403c-b454-5a16e608d055\n",
      "Mounted 8f0411b8-eaed-4d11-9b80-fb90d012a2df at flows:ReverseNumberAtomicFlow_served:mounts:local:8f0411b8-eaed-4d11-9b80-fb90d012a2df\n",
      "Mounted 750745d8-6df4-45b5-88c9-e8276fc56bf5 at flows:ReverseNumberSequentialFlow_served:mounts:local:750745d8-6df4-45b5-88c9-e8276fc56bf5\n"
     ]
    }
   ],
   "source": [
    "flow = serve_utils.recursive_mount(\n",
    "    cl=cl,\n",
    "    client_id=\"local\",\n",
    "    flow_type=\"ReverseNumberSequentialFlow_served\",\n",
    "    config_overrides=None,\n",
    "    initial_state=None,\n",
    "    dispatch_point_override=None,\n",
    ")"
   ]
  },
  {
   "cell_type": "code",
   "execution_count": 13,
   "id": "ab237430-b224-4ff3-a020-5f4f24bf8bec",
   "metadata": {},
   "outputs": [
    {
     "name": "stdout",
     "output_type": "stream",
     "text": [
      "Pushing to...\n",
      " Name: Proxy_ReverseNumberSequentialFlow_served\n",
      "Class name: AtomicFlow\n",
      "Type: AtomicFlow\n",
      "Description: Proxy of ReverseNumberSequentialFlow_served\n",
      "Input keys: no input keys\n",
      "Output keys: no output keys\n",
      "\n"
     ]
    },
    {
     "data": {
      "text/plain": [
       "{'output_number': 81}"
      ]
     },
     "execution_count": 13,
     "metadata": {},
     "output_type": "execute_result"
    }
   ],
   "source": [
    "print(\"Pushing to...\\n\", flow)\n",
    "  \n",
    "input_data = {\"id\": 0, \"number\": 81}\n",
    "    \n",
    "input_message = FlowMessage(\n",
    "    data=input_data,\n",
    "    src_flow=\"Coflows team\",\n",
    "    dst_flow=flow,\n",
    "    is_input_msg=True,\n",
    ")\n",
    "\n",
    "flow.ask(input_message).get_data()"
   ]
  }
 ],
 "metadata": {
  "kernelspec": {
   "display_name": "Python 3 (ipykernel)",
   "language": "python",
   "name": "python3"
  },
  "language_info": {
   "codemirror_mode": {
    "name": "ipython",
    "version": 3
   },
   "file_extension": ".py",
   "mimetype": "text/x-python",
   "name": "python",
   "nbconvert_exporter": "python",
   "pygments_lexer": "ipython3",
   "version": "3.10.6"
  }
 },
 "nbformat": 4,
 "nbformat_minor": 5
}

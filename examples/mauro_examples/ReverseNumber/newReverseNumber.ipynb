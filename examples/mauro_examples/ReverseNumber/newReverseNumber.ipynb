{
 "cells": [
  {
   "cell_type": "markdown",
   "id": "d7a649b1-e259-4b73-8df5-5dc7c28cae47",
   "metadata": {},
   "source": [
    "# ReverseNumber Example"
   ]
  },
  {
   "cell_type": "code",
   "execution_count": 1,
   "id": "686be679-0b12-4675-8f25-67aaabc9c33a",
   "metadata": {},
   "outputs": [],
   "source": [
    "%load_ext autoreload\n",
    "%autoreload 2"
   ]
  },
  {
   "cell_type": "code",
   "execution_count": 2,
   "id": "3290339a-e045-465a-a503-03dece48822a",
   "metadata": {},
   "outputs": [],
   "source": [
    "import os, json\n",
    "\n",
    "from colink import CoLink\n",
    "\n",
    "from aiflows.utils import serve_utils\n",
    "from aiflows.utils.general_helpers import read_yaml_file\n",
    "from aiflows.messages import FlowMessage\n",
    "from aiflows.utils import coflows_utils, colink_utils\n",
    "from aiflows.workers import run_dispatch_worker_thread"
   ]
  },
  {
   "cell_type": "code",
   "execution_count": 3,
   "id": "e4f46587-dfd2-4ca3-bb14-e78ba9860251",
   "metadata": {},
   "outputs": [],
   "source": [
    "#USER_JWT_PATH = \"/home/staverm/workspace/coflows-dev/coflows/jwts.txt\"\n",
    "#user_jwt = open(USER_JWT_PATH).readline().strip()\n",
    "#cl = CoLink(\"http://127.0.0.1:2021\", user_jwt)"
   ]
  },
  {
   "cell_type": "code",
   "execution_count": 4,
   "id": "aa7d4186-d488-4a52-99d6-6a804cccd977",
   "metadata": {},
   "outputs": [],
   "source": [
    "cl = colink_utils.start_colink_server()"
   ]
  },
  {
   "cell_type": "markdown",
   "id": "d83270d6-93ad-4320-9821-506cef7969fc",
   "metadata": {},
   "source": [
    "# Start a few default workers"
   ]
  },
  {
   "cell_type": "code",
   "execution_count": 5,
   "id": "5b5e4f24-ed99-4d6a-af56-9c404bd43164",
   "metadata": {},
   "outputs": [
    {
     "name": "stdout",
     "output_type": "stream",
     "text": [
      "Dispatch worker started in attached thread.\n",
      "dispatch_point: coflows_dispatch\n",
      "\n",
      "~~~ Dispatch task ~~~\n",
      "flow_type: reverse_number_sequential\n",
      "flow_id: 74392cc4-64d2-4a0d-b807-ae6e768dcb50\n",
      "message_ids: ['4ab9bbc8-777a-43c4-8950-554c31fc0715']\n",
      "parallel_dispatch: False\n",
      "\n",
      "Called ReverseNumberSequential \n",
      " state {'current_call': 'first_reverse_flow'}\n",
      "\n",
      "~~~ Dispatch task ~~~\n",
      "flow_type: reverse_number_sequential\n",
      "flow_id: 74392cc4-64d2-4a0d-b807-ae6e768dcb50\n",
      "message_ids: ['4b7745f6-831f-42ec-8c56-a4263d3ac8cd']\n",
      "parallel_dispatch: False\n",
      "\n",
      "Called ReverseNumberSequential \n",
      " state {'current_call': 'second_reverse_flow', 'initial_message': FlowMessage(message_id='faa652be-174e-4fdc-b2ed-6dc537787f26', created_at='2024-03-15 08:46:12.434456180', created_by='Proxy_reverse_number_sequential', message_type='FlowMessage', data={'id': 0, 'number': 1234}, private_keys=[])}\n",
      "\n",
      "~~~ Dispatch task ~~~\n",
      "flow_type: reverse_number_sequential\n",
      "flow_id: 74392cc4-64d2-4a0d-b807-ae6e768dcb50\n",
      "message_ids: ['e6672e86-1e82-4e29-bdcf-630936352b05']\n",
      "parallel_dispatch: False\n",
      "\n",
      "Called ReverseNumberSequential \n",
      " state {'current_call': 'reply_to_message', 'initial_message': FlowMessage(message_id='faa652be-174e-4fdc-b2ed-6dc537787f26', created_at='2024-03-15 08:46:12.434456180', created_by='Proxy_reverse_number_sequential', message_type='FlowMessage', data={'id': 0, 'number': 1234}, private_keys=[])}\n"
     ]
    }
   ],
   "source": [
    "run_dispatch_worker_thread(cl)"
   ]
  },
  {
   "cell_type": "code",
   "execution_count": 6,
   "id": "e0e910a9-34ed-4e23-b736-36a247501e6c",
   "metadata": {},
   "outputs": [
    {
     "name": "stdout",
     "output_type": "stream",
     "text": [
      "Dispatch worker started in attached thread.\n",
      "dispatch_point: coflows_dispatch\n",
      "\n",
      "~~~ Dispatch task ~~~\n",
      "flow_type: reverse_number_atomic\n",
      "flow_id: 3bd97fec-5f9f-4a6c-80a5-d1d2fecab6f2\n",
      "message_ids: ['c52955f5-ef40-45cc-b8ab-0f6615137690']\n",
      "parallel_dispatch: False\n",
      "\n",
      "Called ReverseNumberAtomic \n",
      " state {}\n",
      "\n",
      "~~~ Dispatch task ~~~\n",
      "flow_type: reverse_number_atomic\n",
      "flow_id: 3bd97fec-5f9f-4a6c-80a5-d1d2fecab6f2\n",
      "message_ids: ['47be4bd0-1c3d-4857-aa73-ac27a22b0a00']\n",
      "parallel_dispatch: False\n",
      "\n",
      "Called ReverseNumberAtomic \n",
      " state {}\n"
     ]
    }
   ],
   "source": [
    "run_dispatch_worker_thread(cl)"
   ]
  },
  {
   "cell_type": "markdown",
   "id": "e623d0b4-1501-4460-bc5f-a1aeb590eefc",
   "metadata": {},
   "source": [
    "# Serve"
   ]
  },
  {
   "cell_type": "code",
   "execution_count": 7,
   "id": "fd960cb9-4b24-4b2f-b374-0b3c89e7dd55",
   "metadata": {
    "scrolled": true
   },
   "outputs": [
    {
     "name": "stdout",
     "output_type": "stream",
     "text": [
      "Started serving ReverseNumberFlowModule.ReverseNumberAtomicFlow at flows:reverse_number_atomic.\n",
      "dispatch_point: coflows_dispatch\n",
      "parallel_dispatch: False\n",
      "singleton: False\n",
      "Started serving ReverseNumberFlowModule.ReverseNumberSequentialFlow at flows:reverse_number_sequential.\n",
      "dispatch_point: coflows_dispatch\n",
      "parallel_dispatch: False\n",
      "singleton: False\n"
     ]
    },
    {
     "data": {
      "text/plain": [
       "True"
      ]
     },
     "execution_count": 7,
     "metadata": {},
     "output_type": "execute_result"
    }
   ],
   "source": [
    "serve_utils.serve_flow(\n",
    "    cl=cl,\n",
    "    flow_class_name=\"ReverseNumberFlowModule.ReverseNumberAtomicFlow\",\n",
    "    flow_endpoint=\"reverse_number_atomic\",\n",
    ")\n",
    "serve_utils.serve_flow(\n",
    "    cl=cl,\n",
    "    flow_class_name=\"ReverseNumberFlowModule.ReverseNumberSequentialFlow\",\n",
    "    flow_endpoint=\"reverse_number_sequential\"\n",
    ")"
   ]
  },
  {
   "cell_type": "markdown",
   "id": "f1c1addd-333e-4917-8170-8237b4ee307e",
   "metadata": {},
   "source": [
    "## Get instance"
   ]
  },
  {
   "cell_type": "code",
   "execution_count": 8,
   "id": "dfd8d59c-138a-47a7-97ad-e6393f1c909d",
   "metadata": {},
   "outputs": [
    {
     "name": "stdout",
     "output_type": "stream",
     "text": [
      "Creating new flow instance with config:\n",
      " {\n",
      "    \"private_keys\": [],\n",
      "    \"keys_to_ignore_for_hash_flow_config\": [\n",
      "        \"name\",\n",
      "        \"description\",\n",
      "        \"api_keys\",\n",
      "        \"api_information\",\n",
      "        \"private_keys\"\n",
      "    ],\n",
      "    \"keys_to_ignore_for_hash_flow_state\": [\n",
      "        \"name\",\n",
      "        \"description\",\n",
      "        \"api_keys\",\n",
      "        \"api_information\",\n",
      "        \"private_keys\"\n",
      "    ],\n",
      "    \"keys_to_ignore_for_hash_input_data\": [],\n",
      "    \"clear_flow_namespace_on_run_end\": true,\n",
      "    \"enable_cache\": false,\n",
      "    \"name\": \"ReverseNumberFirst\",\n",
      "    \"description\": \"A flow that takes in a number and reverses it.\",\n",
      "    \"_target_\": \"ReverseNumberFlowModule.ReverseNumberAtomicFlow.instantiate_from_default_config\",\n",
      "    \"input_interface\": {\n",
      "        \"_target_\": \"aiflows.interfaces.KeyInterface\",\n",
      "        \"keys_to_select\": [\n",
      "            \"number\"\n",
      "        ]\n",
      "    },\n",
      "    \"output_interface\": {\n",
      "        \"_target_\": \"aiflows.interfaces.KeyInterface\",\n",
      "        \"keys_to_rename\": {\n",
      "            \"output_number\": \"reversed_number\"\n",
      "        }\n",
      "    }\n",
      "}\n",
      "Mounted 3bd97fec-5f9f-4a6c-80a5-d1d2fecab6f2 at flows:reverse_number_atomic:mounts:local:3bd97fec-5f9f-4a6c-80a5-d1d2fecab6f2\n",
      "Creating new flow instance with config:\n",
      " {\n",
      "    \"private_keys\": [],\n",
      "    \"keys_to_ignore_for_hash_flow_config\": [\n",
      "        \"name\",\n",
      "        \"description\",\n",
      "        \"api_keys\",\n",
      "        \"api_information\",\n",
      "        \"private_keys\"\n",
      "    ],\n",
      "    \"keys_to_ignore_for_hash_flow_state\": [\n",
      "        \"name\",\n",
      "        \"description\",\n",
      "        \"api_keys\",\n",
      "        \"api_information\",\n",
      "        \"private_keys\"\n",
      "    ],\n",
      "    \"keys_to_ignore_for_hash_input_data\": [],\n",
      "    \"clear_flow_namespace_on_run_end\": true,\n",
      "    \"enable_cache\": false,\n",
      "    \"name\": \"ReverseNumberSecond\",\n",
      "    \"description\": \"A flow that takes in a number and reverses it AGAIN.\",\n",
      "    \"_target_\": \"ReverseNumberFlowModule.ReverseNumberAtomicFlow.instantiate_from_default_config\",\n",
      "    \"input_interface\": {\n",
      "        \"_target_\": \"aiflows.interfaces.KeyInterface\",\n",
      "        \"keys_to_select\": [\n",
      "            \"number\"\n",
      "        ]\n",
      "    },\n",
      "    \"output_interface\": {\n",
      "        \"_target_\": \"aiflows.interfaces.KeyInterface\",\n",
      "        \"keys_to_rename\": {\n",
      "            \"output_number\": \"reversed_number\"\n",
      "        }\n",
      "    }\n",
      "}\n",
      "Mounted bc65d389-833a-4e26-8823-add31253df47 at flows:reverse_number_atomic:mounts:local:bc65d389-833a-4e26-8823-add31253df47\n",
      "Creating new flow instance with config:\n",
      " {\n",
      "    \"private_keys\": [],\n",
      "    \"keys_to_ignore_for_hash_flow_config\": [\n",
      "        \"name\",\n",
      "        \"description\",\n",
      "        \"api_keys\",\n",
      "        \"api_information\",\n",
      "        \"private_keys\"\n",
      "    ],\n",
      "    \"keys_to_ignore_for_hash_flow_state\": [\n",
      "        \"name\",\n",
      "        \"description\",\n",
      "        \"api_keys\",\n",
      "        \"api_information\",\n",
      "        \"private_keys\"\n",
      "    ],\n",
      "    \"keys_to_ignore_for_hash_input_data\": [],\n",
      "    \"clear_flow_namespace_on_run_end\": true,\n",
      "    \"enable_cache\": false,\n",
      "    \"name\": \"ReverseNumberTwice\",\n",
      "    \"description\": \"A sequential flow that reverses a number twice.\",\n",
      "    \"_target_\": \"ReverseNumberFlowModule.ReverseNumberSequentialFlow.instantiate_from_default_config\",\n",
      "    \"input_interface\": [\n",
      "        \"number\"\n",
      "    ],\n",
      "    \"output_interface\": [\n",
      "        \"output_number\"\n",
      "    ],\n",
      "    \"subflows_config\": {\n",
      "        \"first_reverse_flow\": {\n",
      "            \"user_id\": \"local\",\n",
      "            \"flow_endpoint\": \"reverse_number_atomic\",\n",
      "            \"name\": \"ReverseNumberFirst\",\n",
      "            \"description\": \"A flow that takes in a number and reverses it.\",\n",
      "            \"_target_\": \"aiflows.base_flows.AtomicFlow.instantiate_from_default_config\",\n",
      "            \"flow_id\": \"3bd97fec-5f9f-4a6c-80a5-d1d2fecab6f2\"\n",
      "        },\n",
      "        \"second_reverse_flow\": {\n",
      "            \"user_id\": \"local\",\n",
      "            \"flow_endpoint\": \"reverse_number_atomic\",\n",
      "            \"name\": \"ReverseNumberSecond\",\n",
      "            \"description\": \"A flow that takes in a number and reverses it AGAIN.\",\n",
      "            \"_target_\": \"aiflows.base_flows.AtomicFlow.instantiate_from_default_config\",\n",
      "            \"flow_id\": \"bc65d389-833a-4e26-8823-add31253df47\"\n",
      "        }\n",
      "    }\n",
      "}\n",
      "Mounted 74392cc4-64d2-4a0d-b807-ae6e768dcb50 at flows:reverse_number_sequential:mounts:local:74392cc4-64d2-4a0d-b807-ae6e768dcb50\n"
     ]
    }
   ],
   "source": [
    "flow = serve_utils.get_flow_instance(\n",
    "    cl=cl,\n",
    "    flow_endpoint=\"reverse_number_sequential\",\n",
    "    user_id=\"local\",\n",
    ")"
   ]
  },
  {
   "cell_type": "code",
   "execution_count": 9,
   "id": "85e5a4ee-00d4-440d-b2f2-c9933ee7e718",
   "metadata": {},
   "outputs": [
    {
     "name": "stdout",
     "output_type": "stream",
     "text": [
      "Data sent:\n",
      " {'id': 0, 'number': 1234} \n",
      "\n",
      "REPLY:\n",
      " {'output_number': 1234} \n",
      "\n"
     ]
    }
   ],
   "source": [
    "input_data = {\"id\": 0, \"number\": 1234}\n",
    "    \n",
    "input_message = flow.package_input_message(input_data)\n",
    "future = flow.get_reply_future(input_message)\n",
    "reply_data = future.get_data()\n",
    "\n",
    "print(\"Data sent:\\n\",  input_data, \"\\n\")\n",
    "print(\"REPLY:\\n\", reply_data, \"\\n\")"
   ]
  },
  {
   "cell_type": "markdown",
   "id": "7165ec2f-e980-4a0b-bf3d-403f343338df",
   "metadata": {},
   "source": [
    "## Observe memory"
   ]
  },
  {
   "cell_type": "code",
   "execution_count": 10,
   "id": "91ffac26-eca1-4fe4-946b-984cdc280d06",
   "metadata": {},
   "outputs": [
    {
     "name": "stdout",
     "output_type": "stream",
     "text": [
      " reverse_number_sequential/\n",
      "   parallel_dispatch\n",
      "   default_dispatch_point\n",
      "   flow_class_name\n",
      "   mounts/\n",
      "     local/\n",
      "       74392cc4-64d2-4a0d-b807-ae6e768dcb50/\n",
      "         init\n",
      "         state\n",
      "         config_overrides\n",
      "   init\n",
      "   singleton\n",
      " reverse_number_atomic/\n",
      "   singleton\n",
      "   default_dispatch_point\n",
      "   init\n",
      "   parallel_dispatch\n",
      "   mounts/\n",
      "     local/\n",
      "       bc65d389-833a-4e26-8823-add31253df47/\n",
      "         init\n",
      "         config_overrides\n",
      "       3bd97fec-5f9f-4a6c-80a5-d1d2fecab6f2/\n",
      "         state\n",
      "         config_overrides\n",
      "         init\n",
      "   flow_class_name\n",
      "\n",
      "Live flow instances:\n",
      " bc65d389-833a-4e26-8823-add31253df47\n",
      " 74392cc4-64d2-4a0d-b807-ae6e768dcb50\n",
      " 3bd97fec-5f9f-4a6c-80a5-d1d2fecab6f2\n"
     ]
    }
   ],
   "source": [
    "def status():\n",
    "    colink_utils.print_served_flows(cl, print_values=False)\n",
    "    print(\"\\nLive flow instances:\")\n",
    "    colink_utils.print_flow_instances(cl)\n",
    "status()"
   ]
  }
 ],
 "metadata": {
  "kernelspec": {
   "display_name": "Python 3 (ipykernel)",
   "language": "python",
   "name": "python3"
  },
  "language_info": {
   "codemirror_mode": {
    "name": "ipython",
    "version": 3
   },
   "file_extension": ".py",
   "mimetype": "text/x-python",
   "name": "python",
   "nbconvert_exporter": "python",
   "pygments_lexer": "ipython3",
   "version": "3.10.6"
  }
 },
 "nbformat": 4,
 "nbformat_minor": 5
}

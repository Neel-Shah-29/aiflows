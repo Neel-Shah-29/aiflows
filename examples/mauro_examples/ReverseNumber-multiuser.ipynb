{
 "cells": [
  {
   "cell_type": "markdown",
   "id": "d7a649b1-e259-4b73-8df5-5dc7c28cae47",
   "metadata": {},
   "source": [
    "# ReverseNumber Example - two users"
   ]
  },
  {
   "cell_type": "code",
   "execution_count": 1,
   "id": "686be679-0b12-4675-8f25-67aaabc9c33a",
   "metadata": {},
   "outputs": [],
   "source": [
    "%load_ext autoreload\n",
    "%autoreload 2"
   ]
  },
  {
   "cell_type": "code",
   "execution_count": 2,
   "id": "3290339a-e045-465a-a503-03dece48822a",
   "metadata": {},
   "outputs": [],
   "source": [
    "import os, json\n",
    "\n",
    "from colink import CoLink\n",
    "\n",
    "from aiflows.utils import serve_utils\n",
    "from aiflows.utils.general_helpers import read_yaml_file\n",
    "from aiflows.messages import FlowMessage\n",
    "from aiflows.utils import coflows_utils, colink_utils\n",
    "from aiflows.workers import run_dispatch_worker_thread, run_get_instance_worker_thread\n",
    "\n",
    "def status(cl):\n",
    "    colink_utils.print_served_flows(cl, print_values=False)\n",
    "    print(\"\\nAll flow instances:\")\n",
    "    colink_utils.print_flow_instances(cl)"
   ]
  },
  {
   "cell_type": "markdown",
   "id": "0afb71d4-fc58-425b-98ae-c7667a159565",
   "metadata": {},
   "source": [
    "# Create two users"
   ]
  },
  {
   "cell_type": "code",
   "execution_count": 3,
   "id": "aa7d4186-d488-4a52-99d6-6a804cccd977",
   "metadata": {},
   "outputs": [],
   "source": [
    "cls = colink_utils.start_colink_server_with_users(num_users=2)"
   ]
  },
  {
   "cell_type": "markdown",
   "id": "0af33573-24b2-4d27-a7dc-9299f17d1e5b",
   "metadata": {},
   "source": [
    "# USER 0"
   ]
  },
  {
   "cell_type": "code",
   "execution_count": 4,
   "id": "c36a4f71-7fc6-490c-9966-de8725120a64",
   "metadata": {},
   "outputs": [
    {
     "name": "stdout",
     "output_type": "stream",
     "text": [
      "Dispatch worker started in attached thread.\n",
      "dispatch_point: coflows_dispatch\n",
      "get_instances worker started in attached thread for user  02acba5dea871c06c99ba42bb813eeef11074940671bd3a950f89ebed350da52a3\n",
      "\n",
      "~~~ serving get_instances request ~~~\n",
      "Mounted c9257714-8465-4951-8c15-e4aefaa58cc3 at flows:reverse_number_atomic:mounts:02d29bc3e276de86016c350d3e3b637148eda4af310c0f84405c0f138365aab669:c9257714-8465-4951-8c15-e4aefaa58cc3\n",
      "Fetched singleton c9257714-8465-4951-8c15-e4aefaa58cc3\n",
      "\n",
      "~~~ Dispatch task ~~~\n",
      "flow_endpoint: reverse_number_atomic\n",
      "flow_id: c9257714-8465-4951-8c15-e4aefaa58cc3\n",
      "message_paths: ['push_tasks:22b5208d-2d44-497e-a930-b0958b2ccc73:msg']\n",
      "parallel_dispatch: False\n",
      "\n",
      "Called ReverseNumberAtomic \n",
      " state {}\n",
      "\n",
      "~~~ Dispatch task ~~~\n",
      "flow_endpoint: reverse_number_atomic\n",
      "flow_id: c9257714-8465-4951-8c15-e4aefaa58cc3\n",
      "message_paths: ['push_tasks:816601b3-86b0-4c12-9cb1-b2177c024ebd:msg']\n",
      "parallel_dispatch: False\n",
      "\n",
      "Called ReverseNumberAtomic \n",
      " state {}\n"
     ]
    }
   ],
   "source": [
    "run_dispatch_worker_thread(cls[0])\n",
    "run_get_instance_worker_thread(cls[0])"
   ]
  },
  {
   "cell_type": "code",
   "execution_count": 5,
   "id": "fd1aa9eb-13a2-43f1-9d07-ce1f29d5a38e",
   "metadata": {},
   "outputs": [
    {
     "name": "stdout",
     "output_type": "stream",
     "text": [
      "Started serving ReverseNumberFlowModule.ReverseNumberAtomicFlow at flows:reverse_number_atomic.\n",
      "dispatch_point: coflows_dispatch\n",
      "parallel_dispatch: False\n",
      "singleton: True\n"
     ]
    },
    {
     "data": {
      "text/plain": [
       "True"
      ]
     },
     "execution_count": 5,
     "metadata": {},
     "output_type": "execute_result"
    }
   ],
   "source": [
    "serve_utils.serve_flow(\n",
    "    cl=cls[0],\n",
    "    flow_class_name=\"ReverseNumberFlowModule.ReverseNumberAtomicFlow\",\n",
    "    flow_endpoint=\"reverse_number_atomic\",\n",
    "    singleton=True,\n",
    ")"
   ]
  },
  {
   "cell_type": "markdown",
   "id": "0f8edcdb-ac4d-45d6-a2fe-be043d00d85d",
   "metadata": {},
   "source": [
    "# USER 1"
   ]
  },
  {
   "cell_type": "code",
   "execution_count": 6,
   "id": "6c0f9635-9e85-4f81-a5f5-5e587ad80c36",
   "metadata": {},
   "outputs": [
    {
     "name": "stdout",
     "output_type": "stream",
     "text": [
      "Dispatch worker started in attached thread.\n",
      "dispatch_point: coflows_dispatch\n",
      "get_instances worker started in attached thread for user  02d29bc3e276de86016c350d3e3b637148eda4af310c0f84405c0f138365aab669\n",
      "\n",
      "~~~ get_instances initiator ~~~\n",
      "Received subflow instances: {\n",
      "    \"first_reverse_flow\": {\n",
      "        \"flow_id\": \"c9257714-8465-4951-8c15-e4aefaa58cc3\",\n",
      "        \"successful\": true,\n",
      "        \"message\": \"Fetched local flow instance.\"\n",
      "    },\n",
      "    \"second_reverse_flow\": {\n",
      "        \"flow_id\": \"c9257714-8465-4951-8c15-e4aefaa58cc3\",\n",
      "        \"successful\": true,\n",
      "        \"message\": \"Fetched local flow instance.\"\n",
      "    }\n",
      "}\n",
      "\n",
      "~~~ Dispatch task ~~~\n",
      "flow_endpoint: reverse_number_sequential\n",
      "flow_id: 3180a6d9-7eb5-4ec3-8c7b-3c9c08f4fbdc\n",
      "message_paths: ['push_tasks:19a6afcb-770b-4dac-af51-7946f01e12fe:msg']\n",
      "parallel_dispatch: False\n",
      "\n",
      "Called ReverseNumberSequential \n",
      " state {'current_call': 'first_reverse_flow'}\n",
      "\n",
      "~~~ Dispatch task ~~~\n",
      "flow_endpoint: reverse_number_sequential\n",
      "flow_id: 3180a6d9-7eb5-4ec3-8c7b-3c9c08f4fbdc\n",
      "message_paths: ['push_tasks:5ff02c60-e4ad-4a6a-8a9f-ac30f378a5ea:msg']\n",
      "parallel_dispatch: False\n",
      "\n",
      "Called ReverseNumberSequential \n",
      " state {'current_call': 'second_reverse_flow', 'initial_message': FlowMessage(message_id='c2d251f7-da58-44bf-a98c-df2b7d18bd50', created_at='2024-03-16 23:52:30.016026701', created_by='Proxy_reverse_number_sequential', message_type='FlowMessage', data={'id': 0, 'number': 1234}, private_keys=[])}\n",
      "\n",
      "~~~ Dispatch task ~~~\n",
      "flow_endpoint: reverse_number_sequential\n",
      "flow_id: 3180a6d9-7eb5-4ec3-8c7b-3c9c08f4fbdc\n",
      "message_paths: ['push_tasks:c305e8c0-5bae-41f1-b4a7-e4de927564bd:msg']\n",
      "parallel_dispatch: False\n",
      "\n",
      "Called ReverseNumberSequential \n",
      " state {'current_call': 'reply_to_message', 'initial_message': FlowMessage(message_id='c2d251f7-da58-44bf-a98c-df2b7d18bd50', created_at='2024-03-16 23:52:30.016026701', created_by='Proxy_reverse_number_sequential', message_type='FlowMessage', data={'id': 0, 'number': 1234}, private_keys=[])}\n"
     ]
    }
   ],
   "source": [
    "run_dispatch_worker_thread(cls[1])\n",
    "run_get_instance_worker_thread(cls[1])"
   ]
  },
  {
   "cell_type": "code",
   "execution_count": 7,
   "id": "b364acfc-97c9-41b3-be24-62f6262d2872",
   "metadata": {},
   "outputs": [
    {
     "name": "stdout",
     "output_type": "stream",
     "text": [
      "Started serving ReverseNumberFlowModule.ReverseNumberSequentialFlow at flows:reverse_number_sequential.\n",
      "dispatch_point: coflows_dispatch\n",
      "parallel_dispatch: False\n",
      "singleton: False\n"
     ]
    },
    {
     "data": {
      "text/plain": [
       "True"
      ]
     },
     "execution_count": 7,
     "metadata": {},
     "output_type": "execute_result"
    }
   ],
   "source": [
    "serve_utils.serve_flow(\n",
    "    cl=cls[1],\n",
    "    flow_class_name=\"ReverseNumberFlowModule.ReverseNumberSequentialFlow\",\n",
    "    flow_endpoint=\"reverse_number_sequential\",\n",
    ")"
   ]
  },
  {
   "cell_type": "code",
   "execution_count": 8,
   "id": "f16b39d6-d231-4743-9aec-cf57551e2c0d",
   "metadata": {},
   "outputs": [
    {
     "name": "stdout",
     "output_type": "stream",
     "text": [
      "Mounted 3180a6d9-7eb5-4ec3-8c7b-3c9c08f4fbdc at flows:reverse_number_sequential:mounts:local:3180a6d9-7eb5-4ec3-8c7b-3c9c08f4fbdc\n"
     ]
    }
   ],
   "source": [
    "# since we are creating new dummy users on every run, we inject user_id into config manually\n",
    "# typically this would be hardcoded in yaml config\n",
    "cfg_overrides = {\n",
    "    \"subflows_config\": {\n",
    "        \"first_reverse_flow\": {\n",
    "            \"user_id\": cls[0].get_user_id()\n",
    "        },\n",
    "        \"second_reverse_flow\": {\n",
    "            \"user_id\": cls[0].get_user_id()\n",
    "        }\n",
    "    }\n",
    "}\n",
    "\n",
    "flow = serve_utils.get_flow_instance(\n",
    "    cl=cls[1],\n",
    "    flow_endpoint=\"reverse_number_sequential\",\n",
    "    user_id=\"local\",\n",
    "    config_overrides = cfg_overrides,\n",
    ")"
   ]
  },
  {
   "cell_type": "code",
   "execution_count": 9,
   "id": "527e26fe-5210-4218-99e1-b4a15486f7a7",
   "metadata": {},
   "outputs": [
    {
     "name": "stdout",
     "output_type": "stream",
     "text": [
      "Data sent:\n",
      " {'id': 0, 'number': 1234} \n",
      "\n",
      "REPLY:\n",
      " {'output_number': 1234} \n",
      "\n"
     ]
    }
   ],
   "source": [
    "input_data = {\"id\": 0, \"number\": 1234}\n",
    "    \n",
    "input_message = flow.package_input_message(input_data)\n",
    "future = flow.get_reply_future(input_message)\n",
    "reply_data = future.get_data()\n",
    "\n",
    "print(\"Data sent:\\n\",  input_data, \"\\n\")\n",
    "print(\"REPLY:\\n\", reply_data, \"\\n\")"
   ]
  },
  {
   "cell_type": "markdown",
   "id": "42c7528a-45f6-4fb1-a419-17bed435b894",
   "metadata": {},
   "source": [
    "# Observe storage of both users\n",
    "\n",
    "User 0 has a serve endpoint for ReverseNumberAtomic flow and a singleton instance of that flow.\n",
    "User 1 has a serve endpoint for ReverseNumberSequential flow and an instance of that flow whose subflows are remote instances of the ReverseNumberAtomic at user 0."
   ]
  },
  {
   "cell_type": "code",
   "execution_count": 10,
   "id": "1e9c01a3-dd14-4907-8450-73724fd20aac",
   "metadata": {},
   "outputs": [
    {
     "name": "stdout",
     "output_type": "stream",
     "text": [
      " reverse_number_atomic/\n",
      "   flow_class_name\n",
      "   singleton\n",
      "   parallel_dispatch\n",
      "   mounts/\n",
      "     02d29bc3e276de86016c350d3e3b637148eda4af310c0f84405c0f138365aab669/\n",
      "       c9257714-8465-4951-8c15-e4aefaa58cc3/\n",
      "         config_overrides\n",
      "         state\n",
      "         init\n",
      "   init\n",
      "   default_dispatch_point\n",
      "\n",
      "All flow instances:\n",
      " c9257714-8465-4951-8c15-e4aefaa58cc3\n"
     ]
    }
   ],
   "source": [
    "status(cls[0])"
   ]
  },
  {
   "cell_type": "code",
   "execution_count": 11,
   "id": "712b2f13-3144-4d1c-ab1b-93f7293deff6",
   "metadata": {},
   "outputs": [
    {
     "name": "stdout",
     "output_type": "stream",
     "text": [
      " reverse_number_sequential/\n",
      "   default_dispatch_point\n",
      "   init\n",
      "   flow_class_name\n",
      "   parallel_dispatch\n",
      "   singleton\n",
      "   mounts/\n",
      "     local/\n",
      "       3180a6d9-7eb5-4ec3-8c7b-3c9c08f4fbdc/\n",
      "         state\n",
      "         init\n",
      "         config_overrides\n",
      "\n",
      "All flow instances:\n",
      " 3180a6d9-7eb5-4ec3-8c7b-3c9c08f4fbdc\n"
     ]
    }
   ],
   "source": [
    "status(cls[1])"
   ]
  }
 ],
 "metadata": {
  "kernelspec": {
   "display_name": "Python 3 (ipykernel)",
   "language": "python",
   "name": "python3"
  },
  "language_info": {
   "codemirror_mode": {
    "name": "ipython",
    "version": 3
   },
   "file_extension": ".py",
   "mimetype": "text/x-python",
   "name": "python",
   "nbconvert_exporter": "python",
   "pygments_lexer": "ipython3",
   "version": "3.10.6"
  }
 },
 "nbformat": 4,
 "nbformat_minor": 5
}

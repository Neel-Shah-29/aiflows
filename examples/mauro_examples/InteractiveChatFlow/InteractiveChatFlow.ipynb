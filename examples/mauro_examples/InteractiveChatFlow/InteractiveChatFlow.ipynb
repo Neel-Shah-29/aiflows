{
 "cells": [
  {
   "cell_type": "markdown",
   "id": "d7a649b1-e259-4b73-8df5-5dc7c28cae47",
   "metadata": {},
   "source": [
    "# ChatFlow Example"
   ]
  },
  {
   "cell_type": "code",
   "execution_count": 1,
   "id": "686be679-0b12-4675-8f25-67aaabc9c33a",
   "metadata": {},
   "outputs": [],
   "source": [
    "%load_ext autoreload\n",
    "%autoreload 2"
   ]
  },
  {
   "cell_type": "code",
   "execution_count": 2,
   "id": "3290339a-e045-465a-a503-03dece48822a",
   "metadata": {},
   "outputs": [
    {
     "name": "stdout",
     "output_type": "stream",
     "text": [
      "[\u001b[36m2024-03-17 07:10:22,191\u001b[0m][\u001b[34maiflows.flow_verse.loading:775\u001b[0m][\u001b[32mINFO\u001b[0m] - \u001b[32m[<interactive>]\u001b[0m started to sync flow module dependencies to /home/staverm/workspace/coflows-dev/aiflows/examples/mauro_examples/InteractiveChatFlow/flow_modules...\u001b[0m\n",
      "[\u001b[36m2024-03-17 07:10:22,325\u001b[0m][\u001b[34maiflows.flow_verse.loading:608\u001b[0m][\u001b[32mINFO\u001b[0m] - aiflows/ChatFlowModule:coflows already synced, skip\u001b[0m\n",
      "[\u001b[36m2024-03-17 07:10:22,416\u001b[0m][\u001b[34maiflows.flow_verse.loading:608\u001b[0m][\u001b[32mINFO\u001b[0m] - aiflows/HumanStandardInputFlowModule:coflows already synced, skip\u001b[0m\n",
      "[\u001b[36m2024-03-17 07:10:22,511\u001b[0m][\u001b[34maiflows.flow_verse.loading:608\u001b[0m][\u001b[32mINFO\u001b[0m] - aiflows/ChatInteractiveFlowModule:coflows already synced, skip\u001b[0m\n",
      "[\u001b[36m2024-03-17 07:10:22,512\u001b[0m][\u001b[34maiflows.flow_verse.loading:825\u001b[0m][\u001b[32mINFO\u001b[0m] - \u001b[32m[<interactive>]\u001b[0m finished syncing\n",
      "\n",
      "\u001b[0m\n"
     ]
    },
    {
     "data": {
      "text/plain": [
       "['/home/staverm/workspace/coflows-dev/aiflows/examples/mauro_examples/InteractiveChatFlow/flow_modules/aiflows/ChatInteractiveFlowModule',\n",
       " '/home/staverm/workspace/coflows-dev/aiflows/examples/mauro_examples/InteractiveChatFlow/flow_modules/aiflows/ChatFlowModule',\n",
       " '/home/staverm/workspace/coflows-dev/aiflows/examples/mauro_examples/InteractiveChatFlow/flow_modules/aiflows/HumanStandardInputFlowModule']"
      ]
     },
     "execution_count": 2,
     "metadata": {},
     "output_type": "execute_result"
    }
   ],
   "source": [
    "import os, json, copy\n",
    "\n",
    "from colink import CoLink\n",
    "\n",
    "from aiflows.utils import serve_utils\n",
    "from aiflows.utils.general_helpers import read_yaml_file\n",
    "from aiflows.messages import FlowMessage\n",
    "from aiflows.utils import coflows_utils, colink_utils\n",
    "from aiflows.workers import run_dispatch_worker_threads, run_dispatch_worker_thread\n",
    "from aiflows import flow_verse\n",
    "\n",
    "dependencies = [\n",
    "    {\"url\": \"aiflows/ChatFlowModule\", \"revision\": \"coflows\"},\n",
    "    {\"url\": \"aiflows/HumanStandardInputFlowModule\", \"revision\": \"coflows\"},\n",
    "    {\"url\": \"aiflows/ChatInteractiveFlowModule\", \"revision\": \"coflows\"}\n",
    "]\n",
    "flow_verse.sync_dependencies(dependencies)"
   ]
  },
  {
   "cell_type": "markdown",
   "id": "c7a894bf-5605-4da7-984d-d0e06ee3288e",
   "metadata": {},
   "source": [
    "# Connect to CoLink Server"
   ]
  },
  {
   "cell_type": "code",
   "execution_count": 5,
   "id": "e736322e-bc47-4b1d-b106-b7cd7eeba989",
   "metadata": {},
   "outputs": [],
   "source": [
    "# This example only works with a server outside of the notebook because we will need to also start the human UI in a separate terminal\n",
    "USER_JWT_PATH = \"/home/staverm/workspace/coflows-dev/coflows/jwts.txt\"\n",
    "user_jwt = open(USER_JWT_PATH).readline().strip()\n",
    "cl = CoLink(\"http://127.0.0.1:2021\", user_jwt)"
   ]
  },
  {
   "cell_type": "markdown",
   "id": "d83270d6-93ad-4320-9821-506cef7969fc",
   "metadata": {},
   "source": [
    "# Start a few default workers"
   ]
  },
  {
   "cell_type": "code",
   "execution_count": 6,
   "id": "5b5e4f24-ed99-4d6a-af56-9c404bd43164",
   "metadata": {
    "scrolled": true
   },
   "outputs": [
    {
     "name": "stdout",
     "output_type": "stream",
     "text": [
      "Dispatch worker started in attached thread.\n",
      "dispatch_point: coflows_dispatch\n",
      "Dispatch worker started in attached thread.\n",
      "dispatch_point: coflows_dispatch\n"
     ]
    },
    {
     "name": "stderr",
     "output_type": "stream",
     "text": [
      "ERROR:root:CreateEntry Received RPC exception: code=StatusCode.INTERNAL message=Key name already exists: 0321b9d6b173e80fb16e0e4be99555b3ca3674e108c8a2736a246c1b345c4184c7::_lock:_internal:protocols:coflows_dispatch:local:operator_mq\n",
      "ERROR:root:CreateEntry Received RPC exception: code=StatusCode.INTERNAL message=Key name already exists: 0321b9d6b173e80fb16e0e4be99555b3ca3674e108c8a2736a246c1b345c4184c7::_lock:_internal:protocols:coflows_dispatch:local:operator_mq\n",
      "ERROR:root:CreateEntry Received RPC exception: code=StatusCode.INTERNAL message=Key name already exists: 0321b9d6b173e80fb16e0e4be99555b3ca3674e108c8a2736a246c1b345c4184c7::_lock:_internal:protocols:coflows_dispatch:local:operator_mq\n"
     ]
    },
    {
     "name": "stdout",
     "output_type": "stream",
     "text": [
      "\n",
      "~~~ Dispatch task ~~~\n",
      "flow_endpoint: InteractiveChat\n",
      "flow_id: d63ce2fe-70b4-42fb-9f75-9bd432a55f0b\n",
      "owner_id: local\n",
      "message_paths: ['push_tasks:20453d4c-f0ea-4bff-a12c-56105ee5a1db:msg']\n",
      "parallel_dispatch: False\n",
      "\n",
      "Input message source: unknown\n",
      "\n",
      "~~~ Dispatch task ~~~\n",
      "flow_endpoint: Assistant\n",
      "flow_id: 2d3fe7ef-653e-43d1-a5ff-4572d54d5158\n",
      "owner_id: local\n",
      "message_paths: ['push_tasks:52ad2f77-814f-40f3-87c5-267ec4d8e171:msg']\n",
      "parallel_dispatch: False\n",
      "\n",
      "Input message source: Assistant\n",
      "CHATFLOW YO, input: {'id': 0, 'query': 'I want to ask you a few questions', 'answer': None, 'end_of_interaction': False}\n",
      "\n",
      "~~~ Dispatch task ~~~\n",
      "flow_endpoint: Assistant\n",
      "flow_id: 37d39b48-a205-495c-923c-fe49572a96da\n",
      "owner_id: local\n",
      "message_paths: ['push_tasks:164a3ec9-4a3c-471d-a702-b30e2e45b6a4:msg']\n",
      "parallel_dispatch: False\n",
      "\n",
      "Input message source: Assistant\n",
      "CHATFLOW YO, input: {'id': 0, 'query': 'I want to ask you a few questions. Please ONLY respond in Croatian.', 'answer': None, 'end_of_interaction': False}\n",
      "CHATFLOW Yo2, output {'api_output': 'Of course! Feel free to ask me any questions you have.'}\n",
      "CHATFLOW Yo2, output {'api_output': 'Razumijem. Pitajte me što god želite.'}\n",
      "\n",
      "~~~ Dispatch task ~~~\n",
      "flow_endpoint: InteractiveChat\n",
      "flow_id: ca17ee52-db8d-4b67-96d2-90fae867f388\n",
      "owner_id: local\n",
      "message_paths: ['push_tasks:4181b19b-6e3f-41a4-afb3-a87cd651a401:msg']\n",
      "parallel_dispatch: False\n",
      "\n",
      "Input message source: Assistant\n",
      "\n",
      "~~~ Dispatch task ~~~\n",
      "flow_endpoint: Assistant\n",
      "flow_id: 2d3fe7ef-653e-43d1-a5ff-4572d54d5158\n",
      "owner_id: local\n",
      "message_paths: ['push_tasks:17962d66-c428-40e4-a402-6a26ee8afb57:msg']\n",
      "parallel_dispatch: False\n",
      "\n",
      "Input message source: Assistant\n",
      "CHATFLOW YO, input: {'query': 'What is the capital of Netherlands?', 'answer': None, 'end_of_interaction': False}\n",
      "CHATFLOW Yo2, output {'api_output': 'The capital of the Netherlands is Amsterdam.'}\n",
      "\n",
      "~~~ Dispatch task ~~~\n",
      "flow_endpoint: InteractiveChat\n",
      "flow_id: d63ce2fe-70b4-42fb-9f75-9bd432a55f0b\n",
      "owner_id: local\n",
      "message_paths: ['push_tasks:55ab837b-0920-4018-8fdd-9510665c975a:msg']\n",
      "parallel_dispatch: False\n",
      "\n",
      "Input message source: Assistant\n",
      "\n",
      "~~~ Dispatch task ~~~\n",
      "flow_endpoint: Assistant\n",
      "flow_id: 37d39b48-a205-495c-923c-fe49572a96da\n",
      "owner_id: local\n",
      "message_paths: ['push_tasks:d3478b6b-ed5d-4944-a95f-86e63aab9d39:msg']\n",
      "parallel_dispatch: False\n",
      "\n",
      "Input message source: Assistant\n",
      "CHATFLOW YO, input: {'query': 'Why is water wet?', 'answer': None, 'end_of_interaction': False}\n",
      "CHATFLOW Yo2, output {'api_output': 'Voda nije mokra sama po sebi, već mokra postaje kada dođe u dodir s drugim površinama koje apsorbiraju vodu.'}\n",
      "\n",
      "~~~ Dispatch task ~~~\n",
      "flow_endpoint: InteractiveChat\n",
      "flow_id: ca17ee52-db8d-4b67-96d2-90fae867f388\n",
      "owner_id: local\n",
      "message_paths: ['push_tasks:194756e9-c7a4-4038-9446-a11acbf9e2f9:msg']\n",
      "parallel_dispatch: False\n",
      "\n",
      "Input message source: Assistant\n",
      "\n",
      "~~~ Dispatch task ~~~\n",
      "flow_endpoint: Assistant\n",
      "flow_id: 2d3fe7ef-653e-43d1-a5ff-4572d54d5158\n",
      "owner_id: local\n",
      "message_paths: ['push_tasks:b09afbe0-355a-4c0a-9546-e21eae0ca8a5:msg']\n",
      "parallel_dispatch: False\n",
      "\n",
      "Input message source: Assistant\n",
      "CHATFLOW YO, input: {'query': 'Is it a nice city?', 'answer': None, 'end_of_interaction': False}\n",
      "CHATFLOW Yo2, output {'api_output': 'Yes, Amsterdam is a beautiful city known for its picturesque canals, historic architecture, vibrant cultural scene, and friendly atmosphere. It is a popular tourist destination with a lot to offer visitors, including museums, parks, cafes, and a unique charm that makes it a favorite among travelers.'}\n",
      "\n",
      "~~~ Dispatch task ~~~\n",
      "flow_endpoint: InteractiveChat\n",
      "flow_id: d63ce2fe-70b4-42fb-9f75-9bd432a55f0b\n",
      "owner_id: local\n",
      "message_paths: ['push_tasks:5673f9d5-c4cb-41e4-bc2e-98c53af849f6:msg']\n",
      "parallel_dispatch: False\n",
      "\n",
      "Input message source: Assistant\n",
      "\n",
      "~~~ Dispatch task ~~~\n",
      "flow_endpoint: Assistant\n",
      "flow_id: 37d39b48-a205-495c-923c-fe49572a96da\n",
      "owner_id: local\n",
      "message_paths: ['push_tasks:ef5bd36a-1017-44b0-9510-9054a0dd8e3b:msg']\n",
      "parallel_dispatch: False\n",
      "\n",
      "Input message source: Assistant\n",
      "CHATFLOW YO, input: {'query': 'What does that mean?', 'answer': None, 'end_of_interaction': False}\n",
      "CHATFLOW Yo2, output {'api_output': 'To znači da voda nije mokra sama po sebi, već postaje mokra kada se veže za druge površine koje apsorbiraju vodu.'}\n",
      "\n",
      "~~~ Dispatch task ~~~\n",
      "flow_endpoint: InteractiveChat\n",
      "flow_id: ca17ee52-db8d-4b67-96d2-90fae867f388\n",
      "owner_id: local\n",
      "message_paths: ['push_tasks:52aba986-b4af-4a9b-9b64-e4b5d4182fef:msg']\n",
      "parallel_dispatch: False\n",
      "\n",
      "Input message source: Assistant\n",
      "\n",
      "~~~ Dispatch task ~~~\n",
      "flow_endpoint: InteractiveChat\n",
      "flow_id: ca17ee52-db8d-4b67-96d2-90fae867f388\n",
      "owner_id: local\n",
      "message_paths: ['push_tasks:a6d73227-4a78-47ab-956c-a8cb1c0ba2a0:msg']\n",
      "parallel_dispatch: False\n",
      "\n",
      "Input message source: User\n",
      "[\u001b[36m2024-03-17 07:11:45,077\u001b[0m][\u001b[34maiflows.data_transformations.end_of_interaction:40\u001b[0m][\u001b[32mINFO\u001b[0m] - End of interaction detected!\u001b[0m\n",
      "no_reply mode\n"
     ]
    }
   ],
   "source": [
    "run_dispatch_worker_thread(cl)\n",
    "run_dispatch_worker_thread(cl)"
   ]
  },
  {
   "cell_type": "code",
   "execution_count": 7,
   "id": "ae53237c-1f4b-4f15-a8a8-d8ad01788264",
   "metadata": {},
   "outputs": [
    {
     "name": "stdout",
     "output_type": "stream",
     "text": [
      "Dispatch worker started in attached thread.\n",
      "dispatch_point: coflows_dispatch\n",
      "\n",
      "~~~ Dispatch task ~~~\n",
      "flow_endpoint: InteractiveChat\n",
      "flow_id: ca17ee52-db8d-4b67-96d2-90fae867f388\n",
      "owner_id: local\n",
      "message_paths: ['push_tasks:0114eace-a06e-40f0-ab20-4365a7fa5250:msg']\n",
      "parallel_dispatch: False\n",
      "\n",
      "Input message source: unknown\n",
      "\n",
      "~~~ Dispatch task ~~~\n",
      "flow_endpoint: InteractiveChat\n",
      "flow_id: d63ce2fe-70b4-42fb-9f75-9bd432a55f0b\n",
      "owner_id: local\n",
      "message_paths: ['push_tasks:2dec2664-e2ea-48a0-a8ac-8633e782dda2:msg']\n",
      "parallel_dispatch: False\n",
      "\n",
      "Input message source: Assistant\n",
      "\n",
      "~~~ Dispatch task ~~~\n",
      "flow_endpoint: InteractiveChat\n",
      "flow_id: d63ce2fe-70b4-42fb-9f75-9bd432a55f0b\n",
      "owner_id: local\n",
      "message_paths: ['push_tasks:81d8e355-a2e3-4f48-8122-0003af7ffced:msg']\n",
      "parallel_dispatch: False\n",
      "\n",
      "Input message source: User\n",
      "\n",
      "~~~ Dispatch task ~~~\n",
      "flow_endpoint: InteractiveChat\n",
      "flow_id: ca17ee52-db8d-4b67-96d2-90fae867f388\n",
      "owner_id: local\n",
      "message_paths: ['push_tasks:58d84b8e-1985-44c3-94fb-ada29ed4bc98:msg']\n",
      "parallel_dispatch: False\n",
      "\n",
      "Input message source: User\n",
      "\n",
      "~~~ Dispatch task ~~~\n",
      "flow_endpoint: InteractiveChat\n",
      "flow_id: d63ce2fe-70b4-42fb-9f75-9bd432a55f0b\n",
      "owner_id: local\n",
      "message_paths: ['push_tasks:5f4cba63-894e-4d9f-a067-20ce5824ec20:msg']\n",
      "parallel_dispatch: False\n",
      "\n",
      "Input message source: User\n",
      "\n",
      "~~~ Dispatch task ~~~\n",
      "flow_endpoint: InteractiveChat\n",
      "flow_id: ca17ee52-db8d-4b67-96d2-90fae867f388\n",
      "owner_id: local\n",
      "message_paths: ['push_tasks:0daaf442-63e1-4663-9523-6bc3cebd584d:msg']\n",
      "parallel_dispatch: False\n",
      "\n",
      "Input message source: User\n",
      "\n",
      "~~~ Dispatch task ~~~\n",
      "flow_endpoint: InteractiveChat\n",
      "flow_id: d63ce2fe-70b4-42fb-9f75-9bd432a55f0b\n",
      "owner_id: local\n",
      "message_paths: ['push_tasks:7973aef3-40ff-4122-99f6-505fa9303f60:msg']\n",
      "parallel_dispatch: False\n",
      "\n",
      "Input message source: User\n",
      "[\u001b[36m2024-03-17 07:11:37,862\u001b[0m][\u001b[34maiflows.data_transformations.end_of_interaction:40\u001b[0m][\u001b[32mINFO\u001b[0m] - End of interaction detected!\u001b[0m\n",
      "no_reply mode\n"
     ]
    }
   ],
   "source": [
    "run_dispatch_worker_thread(cl)"
   ]
  },
  {
   "cell_type": "markdown",
   "id": "e623d0b4-1501-4460-bc5f-a1aeb590eefc",
   "metadata": {},
   "source": [
    "# Serve"
   ]
  },
  {
   "cell_type": "code",
   "execution_count": 18,
   "id": "32438a91-af3c-476d-b56b-34b325227d25",
   "metadata": {},
   "outputs": [
    {
     "name": "stdout",
     "output_type": "stream",
     "text": [
      "Already serving at flows:Human\n"
     ]
    },
    {
     "data": {
      "text/plain": [
       "False"
      ]
     },
     "execution_count": 18,
     "metadata": {},
     "output_type": "execute_result"
    }
   ],
   "source": [
    "serve_utils.serve_flow(\n",
    "    cl=cl,\n",
    "    flow_class_name=\"flow_modules.aiflows.HumanStandardInputFlowModule.HumanStandardInputFlow\",\n",
    "    flow_endpoint=\"Human\",\n",
    "    singleton=True,\n",
    "    dispatch_point=\"human_dispatch\",\n",
    ")\n",
    "# User should start dispatch_worker with dispatch_point=\"human_dispatch\" in a separate terminal (serves as UI for user)\n",
    "# plz ensure that you pass the correct flow_modules_base_path when starting worker (give path to flow_modules folder that contains\n",
    "# HumanStandardInputFlowModule being served here"
   ]
  },
  {
   "cell_type": "code",
   "execution_count": 9,
   "id": "fd960cb9-4b24-4b2f-b374-0b3c89e7dd55",
   "metadata": {
    "scrolled": true
   },
   "outputs": [
    {
     "name": "stdout",
     "output_type": "stream",
     "text": [
      "Started serving flow_modules.aiflows.ChatFlowModule.ChatAtomicFlow at flows:Assistant.\n",
      "dispatch_point: coflows_dispatch\n",
      "parallel_dispatch: False\n",
      "singleton: False\n"
     ]
    },
    {
     "data": {
      "text/plain": [
       "True"
      ]
     },
     "execution_count": 9,
     "metadata": {},
     "output_type": "execute_result"
    }
   ],
   "source": [
    "serve_utils.serve_flow(\n",
    "    cl=cl,\n",
    "    flow_class_name=\"flow_modules.aiflows.ChatFlowModule.ChatAtomicFlow\",\n",
    "    flow_endpoint=\"Assistant\",\n",
    ")"
   ]
  },
  {
   "cell_type": "code",
   "execution_count": 10,
   "id": "8bff0573-811d-47b9-9ef1-40b49836cf47",
   "metadata": {},
   "outputs": [
    {
     "name": "stdout",
     "output_type": "stream",
     "text": [
      "Started serving flow_modules.aiflows.ChatInteractiveFlowModule.ChatHumanFlowModule at flows:InteractiveChat.\n",
      "dispatch_point: coflows_dispatch\n",
      "parallel_dispatch: False\n",
      "singleton: False\n"
     ]
    },
    {
     "data": {
      "text/plain": [
       "True"
      ]
     },
     "execution_count": 10,
     "metadata": {},
     "output_type": "execute_result"
    }
   ],
   "source": [
    "serve_utils.serve_flow(\n",
    "    cl=cl,\n",
    "    flow_class_name=\"flow_modules.aiflows.ChatInteractiveFlowModule.ChatHumanFlowModule\",\n",
    "    flow_endpoint=\"InteractiveChat\",\n",
    ")"
   ]
  },
  {
   "cell_type": "markdown",
   "id": "f1c1addd-333e-4917-8170-8237b4ee307e",
   "metadata": {},
   "source": [
    "## Get instance"
   ]
  },
  {
   "cell_type": "code",
   "execution_count": 11,
   "id": "fd13d09b-5f41-46ba-9da3-6aafd6e8512c",
   "metadata": {},
   "outputs": [],
   "source": [
    "root_dir = \".\"\n",
    "cfg_path = os.path.join(root_dir, \"flow_modules/aiflows/ChatInteractiveFlowModule/demo.yaml\")\n",
    "cfg = read_yaml_file(cfg_path)"
   ]
  },
  {
   "cell_type": "code",
   "execution_count": 12,
   "id": "ebd97e0d-7151-4fae-b5e1-33c82dee42f1",
   "metadata": {},
   "outputs": [
    {
     "name": "stdout",
     "output_type": "stream",
     "text": [
      "[\u001b[36m2024-03-17 07:10:23,296\u001b[0m][\u001b[34maiflows.flow_verse.loading:775\u001b[0m][\u001b[32mINFO\u001b[0m] - \u001b[32m[flow_modules.aiflows.ChatInteractiveFlowModule]\u001b[0m started to sync flow module dependencies to /home/staverm/workspace/coflows-dev/aiflows/examples/mauro_examples/InteractiveChatFlow/flow_modules...\u001b[0m\n",
      "[\u001b[36m2024-03-17 07:10:23,387\u001b[0m][\u001b[34maiflows.flow_verse.loading:608\u001b[0m][\u001b[32mINFO\u001b[0m] - aiflows/ChatFlowModule:coflows already synced, skip\u001b[0m\n",
      "[\u001b[36m2024-03-17 07:10:23,479\u001b[0m][\u001b[34maiflows.flow_verse.loading:608\u001b[0m][\u001b[32mINFO\u001b[0m] - aiflows/HumanStandardInputFlowModule:coflows already synced, skip\u001b[0m\n",
      "[\u001b[36m2024-03-17 07:10:23,481\u001b[0m][\u001b[34maiflows.flow_verse.loading:825\u001b[0m][\u001b[32mINFO\u001b[0m] - \u001b[32m[flow_modules.aiflows.ChatInteractiveFlowModule]\u001b[0m finished syncing\n",
      "\n",
      "\u001b[0m\n",
      "Mounted 2d3fe7ef-653e-43d1-a5ff-4572d54d5158 at flows:Assistant:mounts:local:2d3fe7ef-653e-43d1-a5ff-4572d54d5158\n",
      "Mounted b03919e7-3860-4ff1-9f4f-51bb6010f08d at flows:Human:mounts:local:b03919e7-3860-4ff1-9f4f-51bb6010f08d\n",
      "Mounted d63ce2fe-70b4-42fb-9f75-9bd432a55f0b at flows:InteractiveChat:mounts:local:d63ce2fe-70b4-42fb-9f75-9bd432a55f0b\n"
     ]
    }
   ],
   "source": [
    "interactive_chat = serve_utils.get_flow_instance(\n",
    "    cl=cl,\n",
    "    flow_endpoint=\"InteractiveChat\",\n",
    "    config_overrides=cfg,\n",
    ")"
   ]
  },
  {
   "cell_type": "markdown",
   "id": "5bb34896-6fe0-403a-a95e-abed132a72a3",
   "metadata": {},
   "source": [
    "## Conversation"
   ]
  },
  {
   "cell_type": "code",
   "execution_count": 13,
   "id": "baa4a9b8-a47b-4fee-8bce-3b4ed404ca9e",
   "metadata": {},
   "outputs": [],
   "source": [
    "input_message = FlowMessage(\n",
    "    data={\"id\": 0, \"query\": \"I want to ask you a few questions\"},\n",
    ")\n",
    "\n",
    "future=interactive_chat.send_message(input_message)"
   ]
  },
  {
   "cell_type": "code",
   "execution_count": 14,
   "id": "1c0a449e-a03d-4ee5-9b58-b25c7a5c5e62",
   "metadata": {},
   "outputs": [
    {
     "name": "stdout",
     "output_type": "stream",
     "text": [
      "Mounted 37d39b48-a205-495c-923c-fe49572a96da at flows:Assistant:mounts:local:37d39b48-a205-495c-923c-fe49572a96da\n",
      "Fetched singleton b03919e7-3860-4ff1-9f4f-51bb6010f08d\n",
      "Mounted ca17ee52-db8d-4b67-96d2-90fae867f388 at flows:InteractiveChat:mounts:local:ca17ee52-db8d-4b67-96d2-90fae867f388\n"
     ]
    }
   ],
   "source": [
    "interactive_chat_CRO = serve_utils.get_flow_instance(\n",
    "    cl=cl,\n",
    "    flow_endpoint=\"InteractiveChat\",\n",
    "    config_overrides=cfg,\n",
    ")\n",
    "input_message = FlowMessage(\n",
    "    data={\"id\": 0, \"query\": \"I want to ask you a few questions. Please ONLY respond in Croatian.\"},\n",
    ")\n",
    "future=interactive_chat_CRO.send_message(input_message)"
   ]
  },
  {
   "cell_type": "code",
   "execution_count": 15,
   "id": "5e7b7533-84fe-44ff-9515-cc53fca92697",
   "metadata": {},
   "outputs": [
    {
     "name": "stdout",
     "output_type": "stream",
     "text": [
      " Human/\n",
      "   singleton\n",
      "   init\n",
      "   mounts/\n",
      "     local/\n",
      "       b03919e7-3860-4ff1-9f4f-51bb6010f08d/\n",
      "         init\n",
      "         config_overrides\n",
      "   flow_class_name\n",
      "   parallel_dispatch\n",
      "   default_dispatch_point\n",
      " Assistant/\n",
      "   default_dispatch_point\n",
      "   flow_class_name\n",
      "   singleton\n",
      "   parallel_dispatch\n",
      "   mounts/\n",
      "     local/\n",
      "       37d39b48-a205-495c-923c-fe49572a96da/\n",
      "         init\n",
      "         config_overrides\n",
      "       2d3fe7ef-653e-43d1-a5ff-4572d54d5158/\n",
      "         config_overrides\n",
      "         state\n",
      "         init\n",
      "   init\n",
      " InteractiveChat/\n",
      "   parallel_dispatch\n",
      "   flow_class_name\n",
      "   singleton\n",
      "   mounts/\n",
      "     local/\n",
      "       d63ce2fe-70b4-42fb-9f75-9bd432a55f0b/\n",
      "         state\n",
      "         init\n",
      "         config_overrides\n",
      "       ca17ee52-db8d-4b67-96d2-90fae867f388/\n",
      "         state\n",
      "         init\n",
      "         config_overrides\n",
      "   init\n",
      "   default_dispatch_point\n",
      "\n",
      "All flow instances:\n",
      " ca17ee52-db8d-4b67-96d2-90fae867f388\n",
      " 37d39b48-a205-495c-923c-fe49572a96da\n",
      " 2d3fe7ef-653e-43d1-a5ff-4572d54d5158\n",
      " b03919e7-3860-4ff1-9f4f-51bb6010f08d\n",
      " d63ce2fe-70b4-42fb-9f75-9bd432a55f0b\n"
     ]
    }
   ],
   "source": [
    "def status():\n",
    "    colink_utils.print_served_flows(cl, print_values=False)\n",
    "    print(\"\\nAll flow instances:\")\n",
    "    colink_utils.print_flow_instances(cl)\n",
    "status()"
   ]
  }
 ],
 "metadata": {
  "kernelspec": {
   "display_name": "Python 3 (ipykernel)",
   "language": "python",
   "name": "python3"
  },
  "language_info": {
   "codemirror_mode": {
    "name": "ipython",
    "version": 3
   },
   "file_extension": ".py",
   "mimetype": "text/x-python",
   "name": "python",
   "nbconvert_exporter": "python",
   "pygments_lexer": "ipython3",
   "version": "3.10.6"
  }
 },
 "nbformat": 4,
 "nbformat_minor": 5
}

{
 "cells": [
  {
   "cell_type": "markdown",
   "id": "d7a649b1-e259-4b73-8df5-5dc7c28cae47",
   "metadata": {},
   "source": [
    "# ReverseNumber Example - two users"
   ]
  },
  {
   "cell_type": "code",
   "execution_count": 1,
   "id": "686be679-0b12-4675-8f25-67aaabc9c33a",
   "metadata": {},
   "outputs": [],
   "source": [
    "%load_ext autoreload\n",
    "%autoreload 2"
   ]
  },
  {
   "cell_type": "code",
   "execution_count": 2,
   "id": "3290339a-e045-465a-a503-03dece48822a",
   "metadata": {},
   "outputs": [],
   "source": [
    "import os, json\n",
    "\n",
    "from colink import CoLink\n",
    "\n",
    "from aiflows.utils import serve_utils\n",
    "from aiflows.utils.general_helpers import read_yaml_file\n",
    "from aiflows.messages import FlowMessage\n",
    "from aiflows.utils import coflows_utils, colink_utils\n",
    "from aiflows.workers import run_dispatch_worker_thread, run_mount_worker_thread\n",
    "\n",
    "def status(cl):\n",
    "    colink_utils.print_served_flows(cl, print_values=False)\n",
    "    print(\"\\nAll flow instances:\")\n",
    "    colink_utils.print_flow_instances(cl)"
   ]
  },
  {
   "cell_type": "markdown",
   "id": "0afb71d4-fc58-425b-98ae-c7667a159565",
   "metadata": {},
   "source": [
    "# Create two users"
   ]
  },
  {
   "cell_type": "code",
   "execution_count": 3,
   "id": "aa7d4186-d488-4a52-99d6-6a804cccd977",
   "metadata": {},
   "outputs": [],
   "source": [
    "cls = colink_utils.start_colink_server_with_users(num_users=2)"
   ]
  },
  {
   "cell_type": "markdown",
   "id": "0af33573-24b2-4d27-a7dc-9299f17d1e5b",
   "metadata": {},
   "source": [
    "# USER 0"
   ]
  },
  {
   "cell_type": "code",
   "execution_count": 4,
   "id": "c36a4f71-7fc6-490c-9966-de8725120a64",
   "metadata": {},
   "outputs": [
    {
     "name": "stdout",
     "output_type": "stream",
     "text": [
      "Dispatch worker started in attached thread.\n",
      "dispatch_point: coflows_dispatch\n",
      "Mount worker started in attached thread for user  0392babafe816fc3f09483292e09359cffea9e7a08236469a33d7a759640e9b254\n",
      "\n",
      "~~~ Mount Receiver Task ~~~\n",
      "Mounted d5117c38-7fc2-4551-b754-6316cff9279c at flows:reverse_number_atomic:mounts:03ee4d7636622d2de06b7f1ecb2f6abc46357c0de279a33c90bf6d0f1c6f000c1f:d5117c38-7fc2-4551-b754-6316cff9279c\n",
      "Fetched singleton d5117c38-7fc2-4551-b754-6316cff9279c\n",
      "\n",
      "~~~ Dispatch task ~~~\n",
      "flow_type: reverse_number_atomic\n",
      "flow_id: d5117c38-7fc2-4551-b754-6316cff9279c\n",
      "message_paths: ['push_tasks:6baaff05-4cee-4d0d-9aa7-da417412179c:msg']\n",
      "parallel_dispatch: False\n",
      "\n",
      "Called ReverseNumberAtomic \n",
      " state {}\n",
      "\n",
      "~~~ Dispatch task ~~~\n",
      "flow_type: reverse_number_atomic\n",
      "flow_id: d5117c38-7fc2-4551-b754-6316cff9279c\n",
      "message_paths: ['push_tasks:e81b34ea-a7b2-48fd-910d-23b23b405db4:msg']\n",
      "parallel_dispatch: False\n",
      "\n",
      "Called ReverseNumberAtomic \n",
      " state {}\n"
     ]
    }
   ],
   "source": [
    "run_dispatch_worker_thread(cls[0])\n",
    "run_mount_worker_thread(cls[0])"
   ]
  },
  {
   "cell_type": "code",
   "execution_count": 5,
   "id": "fd1aa9eb-13a2-43f1-9d07-ce1f29d5a38e",
   "metadata": {},
   "outputs": [
    {
     "name": "stdout",
     "output_type": "stream",
     "text": [
      "Started serving ReverseNumberFlowModule.ReverseNumberAtomicFlow at flows:reverse_number_atomic.\n",
      "dispatch_point: coflows_dispatch\n",
      "parallel_dispatch: False\n",
      "singleton: True\n"
     ]
    },
    {
     "data": {
      "text/plain": [
       "True"
      ]
     },
     "execution_count": 5,
     "metadata": {},
     "output_type": "execute_result"
    }
   ],
   "source": [
    "serve_utils.serve_flow(\n",
    "    cl=cls[0],\n",
    "    flow_class_name=\"ReverseNumberFlowModule.ReverseNumberAtomicFlow\",\n",
    "    flow_endpoint=\"reverse_number_atomic\",\n",
    "    singleton=True,\n",
    ")"
   ]
  },
  {
   "cell_type": "markdown",
   "id": "0f8edcdb-ac4d-45d6-a2fe-be043d00d85d",
   "metadata": {},
   "source": [
    "# USER 1"
   ]
  },
  {
   "cell_type": "code",
   "execution_count": 6,
   "id": "6c0f9635-9e85-4f81-a5f5-5e587ad80c36",
   "metadata": {},
   "outputs": [
    {
     "name": "stdout",
     "output_type": "stream",
     "text": [
      "Dispatch worker started in attached thread.\n",
      "dispatch_point: coflows_dispatch\n",
      "Mount worker started in attached thread for user  03ee4d7636622d2de06b7f1ecb2f6abc46357c0de279a33c90bf6d0f1c6f000c1f\n",
      "\n",
      "~~~ Mount Initiator Task ~~~\n",
      "Received subflow ids: {\n",
      "    \"first_reverse_flow\": \"d5117c38-7fc2-4551-b754-6316cff9279c\",\n",
      "    \"second_reverse_flow\": \"d5117c38-7fc2-4551-b754-6316cff9279c\"\n",
      "}\n",
      "\n",
      "~~~ Dispatch task ~~~\n",
      "flow_type: reverse_number_sequential\n",
      "flow_id: e1a75fe3-4c0f-4233-bbef-1a2c0ed7b7eb\n",
      "message_paths: ['push_tasks:5928c193-e82e-4484-9144-61407c874683:msg']\n",
      "parallel_dispatch: False\n",
      "\n",
      "Called ReverseNumberSequential \n",
      " state {'current_call': 'first_reverse_flow'}\n",
      "\n",
      "~~~ Dispatch task ~~~\n",
      "flow_type: reverse_number_sequential\n",
      "flow_id: e1a75fe3-4c0f-4233-bbef-1a2c0ed7b7eb\n",
      "message_paths: ['push_tasks:5200fc0d-5620-45e2-9208-455366ea8b0a:msg']\n",
      "parallel_dispatch: False\n",
      "\n",
      "Called ReverseNumberSequential \n",
      " state {'current_call': 'second_reverse_flow', 'initial_message': FlowMessage(message_id='9e0fdfb0-1166-4d0e-ba48-bd02d24250a1', created_at='2024-03-16 09:01:56.429901718', created_by='Proxy_reverse_number_sequential', message_type='FlowMessage', data={'id': 0, 'number': 1234}, private_keys=[])}\n",
      "\n",
      "~~~ Dispatch task ~~~\n",
      "flow_type: reverse_number_sequential\n",
      "flow_id: e1a75fe3-4c0f-4233-bbef-1a2c0ed7b7eb\n",
      "message_paths: ['push_tasks:e751e792-98ab-4fd1-8b22-e7b998ef6980:msg']\n",
      "parallel_dispatch: False\n",
      "\n",
      "Called ReverseNumberSequential \n",
      " state {'current_call': 'reply_to_message', 'initial_message': FlowMessage(message_id='9e0fdfb0-1166-4d0e-ba48-bd02d24250a1', created_at='2024-03-16 09:01:56.429901718', created_by='Proxy_reverse_number_sequential', message_type='FlowMessage', data={'id': 0, 'number': 1234}, private_keys=[])}\n"
     ]
    }
   ],
   "source": [
    "run_dispatch_worker_thread(cls[1])\n",
    "run_mount_worker_thread(cls[1])"
   ]
  },
  {
   "cell_type": "code",
   "execution_count": 7,
   "id": "b364acfc-97c9-41b3-be24-62f6262d2872",
   "metadata": {},
   "outputs": [
    {
     "name": "stdout",
     "output_type": "stream",
     "text": [
      "Started serving ReverseNumberFlowModule.ReverseNumberSequentialFlow at flows:reverse_number_sequential.\n",
      "dispatch_point: coflows_dispatch\n",
      "parallel_dispatch: False\n",
      "singleton: False\n"
     ]
    },
    {
     "data": {
      "text/plain": [
       "True"
      ]
     },
     "execution_count": 7,
     "metadata": {},
     "output_type": "execute_result"
    }
   ],
   "source": [
    "serve_utils.serve_flow(\n",
    "    cl=cls[1],\n",
    "    flow_class_name=\"ReverseNumberFlowModule.ReverseNumberSequentialFlow\",\n",
    "    flow_endpoint=\"reverse_number_sequential\",\n",
    ")"
   ]
  },
  {
   "cell_type": "code",
   "execution_count": 8,
   "id": "f16b39d6-d231-4743-9aec-cf57551e2c0d",
   "metadata": {},
   "outputs": [
    {
     "name": "stdout",
     "output_type": "stream",
     "text": [
      "Mounted e1a75fe3-4c0f-4233-bbef-1a2c0ed7b7eb at flows:reverse_number_sequential:mounts:local:e1a75fe3-4c0f-4233-bbef-1a2c0ed7b7eb\n"
     ]
    }
   ],
   "source": [
    "# since we are creating new dummy users on every run, we inject user_id into config manually\n",
    "# typically this would be hardcoded in yaml config\n",
    "cfg_overrides = {\n",
    "    \"subflows_config\": {\n",
    "        \"first_reverse_flow\": {\n",
    "            \"user_id\": cls[0].get_user_id()\n",
    "        },\n",
    "        \"second_reverse_flow\": {\n",
    "            \"user_id\": cls[0].get_user_id()\n",
    "        }\n",
    "    }\n",
    "}\n",
    "\n",
    "flow = serve_utils.get_flow_instance(\n",
    "    cl=cls[1],\n",
    "    flow_endpoint=\"reverse_number_sequential\",\n",
    "    user_id=\"local\",\n",
    "    config_overrides = cfg_overrides,\n",
    ")"
   ]
  },
  {
   "cell_type": "code",
   "execution_count": 9,
   "id": "527e26fe-5210-4218-99e1-b4a15486f7a7",
   "metadata": {},
   "outputs": [
    {
     "name": "stdout",
     "output_type": "stream",
     "text": [
      "Data sent:\n",
      " {'id': 0, 'number': 1234} \n",
      "\n",
      "REPLY:\n",
      " {'output_number': 1234} \n",
      "\n"
     ]
    }
   ],
   "source": [
    "input_data = {\"id\": 0, \"number\": 1234}\n",
    "    \n",
    "input_message = flow.package_input_message(input_data)\n",
    "future = flow.get_reply_future(input_message)\n",
    "reply_data = future.get_data()\n",
    "\n",
    "print(\"Data sent:\\n\",  input_data, \"\\n\")\n",
    "print(\"REPLY:\\n\", reply_data, \"\\n\")"
   ]
  },
  {
   "cell_type": "markdown",
   "id": "42c7528a-45f6-4fb1-a419-17bed435b894",
   "metadata": {},
   "source": [
    "# Observe storage of both users\n",
    "\n",
    "User 0 has a serve endpoint for ReverseNumberAtomic flow and a singleton instance of that flow.\n",
    "User 1 has a serve endpoint for ReverseNumberSequential flow and an instance of that flow whose subflows are remote instances of the ReverseNumberAtomic at user 0."
   ]
  },
  {
   "cell_type": "code",
   "execution_count": 10,
   "id": "1e9c01a3-dd14-4907-8450-73724fd20aac",
   "metadata": {},
   "outputs": [
    {
     "name": "stdout",
     "output_type": "stream",
     "text": [
      " reverse_number_atomic/\n",
      "   flow_class_name\n",
      "   init\n",
      "   mounts/\n",
      "     03ee4d7636622d2de06b7f1ecb2f6abc46357c0de279a33c90bf6d0f1c6f000c1f/\n",
      "       d5117c38-7fc2-4551-b754-6316cff9279c/\n",
      "         config_overrides\n",
      "         state\n",
      "         init\n",
      "   singleton\n",
      "   parallel_dispatch\n",
      "   default_dispatch_point\n",
      "\n",
      "All flow instances:\n",
      " d5117c38-7fc2-4551-b754-6316cff9279c\n"
     ]
    }
   ],
   "source": [
    "status(cls[0])"
   ]
  },
  {
   "cell_type": "code",
   "execution_count": 11,
   "id": "712b2f13-3144-4d1c-ab1b-93f7293deff6",
   "metadata": {},
   "outputs": [
    {
     "name": "stdout",
     "output_type": "stream",
     "text": [
      " reverse_number_sequential/\n",
      "   singleton\n",
      "   flow_class_name\n",
      "   default_dispatch_point\n",
      "   init\n",
      "   parallel_dispatch\n",
      "   mounts/\n",
      "     local/\n",
      "       e1a75fe3-4c0f-4233-bbef-1a2c0ed7b7eb/\n",
      "         state\n",
      "         init\n",
      "         config_overrides\n",
      "\n",
      "All flow instances:\n",
      " e1a75fe3-4c0f-4233-bbef-1a2c0ed7b7eb\n"
     ]
    }
   ],
   "source": [
    "status(cls[1])"
   ]
  }
 ],
 "metadata": {
  "kernelspec": {
   "display_name": "Python 3 (ipykernel)",
   "language": "python",
   "name": "python3"
  },
  "language_info": {
   "codemirror_mode": {
    "name": "ipython",
    "version": 3
   },
   "file_extension": ".py",
   "mimetype": "text/x-python",
   "name": "python",
   "nbconvert_exporter": "python",
   "pygments_lexer": "ipython3",
   "version": "3.10.6"
  }
 },
 "nbformat": 4,
 "nbformat_minor": 5
}

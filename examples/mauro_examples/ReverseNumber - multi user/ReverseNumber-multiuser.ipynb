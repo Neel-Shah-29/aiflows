{
 "cells": [
  {
   "cell_type": "markdown",
   "id": "d7a649b1-e259-4b73-8df5-5dc7c28cae47",
   "metadata": {},
   "source": [
    "# ReverseNumber Example - two users"
   ]
  },
  {
   "cell_type": "code",
   "execution_count": 1,
   "id": "686be679-0b12-4675-8f25-67aaabc9c33a",
   "metadata": {},
   "outputs": [],
   "source": [
    "%load_ext autoreload\n",
    "%autoreload 2"
   ]
  },
  {
   "cell_type": "code",
   "execution_count": 2,
   "id": "3290339a-e045-465a-a503-03dece48822a",
   "metadata": {},
   "outputs": [],
   "source": [
    "import os, json\n",
    "\n",
    "from colink import CoLink\n",
    "\n",
    "from aiflows.utils import serve_utils\n",
    "from aiflows.utils.general_helpers import read_yaml_file\n",
    "from aiflows.messages import FlowMessage\n",
    "from aiflows.utils import coflows_utils, colink_utils\n",
    "from aiflows.workers import run_dispatch_worker_thread, run_mount_worker_thread\n",
    "\n",
    "def status(cl):\n",
    "    colink_utils.print_served_flows(cl, print_values=False)\n",
    "    print(\"\\nAll flow instances:\")\n",
    "    colink_utils.print_flow_instances(cl)"
   ]
  },
  {
   "cell_type": "markdown",
   "id": "0afb71d4-fc58-425b-98ae-c7667a159565",
   "metadata": {},
   "source": [
    "# Create two users"
   ]
  },
  {
   "cell_type": "code",
   "execution_count": 3,
   "id": "aa7d4186-d488-4a52-99d6-6a804cccd977",
   "metadata": {},
   "outputs": [],
   "source": [
    "cls = colink_utils.start_colink_server_with_users(num_users=2)"
   ]
  },
  {
   "cell_type": "markdown",
   "id": "0af33573-24b2-4d27-a7dc-9299f17d1e5b",
   "metadata": {},
   "source": [
    "# USER 0"
   ]
  },
  {
   "cell_type": "code",
   "execution_count": 4,
   "id": "c36a4f71-7fc6-490c-9966-de8725120a64",
   "metadata": {},
   "outputs": [
    {
     "name": "stdout",
     "output_type": "stream",
     "text": [
      "Dispatch worker started in attached thread.\n",
      "dispatch_point: coflows_dispatch\n",
      "Mount worker started in attached thread for user  0376adb05025f8c77acc10ce58102ec21be9a5e14a70a51261860ca64fa4dda602\n",
      "\n",
      "~~~ Mount Receiver Task ~~~\n",
      "Mounted ce535836-37d1-4ebd-9fc5-bc14d325e10f at flows:reverse_number_atomic:mounts:033d08f436a4ef1bdf271e85073e8d3127b328889a012f061545ca27fd79aecba0:ce535836-37d1-4ebd-9fc5-bc14d325e10f\n",
      "Mounted 82edc4e7-0946-401d-9ed8-87d370f9cac7 at flows:reverse_number_atomic:mounts:033d08f436a4ef1bdf271e85073e8d3127b328889a012f061545ca27fd79aecba0:82edc4e7-0946-401d-9ed8-87d370f9cac7\n",
      "\n",
      "~~~ Dispatch task ~~~\n",
      "flow_type: reverse_number_atomic\n",
      "flow_id: ce535836-37d1-4ebd-9fc5-bc14d325e10f\n",
      "message_paths: ['push_tasks:9179acda-cf5d-4c3b-8080-b87c7e17e126:msg']\n",
      "parallel_dispatch: False\n",
      "\n",
      "Called ReverseNumberAtomic \n",
      " state {}\n",
      "\n",
      "~~~ Dispatch task ~~~\n",
      "flow_type: reverse_number_atomic\n",
      "flow_id: ce535836-37d1-4ebd-9fc5-bc14d325e10f\n",
      "message_paths: ['push_tasks:b6aae067-b337-4c4b-bd4d-aac682449003:msg']\n",
      "parallel_dispatch: False\n",
      "\n",
      "Called ReverseNumberAtomic \n",
      " state {}\n"
     ]
    }
   ],
   "source": [
    "run_dispatch_worker_thread(cls[0])\n",
    "run_mount_worker_thread(cls[0])"
   ]
  },
  {
   "cell_type": "code",
   "execution_count": 5,
   "id": "fd1aa9eb-13a2-43f1-9d07-ce1f29d5a38e",
   "metadata": {},
   "outputs": [
    {
     "name": "stdout",
     "output_type": "stream",
     "text": [
      "Started serving ReverseNumberFlowModule.ReverseNumberAtomicFlow at flows:reverse_number_atomic.\n",
      "dispatch_point: coflows_dispatch\n",
      "parallel_dispatch: False\n",
      "singleton: False\n"
     ]
    },
    {
     "data": {
      "text/plain": [
       "True"
      ]
     },
     "execution_count": 5,
     "metadata": {},
     "output_type": "execute_result"
    }
   ],
   "source": [
    "serve_utils.serve_flow(\n",
    "    cl=cls[0],\n",
    "    flow_class_name=\"ReverseNumberFlowModule.ReverseNumberAtomicFlow\",\n",
    "    flow_endpoint=\"reverse_number_atomic\",\n",
    "    singleton=False,\n",
    ")"
   ]
  },
  {
   "cell_type": "markdown",
   "id": "0f8edcdb-ac4d-45d6-a2fe-be043d00d85d",
   "metadata": {},
   "source": [
    "# USER 1"
   ]
  },
  {
   "cell_type": "code",
   "execution_count": 6,
   "id": "6c0f9635-9e85-4f81-a5f5-5e587ad80c36",
   "metadata": {},
   "outputs": [
    {
     "name": "stdout",
     "output_type": "stream",
     "text": [
      "Dispatch worker started in attached thread.\n",
      "dispatch_point: coflows_dispatch\n",
      "Mount worker started in attached thread for user  033d08f436a4ef1bdf271e85073e8d3127b328889a012f061545ca27fd79aecba0\n",
      "\n",
      "~~~ Mount Initiator Task ~~~\n",
      "\n",
      "~~~ Dispatch task ~~~\n",
      "flow_type: reverse_number_sequential\n",
      "flow_id: a32d1f28-0d24-4cb5-80ba-6cc85c1d5d3c\n",
      "message_paths: ['push_tasks:b7ac19c4-0568-4b4d-86d6-be6de00a9200:msg']\n",
      "parallel_dispatch: False\n",
      "\n",
      "Called ReverseNumberSequential \n",
      " state {'current_call': 'first_reverse_flow'}\n",
      "\n",
      "~~~ Dispatch task ~~~\n",
      "flow_type: reverse_number_sequential\n",
      "flow_id: a32d1f28-0d24-4cb5-80ba-6cc85c1d5d3c\n",
      "message_paths: ['push_tasks:9e437c27-9634-4e5b-8744-7b9e2202a506:msg']\n",
      "parallel_dispatch: False\n",
      "\n",
      "Called ReverseNumberSequential \n",
      " state {'current_call': 'second_reverse_flow', 'initial_message': FlowMessage(message_id='9c1d1571-2b8c-442f-8651-285bce38809e', created_at='2024-03-16 03:50:34.235967593', created_by='Proxy_reverse_number_sequential', message_type='FlowMessage', data={'id': 0, 'number': 1234}, private_keys=[])}\n",
      "\n",
      "~~~ Dispatch task ~~~\n",
      "flow_type: reverse_number_sequential\n",
      "flow_id: a32d1f28-0d24-4cb5-80ba-6cc85c1d5d3c\n",
      "message_paths: ['push_tasks:a4181a56-9cc2-4f93-a2d8-8a195269db57:msg']\n",
      "parallel_dispatch: False\n",
      "\n",
      "Called ReverseNumberSequential \n",
      " state {'current_call': 'reply_to_message', 'initial_message': FlowMessage(message_id='9c1d1571-2b8c-442f-8651-285bce38809e', created_at='2024-03-16 03:50:34.235967593', created_by='Proxy_reverse_number_sequential', message_type='FlowMessage', data={'id': 0, 'number': 1234}, private_keys=[])}\n"
     ]
    }
   ],
   "source": [
    "run_dispatch_worker_thread(cls[1])\n",
    "run_mount_worker_thread(cls[1])"
   ]
  },
  {
   "cell_type": "code",
   "execution_count": 7,
   "id": "b364acfc-97c9-41b3-be24-62f6262d2872",
   "metadata": {},
   "outputs": [
    {
     "name": "stdout",
     "output_type": "stream",
     "text": [
      "Started serving ReverseNumberFlowModule.ReverseNumberSequentialFlow at flows:reverse_number_sequential.\n",
      "dispatch_point: coflows_dispatch\n",
      "parallel_dispatch: False\n",
      "singleton: False\n"
     ]
    },
    {
     "data": {
      "text/plain": [
       "True"
      ]
     },
     "execution_count": 7,
     "metadata": {},
     "output_type": "execute_result"
    }
   ],
   "source": [
    "serve_utils.serve_flow(\n",
    "    cl=cls[1],\n",
    "    flow_class_name=\"ReverseNumberFlowModule.ReverseNumberSequentialFlow\",\n",
    "    flow_endpoint=\"reverse_number_sequential\",\n",
    ")"
   ]
  },
  {
   "cell_type": "code",
   "execution_count": 8,
   "id": "f16b39d6-d231-4743-9aec-cf57551e2c0d",
   "metadata": {},
   "outputs": [
    {
     "name": "stdout",
     "output_type": "stream",
     "text": [
      "Mounted a32d1f28-0d24-4cb5-80ba-6cc85c1d5d3c at flows:reverse_number_sequential:mounts:local:a32d1f28-0d24-4cb5-80ba-6cc85c1d5d3c\n"
     ]
    }
   ],
   "source": [
    "# since we are creating new dummy users on every run, we inject user_id into config manually\n",
    "# typically this would be hardcoded in yaml config\n",
    "cfg_overrides = {\n",
    "    \"subflows_config\": {\n",
    "        \"first_reverse_flow\": {\n",
    "            \"user_id\": cls[0].get_user_id()\n",
    "        },\n",
    "        \"second_reverse_flow\": {\n",
    "            \"user_id\": cls[0].get_user_id()\n",
    "        }\n",
    "    }\n",
    "}\n",
    "\n",
    "flow = serve_utils.get_flow_instance(\n",
    "    cl=cls[1],\n",
    "    flow_endpoint=\"reverse_number_sequential\",\n",
    "    user_id=\"local\",\n",
    "    config_overrides = cfg_overrides,\n",
    ")"
   ]
  },
  {
   "cell_type": "code",
   "execution_count": 9,
   "id": "527e26fe-5210-4218-99e1-b4a15486f7a7",
   "metadata": {},
   "outputs": [
    {
     "name": "stdout",
     "output_type": "stream",
     "text": [
      "Data sent:\n",
      " {'id': 0, 'number': 1234} \n",
      "\n",
      "REPLY:\n",
      " {'output_number': 1234} \n",
      "\n"
     ]
    }
   ],
   "source": [
    "input_data = {\"id\": 0, \"number\": 1234}\n",
    "    \n",
    "input_message = flow.package_input_message(input_data)\n",
    "future = flow.get_reply_future(input_message)\n",
    "reply_data = future.get_data()\n",
    "\n",
    "print(\"Data sent:\\n\",  input_data, \"\\n\")\n",
    "print(\"REPLY:\\n\", reply_data, \"\\n\")"
   ]
  },
  {
   "cell_type": "markdown",
   "id": "42c7528a-45f6-4fb1-a419-17bed435b894",
   "metadata": {},
   "source": [
    "# Observe storage of both users\n",
    "\n",
    "User 0 has a serve endpoint for ReverseNumberAtomic flow and a singleton instance of that flow.\n",
    "User 1 has a serve endpoint for ReverseNumberSequential flow and an instance of that flow whose subflows are remote instances of the ReverseNumberAtomic at user 0."
   ]
  },
  {
   "cell_type": "code",
   "execution_count": 10,
   "id": "1e9c01a3-dd14-4907-8450-73724fd20aac",
   "metadata": {},
   "outputs": [
    {
     "name": "stdout",
     "output_type": "stream",
     "text": [
      " reverse_number_atomic/\n",
      "   flow_class_name\n",
      "   singleton\n",
      "   init\n",
      "   default_dispatch_point\n",
      "   parallel_dispatch\n",
      "   mounts/\n",
      "     033d08f436a4ef1bdf271e85073e8d3127b328889a012f061545ca27fd79aecba0/\n",
      "       ce535836-37d1-4ebd-9fc5-bc14d325e10f/\n",
      "         config_overrides\n",
      "         state\n",
      "         init\n",
      "       82edc4e7-0946-401d-9ed8-87d370f9cac7/\n",
      "         init\n",
      "         config_overrides\n",
      "\n",
      "All flow instances:\n",
      " ce535836-37d1-4ebd-9fc5-bc14d325e10f\n",
      " 82edc4e7-0946-401d-9ed8-87d370f9cac7\n"
     ]
    }
   ],
   "source": [
    "status(cls[0])"
   ]
  },
  {
   "cell_type": "code",
   "execution_count": 11,
   "id": "712b2f13-3144-4d1c-ab1b-93f7293deff6",
   "metadata": {},
   "outputs": [
    {
     "name": "stdout",
     "output_type": "stream",
     "text": [
      " reverse_number_sequential/\n",
      "   init\n",
      "   singleton\n",
      "   default_dispatch_point\n",
      "   parallel_dispatch\n",
      "   flow_class_name\n",
      "   mounts/\n",
      "     local/\n",
      "       a32d1f28-0d24-4cb5-80ba-6cc85c1d5d3c/\n",
      "         config_overrides\n",
      "         state\n",
      "         init\n",
      "\n",
      "All flow instances:\n",
      " a32d1f28-0d24-4cb5-80ba-6cc85c1d5d3c\n"
     ]
    }
   ],
   "source": [
    "status(cls[1])"
   ]
  }
 ],
 "metadata": {
  "kernelspec": {
   "display_name": "Python 3 (ipykernel)",
   "language": "python",
   "name": "python3"
  },
  "language_info": {
   "codemirror_mode": {
    "name": "ipython",
    "version": 3
   },
   "file_extension": ".py",
   "mimetype": "text/x-python",
   "name": "python",
   "nbconvert_exporter": "python",
   "pygments_lexer": "ipython3",
   "version": "3.10.6"
  }
 },
 "nbformat": 4,
 "nbformat_minor": 5
}

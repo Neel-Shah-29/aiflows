{
 "cells": [
  {
   "cell_type": "markdown",
   "id": "d7a649b1-e259-4b73-8df5-5dc7c28cae47",
   "metadata": {},
   "source": [
    "# ReverseNumber Example - two users"
   ]
  },
  {
   "cell_type": "code",
   "execution_count": 1,
   "id": "686be679-0b12-4675-8f25-67aaabc9c33a",
   "metadata": {},
   "outputs": [],
   "source": [
    "%load_ext autoreload\n",
    "%autoreload 2"
   ]
  },
  {
   "cell_type": "code",
   "execution_count": 2,
   "id": "3290339a-e045-465a-a503-03dece48822a",
   "metadata": {},
   "outputs": [],
   "source": [
    "import os, json\n",
    "\n",
    "from colink import CoLink\n",
    "\n",
    "from aiflows.utils import serve_utils\n",
    "from aiflows.utils.general_helpers import read_yaml_file\n",
    "from aiflows.messages import FlowMessage\n",
    "from aiflows.utils import coflows_utils, colink_utils\n",
    "from aiflows.workers import run_dispatch_worker_thread, run_get_instance_worker_thread\n",
    "\n",
    "def status(cl):\n",
    "    colink_utils.print_served_flows(cl, print_values=False)\n",
    "    print(\"\\nAll flow instances:\")\n",
    "    colink_utils.print_flow_instances(cl)"
   ]
  },
  {
   "cell_type": "markdown",
   "id": "0afb71d4-fc58-425b-98ae-c7667a159565",
   "metadata": {},
   "source": [
    "# Create two users"
   ]
  },
  {
   "cell_type": "code",
   "execution_count": 3,
   "id": "aa7d4186-d488-4a52-99d6-6a804cccd977",
   "metadata": {},
   "outputs": [],
   "source": [
    "cls = colink_utils.start_colink_server_with_users(num_users=2)"
   ]
  },
  {
   "cell_type": "markdown",
   "id": "0af33573-24b2-4d27-a7dc-9299f17d1e5b",
   "metadata": {},
   "source": [
    "# USER 0"
   ]
  },
  {
   "cell_type": "code",
   "execution_count": 4,
   "id": "c36a4f71-7fc6-490c-9966-de8725120a64",
   "metadata": {},
   "outputs": [
    {
     "name": "stdout",
     "output_type": "stream",
     "text": [
      "Dispatch worker started in attached thread.\n",
      "dispatch_point: coflows_dispatch\n",
      "get_instances worker started in attached thread for user  02c5f78f4d27fa03c1c19b113a95ec847d17613b8ffb07d2876542df3120b793b2\n",
      "\n",
      "~~~ serving get_instances request ~~~\n",
      "Mounted 9a2c5b08-857f-4e43-b2c0-3b95cba41336 at flows:reverse_number_atomic:mounts:0300dd5667bb8eb8b25849121c3cb8eba6818d539a0294c59586921a4b612a9409:9a2c5b08-857f-4e43-b2c0-3b95cba41336\n",
      "Fetched singleton 9a2c5b08-857f-4e43-b2c0-3b95cba41336\n",
      "\n",
      "~~~ Dispatch task ~~~\n",
      "flow_type: reverse_number_atomic\n",
      "flow_id: 9a2c5b08-857f-4e43-b2c0-3b95cba41336\n",
      "message_paths: ['push_tasks:c0e9825f-f99a-495b-a52d-5d2542a7b4be:msg']\n",
      "parallel_dispatch: False\n",
      "\n",
      "Called ReverseNumberAtomic \n",
      " state {}\n",
      "\n",
      "~~~ Dispatch task ~~~\n",
      "flow_type: reverse_number_atomic\n",
      "flow_id: 9a2c5b08-857f-4e43-b2c0-3b95cba41336\n",
      "message_paths: ['push_tasks:d40025d4-9592-4884-9813-9a3166c0f34b:msg']\n",
      "parallel_dispatch: False\n",
      "\n",
      "Called ReverseNumberAtomic \n",
      " state {}\n"
     ]
    }
   ],
   "source": [
    "run_dispatch_worker_thread(cls[0])\n",
    "run_get_instance_worker_thread(cls[0])"
   ]
  },
  {
   "cell_type": "code",
   "execution_count": 5,
   "id": "fd1aa9eb-13a2-43f1-9d07-ce1f29d5a38e",
   "metadata": {},
   "outputs": [
    {
     "name": "stdout",
     "output_type": "stream",
     "text": [
      "Started serving ReverseNumberFlowModule.ReverseNumberAtomicFlow at flows:reverse_number_atomic.\n",
      "dispatch_point: coflows_dispatch\n",
      "parallel_dispatch: False\n",
      "singleton: True\n"
     ]
    },
    {
     "data": {
      "text/plain": [
       "True"
      ]
     },
     "execution_count": 5,
     "metadata": {},
     "output_type": "execute_result"
    }
   ],
   "source": [
    "serve_utils.serve_flow(\n",
    "    cl=cls[0],\n",
    "    flow_class_name=\"ReverseNumberFlowModule.ReverseNumberAtomicFlow\",\n",
    "    flow_endpoint=\"reverse_number_atomic\",\n",
    "    singleton=True,\n",
    ")"
   ]
  },
  {
   "cell_type": "markdown",
   "id": "0f8edcdb-ac4d-45d6-a2fe-be043d00d85d",
   "metadata": {},
   "source": [
    "# USER 1"
   ]
  },
  {
   "cell_type": "code",
   "execution_count": 6,
   "id": "6c0f9635-9e85-4f81-a5f5-5e587ad80c36",
   "metadata": {},
   "outputs": [
    {
     "name": "stdout",
     "output_type": "stream",
     "text": [
      "Dispatch worker started in attached thread.\n",
      "dispatch_point: coflows_dispatch\n",
      "get_instances worker started in attached thread for user  0300dd5667bb8eb8b25849121c3cb8eba6818d539a0294c59586921a4b612a9409\n",
      "\n",
      "~~~ get_instances initiator ~~~\n",
      "Received subflow instances: {\n",
      "    \"first_reverse_flow\": {\n",
      "        \"flow_id\": \"9a2c5b08-857f-4e43-b2c0-3b95cba41336\",\n",
      "        \"successful\": true,\n",
      "        \"message\": \"Fetched local flow instance.\"\n",
      "    },\n",
      "    \"second_reverse_flow\": {\n",
      "        \"flow_id\": \"9a2c5b08-857f-4e43-b2c0-3b95cba41336\",\n",
      "        \"successful\": true,\n",
      "        \"message\": \"Fetched local flow instance.\"\n",
      "    }\n",
      "}\n",
      "\n",
      "~~~ Dispatch task ~~~\n",
      "flow_type: reverse_number_sequential\n",
      "flow_id: 57c8335e-ae28-48dc-ad51-b4786aabd8ba\n",
      "message_paths: ['push_tasks:7dc92d0e-184e-471e-8521-e66e81193d48:msg']\n",
      "parallel_dispatch: False\n",
      "\n",
      "Called ReverseNumberSequential \n",
      " state {'current_call': 'first_reverse_flow'}\n",
      "\n",
      "~~~ Dispatch task ~~~\n",
      "flow_type: reverse_number_sequential\n",
      "flow_id: 57c8335e-ae28-48dc-ad51-b4786aabd8ba\n",
      "message_paths: ['push_tasks:3494a953-5271-4d43-8603-f50bde27816d:msg']\n",
      "parallel_dispatch: False\n",
      "\n",
      "Called ReverseNumberSequential \n",
      " state {'current_call': 'second_reverse_flow', 'initial_message': FlowMessage(message_id='987a59a7-03af-4787-9c4e-dc3d9a57d780', created_at='2024-03-16 11:04:50.062076959', created_by='Proxy_reverse_number_sequential', message_type='FlowMessage', data={'id': 0, 'number': 1234}, private_keys=[])}\n",
      "\n",
      "~~~ Dispatch task ~~~\n",
      "flow_type: reverse_number_sequential\n",
      "flow_id: 57c8335e-ae28-48dc-ad51-b4786aabd8ba\n",
      "message_paths: ['push_tasks:797977c0-2c38-45bf-aafe-deed954ca9f5:msg']\n",
      "parallel_dispatch: False\n",
      "\n",
      "Called ReverseNumberSequential \n",
      " state {'current_call': 'reply_to_message', 'initial_message': FlowMessage(message_id='987a59a7-03af-4787-9c4e-dc3d9a57d780', created_at='2024-03-16 11:04:50.062076959', created_by='Proxy_reverse_number_sequential', message_type='FlowMessage', data={'id': 0, 'number': 1234}, private_keys=[])}\n"
     ]
    }
   ],
   "source": [
    "run_dispatch_worker_thread(cls[1])\n",
    "run_get_instance_worker_thread(cls[1])"
   ]
  },
  {
   "cell_type": "code",
   "execution_count": 7,
   "id": "b364acfc-97c9-41b3-be24-62f6262d2872",
   "metadata": {},
   "outputs": [
    {
     "name": "stdout",
     "output_type": "stream",
     "text": [
      "Started serving ReverseNumberFlowModule.ReverseNumberSequentialFlow at flows:reverse_number_sequential.\n",
      "dispatch_point: coflows_dispatch\n",
      "parallel_dispatch: False\n",
      "singleton: False\n"
     ]
    },
    {
     "data": {
      "text/plain": [
       "True"
      ]
     },
     "execution_count": 7,
     "metadata": {},
     "output_type": "execute_result"
    }
   ],
   "source": [
    "serve_utils.serve_flow(\n",
    "    cl=cls[1],\n",
    "    flow_class_name=\"ReverseNumberFlowModule.ReverseNumberSequentialFlow\",\n",
    "    flow_endpoint=\"reverse_number_sequential\",\n",
    ")"
   ]
  },
  {
   "cell_type": "code",
   "execution_count": 8,
   "id": "f16b39d6-d231-4743-9aec-cf57551e2c0d",
   "metadata": {},
   "outputs": [
    {
     "name": "stdout",
     "output_type": "stream",
     "text": [
      "Mounted 57c8335e-ae28-48dc-ad51-b4786aabd8ba at flows:reverse_number_sequential:mounts:local:57c8335e-ae28-48dc-ad51-b4786aabd8ba\n"
     ]
    }
   ],
   "source": [
    "# since we are creating new dummy users on every run, we inject user_id into config manually\n",
    "# typically this would be hardcoded in yaml config\n",
    "cfg_overrides = {\n",
    "    \"subflows_config\": {\n",
    "        \"first_reverse_flow\": {\n",
    "            \"user_id\": cls[0].get_user_id()\n",
    "        },\n",
    "        \"second_reverse_flow\": {\n",
    "            \"user_id\": cls[0].get_user_id()\n",
    "        }\n",
    "    }\n",
    "}\n",
    "\n",
    "flow = serve_utils.get_flow_instance(\n",
    "    cl=cls[1],\n",
    "    flow_endpoint=\"reverse_number_sequential\",\n",
    "    user_id=\"local\",\n",
    "    config_overrides = cfg_overrides,\n",
    ")"
   ]
  },
  {
   "cell_type": "code",
   "execution_count": 9,
   "id": "527e26fe-5210-4218-99e1-b4a15486f7a7",
   "metadata": {},
   "outputs": [
    {
     "name": "stdout",
     "output_type": "stream",
     "text": [
      "Data sent:\n",
      " {'id': 0, 'number': 1234} \n",
      "\n",
      "REPLY:\n",
      " {'output_number': 1234} \n",
      "\n"
     ]
    }
   ],
   "source": [
    "input_data = {\"id\": 0, \"number\": 1234}\n",
    "    \n",
    "input_message = flow.package_input_message(input_data)\n",
    "future = flow.get_reply_future(input_message)\n",
    "reply_data = future.get_data()\n",
    "\n",
    "print(\"Data sent:\\n\",  input_data, \"\\n\")\n",
    "print(\"REPLY:\\n\", reply_data, \"\\n\")"
   ]
  },
  {
   "cell_type": "markdown",
   "id": "42c7528a-45f6-4fb1-a419-17bed435b894",
   "metadata": {},
   "source": [
    "# Observe storage of both users\n",
    "\n",
    "User 0 has a serve endpoint for ReverseNumberAtomic flow and a singleton instance of that flow.\n",
    "User 1 has a serve endpoint for ReverseNumberSequential flow and an instance of that flow whose subflows are remote instances of the ReverseNumberAtomic at user 0."
   ]
  },
  {
   "cell_type": "code",
   "execution_count": 10,
   "id": "1e9c01a3-dd14-4907-8450-73724fd20aac",
   "metadata": {},
   "outputs": [
    {
     "name": "stdout",
     "output_type": "stream",
     "text": [
      " reverse_number_atomic/\n",
      "   default_dispatch_point\n",
      "   parallel_dispatch\n",
      "   flow_class_name\n",
      "   mounts/\n",
      "     0300dd5667bb8eb8b25849121c3cb8eba6818d539a0294c59586921a4b612a9409/\n",
      "       9a2c5b08-857f-4e43-b2c0-3b95cba41336/\n",
      "         init\n",
      "         config_overrides\n",
      "         state\n",
      "   init\n",
      "   singleton\n",
      "\n",
      "All flow instances:\n",
      " 9a2c5b08-857f-4e43-b2c0-3b95cba41336\n"
     ]
    }
   ],
   "source": [
    "status(cls[0])"
   ]
  },
  {
   "cell_type": "code",
   "execution_count": 11,
   "id": "712b2f13-3144-4d1c-ab1b-93f7293deff6",
   "metadata": {},
   "outputs": [
    {
     "name": "stdout",
     "output_type": "stream",
     "text": [
      " reverse_number_sequential/\n",
      "   flow_class_name\n",
      "   init\n",
      "   parallel_dispatch\n",
      "   mounts/\n",
      "     local/\n",
      "       57c8335e-ae28-48dc-ad51-b4786aabd8ba/\n",
      "         config_overrides\n",
      "         init\n",
      "         state\n",
      "   singleton\n",
      "   default_dispatch_point\n",
      "\n",
      "All flow instances:\n",
      " 57c8335e-ae28-48dc-ad51-b4786aabd8ba\n"
     ]
    }
   ],
   "source": [
    "status(cls[1])"
   ]
  }
 ],
 "metadata": {
  "kernelspec": {
   "display_name": "Python 3 (ipykernel)",
   "language": "python",
   "name": "python3"
  },
  "language_info": {
   "codemirror_mode": {
    "name": "ipython",
    "version": 3
   },
   "file_extension": ".py",
   "mimetype": "text/x-python",
   "name": "python",
   "nbconvert_exporter": "python",
   "pygments_lexer": "ipython3",
   "version": "3.10.6"
  }
 },
 "nbformat": 4,
 "nbformat_minor": 5
}

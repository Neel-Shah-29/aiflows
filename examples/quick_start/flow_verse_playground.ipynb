{
 "cells": [
  {
   "cell_type": "code",
   "execution_count": null,
   "metadata": {},
   "outputs": [],
   "source": [
    "# ~~~ Imports ~~~\n",
    "import subprocess\n",
    "import os\n",
    "import hydra\n",
    "from aiflows.utils.general_helpers import read_yaml_file\n",
    "from aiflows.backends.api_info import ApiInfo\n",
    "from aiflows.utils.general_helpers import find_replace_in_dict\n",
    "from aiflows.flow_launchers import FlowLauncher\n",
    "from aiflows.backends.api_info import ApiInfo\n",
    "from aiflows import flow_verse\n",
    "from aiflows import logging\n",
    "\n",
    "logging.set_verbosity_info()"
   ]
  },
  {
   "cell_type": "markdown",
   "metadata": {},
   "source": [
    "### Defining Functions Which Reproduce The Steps Of The Quick Start Tutorial (no modifications required)"
   ]
  },
  {
   "cell_type": "code",
   "execution_count": null,
   "metadata": {},
   "outputs": [],
   "source": [
    "# ~~~ Convenience function that install the dependencies for the Flows in this notebook ~~~\n",
    "# Normally, you would install the dependencies in your terminal, as necessary. We do it here for you convenience\n",
    "\n",
    "DEPENDENCIES_DICT = {\n",
    "    \"ChatFlowModule\": \"aiflows/ChatFlowModule\",\n",
    "    \"ReAct\": \"aiflows/ControllerExecutorFlowModule\",\n",
    "    \"ChatInteractiveFlowModule\": \"aiflows/ChatInteractiveFlowModule\",\n",
    "    \"ChatWithDemonstrationsFlowModule\": \"aiflows/ChatWithDemonstrationsFlowModule\",\n",
    "    \"AutoGPTFlowModule\": \"aiflows/AutoGPTFlowModule\",\n",
    "    \"VisionFlowModule\": \"aiflows/VisionFlowModule\",\n",
    "}\n",
    "\n",
    "def download_all_flow_dependencies(flow):\n",
    "    \"\"\"Download all dependencies for a flow from FlowVerse and pip requirements. \n",
    "    \n",
    "    Note that this is a convenience function for this tutorial and is not meant to work doesn't work for all Flows on FlowVerse.\n",
    "    \n",
    "    :param flow: The name of the Flow to download dependencies for\n",
    "    :type flow: str\n",
    "    \"\"\"\n",
    "    # ~~~ Load Flow dependecies from FlowVerse ~~~\n",
    "    dependencies = [\n",
    "        {\"url\": DEPENDENCIES_DICT[flow], \"revision\": \"main\"},\n",
    "    ]\n",
    "    flow_verse.sync_dependencies(dependencies)\n",
    "    \n",
    "    # path to pip requirements file\n",
    "    path_to_requirements = os.path.join(\"flow_modules\" ,DEPENDENCIES_DICT[flow], \"pip_requirements.txt\")\n",
    "\n",
    "    # download dependencies\n",
    "    subprocess.check_call([\"pip\", \"install\", \"-r\", path_to_requirements], stdout=subprocess.DEVNULL)\n",
    "\n",
    "# ~~~ Load Flow dependecies from FlowVerse and pip requirments ~~~\n",
    "for key in DEPENDENCIES_DICT.keys():\n",
    "    download_all_flow_dependencies(key)"
   ]
  },
  {
   "cell_type": "code",
   "execution_count": null,
   "metadata": {},
   "outputs": [],
   "source": [
    "def run_flow(flow, data, api_information):\n",
    "    \"\"\"Loads the Flow config, instantiates the Flow and runs inference.\n",
    "    \n",
    "    :param flow: The name of the flow to run\n",
    "    :type flow: str\n",
    "    :param data: The input data to the flow\n",
    "    :type data: dict\n",
    "    :param api_information: The api information for the flow\n",
    "    :type api_information: ApiInfo\n",
    "    \"\"\"\n",
    "    \n",
    "    flow_url = DEPENDENCIES_DICT[flow]\n",
    "\n",
    "    # ~~~ Load Flow config ~~~\n",
    "    path_to_config = os.path.join( \"flow_modules\" ,flow_url, \"demo.yaml\")\n",
    "    cfg = read_yaml_file(path_to_config)\n",
    "\n",
    "    # set the API information\n",
    "    cfg = find_replace_in_dict(cfg, key_to_find=\"api_infos\", new_value= api_information , current_path=\"\")\n",
    "  \n",
    "    # ~~~ Instantiate the Flow ~~~\n",
    "    flow_with_interfaces = {\n",
    "        \"flow\": hydra.utils.instantiate(cfg[\"flow\"], _recursive_=False, _convert_=\"partial\"),\n",
    "        \"input_interface\": None,\n",
    "        \"output_interface\": None\n",
    "    }\n",
    "    \n",
    "    # ~~~ Run inference ~~~\n",
    "    path_to_output_file = None\n",
    "    # path_to_output_file = \"output.jsonl\"  # Uncomment this line to save the output to disk\n",
    "\n",
    "    _, outputs = FlowLauncher.launch(\n",
    "        flow_with_interfaces=flow_with_interfaces, data=data, path_to_output_file=path_to_output_file\n",
    "    )\n",
    "\n",
    "    # ~~~ Print the output ~~~\n",
    "    flow_output_data = outputs[0]\n",
    "    print(flow_output_data)\n",
    "    "
   ]
  },
  {
   "cell_type": "markdown",
   "metadata": {},
   "source": [
    "### Setting you API Information\n",
    "\n",
    "Set your API information here (copy-paste it)"
   ]
  },
  {
   "cell_type": "code",
   "execution_count": null,
   "metadata": {},
   "outputs": [],
   "source": [
    "\n",
    "#OpenAI backend\n",
    "api_key = \"\" # copy paste your api key here\n",
    "api_information = [ApiInfo(backend_used=\"openai\", api_key=api_key)]\n",
    "\n",
    "# Azure backend\n",
    "# api_key = \"\" # copy paste your api key here\n",
    "# api_base = \"\" # copy paste your api base here\n",
    "# api_version = \"\" #copypase your api base here\n",
    "# api_information = ApiInfo(backend_used = \"azure\",\n",
    "#                           api_base =api_base,\n",
    "#                           api_key = api_version,\n",
    "#                           api_version =  api_version )"
   ]
  },
  {
   "cell_type": "markdown",
   "metadata": {},
   "source": [
    "### Pick a Flow, some data and run it!\n",
    "\n",
    "Set the `Flow` and `data` values, then run the cell! Examples for each flow from the FlowVerse are provided in the cell bellow. Uncomment the flow and data you wish to run. Here is the list of flows available for you to run:\n",
    "\n",
    "* [ChatFlowModule](https://huggingface.co/aiflows/ChatFlowModule)\n",
    "\n",
    "* [ReAct](https://huggingface.co/aiflows/ControllerExecutorFlowModule)\n",
    "\n",
    "* [AutoGPTFlowModule](https://huggingface.co/aiflows/AutoGPTFlowModule)\n",
    "\n",
    "* [ChatInteractiveFlowModule](https://huggingface.co/aiflows/ChatInteractiveFlowModule)\n",
    "\n",
    "* [ChatWithDemonstrationsFlowModule](https://huggingface.co/aiflows/ChatWithDemonstrationsFlowModule)\n",
    "\n",
    "* [VisionFlowModule](https://huggingface.co/aiflows/VisionFlowModule)\n"
   ]
  },
  {
   "cell_type": "code",
   "execution_count": null,
   "metadata": {},
   "outputs": [],
   "source": [
    "# Example for a simple chatbot\n",
    "# [ChatFlowModule](https://huggingface.co/aiflows/ChatFlowModule)\n",
    "\n",
    "flow = \"ChatFlowModule\"  \n",
    "data = {\"id\": 0, \"question\": \"Who was the NBA champion in 2023?\"} \n",
    "run_flow(flow, data, api_information)"
   ]
  },
  {
   "cell_type": "code",
   "execution_count": null,
   "metadata": {},
   "outputs": [],
   "source": [
    "# Example for ReAct (the simplest instance of a ControllerExecutorFlowModule)\n",
    "flow = \"ReAct\"\n",
    "data = {\"id\": 0, \"goal\": \"Who was the NBA champion in 2023?\"}\n",
    "run_flow(flow, data, api_information)"
   ]
  },
  {
   "cell_type": "code",
   "execution_count": null,
   "metadata": {},
   "outputs": [],
   "source": [
    "# Example for AutoGPTFlowModule\n",
    "flow = \"AutoGPTFlowModule\"\n",
    "data = {\"id\": 0, \"goal\": \"Who was the NBA champion in 2023?\"}\n",
    "run_flow(flow, data, api_information)"
   ]
  },
  {
   "cell_type": "code",
   "execution_count": null,
   "metadata": {},
   "outputs": [],
   "source": [
    "# Example for ChatInteractiveFlowModule\n",
    "flow = \"ChatInteractiveFlowModule\"\n",
    "data = {\"id\": 0} # you will be able to ask questions once it is running\n",
    "run_flow(flow, data, api_information)"
   ]
  },
  {
   "cell_type": "code",
   "execution_count": null,
   "metadata": {},
   "outputs": [],
   "source": [
    "# Example for ChatWithDemonstrationsFlowModule\n",
    "flow = \"ChatWithDemonstrationsFlowModule\"\n",
    "data = {\"id\": 0, \"question\": \"What's the capital of France?\"}  # This can be a list of samples\n",
    "run_flow(flow, data, api_information)"
   ]
  },
  {
   "cell_type": "code",
   "execution_count": null,
   "metadata": {},
   "outputs": [],
   "source": [
    "# Example for VisionFlowModule\n",
    "flow = \"VisionFlowModule\"\n",
    "url_image = {\"type\": \"url\",\n",
    "            \"image\": \"https://upload.wikimedia.org/wikipedia/commons/thumb/d/dd/Gfp-wisconsin-madison-the-nature-boardwalk.jpg/2560px-Gfp-wisconsin-madison-the-nature-boardwalk.jpg\"}\n",
    "data = {\"id\": 0, \"query\": \"What’s in this image?\", \"data\": {\"images\": [url_image]}}  # This can be a list of samples\n",
    "run_flow(flow, data, api_information)"
   ]
  }
 ],
 "metadata": {
  "kernelspec": {
   "display_name": "flows",
   "language": "python",
   "name": "python3"
  },
  "language_info": {
   "codemirror_mode": {
    "name": "ipython",
    "version": 3
   },
   "file_extension": ".py",
   "mimetype": "text/x-python",
   "name": "python",
   "nbconvert_exporter": "python",
   "pygments_lexer": "ipython3",
   "version": "3.10.13"
  }
 },
 "nbformat": 4,
 "nbformat_minor": 2
}

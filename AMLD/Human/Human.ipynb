{
 "cells": [
  {
   "cell_type": "markdown",
   "id": "d7a649b1-e259-4b73-8df5-5dc7c28cae47",
   "metadata": {},
   "source": [
    "# Humans and Flows\n",
    "**In this tutorial you will:**\n",
    "- learn how humans can be represented as Flows\n",
    "- learn how Flows can request human input\n",
    "- use a simple user interface to chat with Flows\n",
    "- chat with your neighbor through Flows\n",
    "\n",
    "There are many practical use cases of AI where we need to enable flexible interaction between humans and AI systems. For example, a customer support chatbot that is unable to help a customer should be able to request an internal human expert for help. A personal AI assistant booking a restaurant for a human might need to ask the human about dietary restrictions. In general, when an AI agent encounters a roadblock - it should be able to reach out to humans for help.\n",
    "\n",
    "Furthermore, humans can be used to help AI systems with tasks that require complex reasoning. One such example is competitive programming - given a competitive programming problem, an LLM might struggle to solve it on it's own. However, we can include a human in the loop by having it provide a high-level plan on how to solve a given problem. We have implemented this particular example using aiFlows - learn more about it [here](https://huggingface.co/aiflows/CCFlows).\n",
    "\n",
    "Depending on the workflow you are trying to automate, you might want to have a human \"chip in\" at certain places and under certain conditions. This is particularly important at the early stages of integrating AI into your business.\n",
    "\n",
    "**In aiFlows, we view humans as tools that are simply wrapped with a Flow abstraction. This allows us to treat a human as any other regular Flow, enabling us to easily create complex interactions between humans and AI systems.**"
   ]
  },
  {
   "cell_type": "code",
   "execution_count": 1,
   "id": "3290339a-e045-465a-a503-03dece48822a",
   "metadata": {},
   "outputs": [],
   "source": [
    "%load_ext autoreload\n",
    "%autoreload 2\n",
    "import os, json, copy\n",
    "from colink import CoLink\n",
    "from aiflows.utils import serve_utils\n",
    "from aiflows.utils.general_helpers import read_yaml_file\n",
    "from aiflows.messages import FlowMessage\n",
    "from aiflows.utils import coflows_utils, colink_utils\n",
    "from aiflows.workers import run_dispatch_worker_thread, run_get_instance_worker_thread\n",
    "from aiflows.backends.api_info import ApiInfo\n",
    "from aiflows import flow_verse"
   ]
  },
  {
   "cell_type": "markdown",
   "id": "60f88142-d741-4f58-87bc-da87923de3d1",
   "metadata": {},
   "source": [
    "## HumanFlow\n",
    "\n",
    "A Flow designed to encapsulate a human will simply relay received messages to the human and then transmit the human's response back to the original sender. We can essentially think of a human as being the implementation of the Flow's ```run()``` method. We refer to such flow as a \"HumanFlow\". \n",
    "\n",
    "In this notebook we will demonstrate how to run a simple chat interaction between a human and a chabot using aiFlows. We will facilitate the interaction as a Composite Flow that has two subflows: a ChatFlow and a HumanFlow. "
   ]
  },
  {
   "cell_type": "markdown",
   "id": "c7a894bf-5605-4da7-984d-d0e06ee3288e",
   "metadata": {},
   "source": [
    "## Connect to CoLink Server\n",
    "\n",
    "To run this example, we will need a CoLink server running outside of the notebook because we will need to start the human UI in a separate process.\n",
    "\n",
    "You can run the example by connecting to our official CoLink server or by starting a local CoLink server instance in a separate shell.\n",
    "If you wish to run locally, please install the latest server release from here: https://github.com/CoLearn-Dev/colink-server-dev/releases\n",
    "\n",
    "We will continue by connecting to our hosted CoLink server. If you don't have a colink user with our server, please do the following:\n",
    "\n",
    "Run ```python generate_user.py```\n",
    "\n",
    "This will generate your key pair and a signature of your intent to register with our server. The script will generate a file called user.txt which will contain your pubkey and signature. You should then provide this file to our server administrators - they will create a JWT for you, allowing you to connect to our CoLink server. Feel free to share this file with us through our [Discord](https://discord.gg/UbQ5JYtP)!\n"
   ]
  },
  {
   "cell_type": "code",
   "execution_count": 15,
   "id": "c5454629-74ae-4fc4-8b1e-244ae25184c1",
   "metadata": {
    "scrolled": true
   },
   "outputs": [
    {
     "name": "stdout",
     "output_type": "stream",
     "text": [
      "02e404b1aace07470c1dd18c25078274f6184e4dd4c741334b0b1d2e75168f9877\n"
     ]
    }
   ],
   "source": [
    "addr = \"https://amld.colink-server.colearn.cloud\"\n",
    "jwt = ... # YOUR JWT\n",
    "cl = CoLink(addr, jwt)\n",
    "print(cl.get_user_id())"
   ]
  },
  {
   "cell_type": "markdown",
   "id": "f0d8604c-1779-45cc-8325-67c8c47745b1",
   "metadata": {},
   "source": [
    "## ChatFlows UI\n",
    "\n",
    "We have prepared a simple script that serves an AtomicFlow wrapper around a human, and starts a user interface through which the human can reply to messages directed at that flow, termed the HumanFlow. For practical use, you can integrate HumanFlows into your frontend applications by running a background CoLink worker process that receives messages sent to the HumanFlow and triggers an event in your application.\n",
    "\n",
    "To serve the HumanFlow and start the UI:\n",
    "- navigate to the /chatflows-ui folder\n",
    "- add your JWT to the ui-config.yaml file\n",
    "- run the application with ```streamlit run chatflows-ui.py```\n",
    "\n",
    "While you are there, take a peek at the HumanUIFlow.yaml file which contains the flow config for the HumanFlow.\n",
    "\n",
    "We have now served the HumanFlow as a singleton under the flow endpoint \"User\" (you can modify the endpoint in ui-config.yaml). We can now use the HumanFlow as a subflow of a larger Composite Flow, or we can directly interact with it by obtaining a proxy - let's do that first to ensure everything works as expected.\n",
    "\n",
    "We will start a few dispatch workers (we'll also need them to run flows later). Notice that we are passing the API info when starting the workers. The workers will inject the API info when loading the Flow for execution - we do this for privacy reasons, so that the API info doesn't get stored in the CoLink server."
   ]
  },
  {
   "cell_type": "code",
   "execution_count": 3,
   "id": "17266130-b655-4a06-8711-7663b76cb12b",
   "metadata": {},
   "outputs": [
    {
     "name": "stdout",
     "output_type": "stream",
     "text": [
      "[\u001b[36m2024-03-22 11:38:47,027\u001b[0m][\u001b[34maiflows.workers.dispatch_worker:235\u001b[0m][\u001b[32mINFO\u001b[0m] - Dispatch worker started in attached thread.\u001b[0m\n",
      "[\u001b[36m2024-03-22 11:38:47,029\u001b[0m][\u001b[34maiflows.workers.dispatch_worker:236\u001b[0m][\u001b[32mINFO\u001b[0m] - dispatch_point: coflows_dispatch\u001b[0m\n",
      "[\u001b[36m2024-03-22 11:38:47,051\u001b[0m][\u001b[34maiflows.workers.dispatch_worker:235\u001b[0m][\u001b[32mINFO\u001b[0m] - Dispatch worker started in attached thread.\u001b[0m\n",
      "[\u001b[36m2024-03-22 11:38:47,053\u001b[0m][\u001b[34maiflows.workers.dispatch_worker:236\u001b[0m][\u001b[32mINFO\u001b[0m] - dispatch_point: coflows_dispatch\u001b[0m\n",
      "[\u001b[36m2024-03-22 11:41:08,277\u001b[0m][\u001b[34maiflows.workers.dispatch_worker:119\u001b[0m][\u001b[32mINFO\u001b[0m] - \n",
      "~~~ Dispatch task ~~~\u001b[0m\n",
      "[\u001b[36m2024-03-22 11:41:08,303\u001b[0m][\u001b[34maiflows.workers.dispatch_worker:161\u001b[0m][\u001b[32mINFO\u001b[0m] - flow_endpoint: InteractiveChat\u001b[0m\n",
      "[\u001b[36m2024-03-22 11:41:08,304\u001b[0m][\u001b[34maiflows.workers.dispatch_worker:162\u001b[0m][\u001b[32mINFO\u001b[0m] - flow_id: 48e3b2c9-e0b6-42e9-a352-45300ada504f\u001b[0m\n",
      "[\u001b[36m2024-03-22 11:41:08,305\u001b[0m][\u001b[34maiflows.workers.dispatch_worker:163\u001b[0m][\u001b[32mINFO\u001b[0m] - owner_id: local\u001b[0m\n",
      "[\u001b[36m2024-03-22 11:41:08,305\u001b[0m][\u001b[34maiflows.workers.dispatch_worker:164\u001b[0m][\u001b[32mINFO\u001b[0m] - message_paths: ['push_tasks:e4ffbc27-490e-4720-b3a9-9534f23baeb6:msg']\u001b[0m\n",
      "[\u001b[36m2024-03-22 11:41:08,306\u001b[0m][\u001b[34maiflows.workers.dispatch_worker:165\u001b[0m][\u001b[32mINFO\u001b[0m] - parallel_dispatch: False\n",
      "\u001b[0m\n",
      "[\u001b[36m2024-03-22 11:41:08,363\u001b[0m][\u001b[34maiflows.workers.dispatch_worker:188\u001b[0m][\u001b[32mINFO\u001b[0m] - Input message source: unknown\u001b[0m\n",
      "[\u001b[36m2024-03-22 11:41:08,395\u001b[0m][\u001b[34maiflows.workers.dispatch_worker:119\u001b[0m][\u001b[32mINFO\u001b[0m] - \n",
      "~~~ Dispatch task ~~~\u001b[0m\n",
      "[\u001b[36m2024-03-22 11:41:08,414\u001b[0m][\u001b[34maiflows.workers.dispatch_worker:161\u001b[0m][\u001b[32mINFO\u001b[0m] - flow_endpoint: Assistant\u001b[0m\n",
      "[\u001b[36m2024-03-22 11:41:08,415\u001b[0m][\u001b[34maiflows.workers.dispatch_worker:162\u001b[0m][\u001b[32mINFO\u001b[0m] - flow_id: fd56e5c1-f1db-4824-bb1a-ac69147b54b4\u001b[0m\n",
      "[\u001b[36m2024-03-22 11:41:08,416\u001b[0m][\u001b[34maiflows.workers.dispatch_worker:163\u001b[0m][\u001b[32mINFO\u001b[0m] - owner_id: local\u001b[0m\n",
      "[\u001b[36m2024-03-22 11:41:08,417\u001b[0m][\u001b[34maiflows.workers.dispatch_worker:164\u001b[0m][\u001b[32mINFO\u001b[0m] - message_paths: ['push_tasks:00e13a0f-d29a-45b5-b885-8dd1b838777b:msg']\u001b[0m\n",
      "[\u001b[36m2024-03-22 11:41:08,417\u001b[0m][\u001b[34maiflows.workers.dispatch_worker:165\u001b[0m][\u001b[32mINFO\u001b[0m] - parallel_dispatch: False\n",
      "\u001b[0m\n",
      "[\u001b[36m2024-03-22 11:41:08,497\u001b[0m][\u001b[34maiflows.workers.dispatch_worker:188\u001b[0m][\u001b[32mINFO\u001b[0m] - Input message source: Assistant\u001b[0m\n",
      "[\u001b[36m2024-03-22 11:41:09,309\u001b[0m][\u001b[34maiflows.workers.dispatch_worker:119\u001b[0m][\u001b[32mINFO\u001b[0m] - \n",
      "~~~ Dispatch task ~~~\u001b[0m\n",
      "[\u001b[36m2024-03-22 11:41:09,332\u001b[0m][\u001b[34maiflows.workers.dispatch_worker:161\u001b[0m][\u001b[32mINFO\u001b[0m] - flow_endpoint: InteractiveChat\u001b[0m\n",
      "[\u001b[36m2024-03-22 11:41:09,333\u001b[0m][\u001b[34maiflows.workers.dispatch_worker:162\u001b[0m][\u001b[32mINFO\u001b[0m] - flow_id: 48e3b2c9-e0b6-42e9-a352-45300ada504f\u001b[0m\n",
      "[\u001b[36m2024-03-22 11:41:09,333\u001b[0m][\u001b[34maiflows.workers.dispatch_worker:163\u001b[0m][\u001b[32mINFO\u001b[0m] - owner_id: local\u001b[0m\n",
      "[\u001b[36m2024-03-22 11:41:09,334\u001b[0m][\u001b[34maiflows.workers.dispatch_worker:164\u001b[0m][\u001b[32mINFO\u001b[0m] - message_paths: ['push_tasks:339ffb32-e92e-4e01-80e6-f5ab77e7ffbd:msg']\u001b[0m\n",
      "[\u001b[36m2024-03-22 11:41:09,334\u001b[0m][\u001b[34maiflows.workers.dispatch_worker:165\u001b[0m][\u001b[32mINFO\u001b[0m] - parallel_dispatch: False\n",
      "\u001b[0m\n",
      "[\u001b[36m2024-03-22 11:41:09,419\u001b[0m][\u001b[34maiflows.workers.dispatch_worker:188\u001b[0m][\u001b[32mINFO\u001b[0m] - Input message source: Assistant\u001b[0m\n",
      "[\u001b[36m2024-03-22 11:41:23,285\u001b[0m][\u001b[34maiflows.workers.dispatch_worker:119\u001b[0m][\u001b[32mINFO\u001b[0m] - \n",
      "~~~ Dispatch task ~~~\u001b[0m\n",
      "[\u001b[36m2024-03-22 11:41:23,308\u001b[0m][\u001b[34maiflows.workers.dispatch_worker:161\u001b[0m][\u001b[32mINFO\u001b[0m] - flow_endpoint: InteractiveChat\u001b[0m\n",
      "[\u001b[36m2024-03-22 11:41:23,309\u001b[0m][\u001b[34maiflows.workers.dispatch_worker:162\u001b[0m][\u001b[32mINFO\u001b[0m] - flow_id: 48e3b2c9-e0b6-42e9-a352-45300ada504f\u001b[0m\n",
      "[\u001b[36m2024-03-22 11:41:23,310\u001b[0m][\u001b[34maiflows.workers.dispatch_worker:163\u001b[0m][\u001b[32mINFO\u001b[0m] - owner_id: local\u001b[0m\n",
      "[\u001b[36m2024-03-22 11:41:23,310\u001b[0m][\u001b[34maiflows.workers.dispatch_worker:164\u001b[0m][\u001b[32mINFO\u001b[0m] - message_paths: ['push_tasks:1ef03f20-bd69-4a3a-b70b-fa2ab5b38408:msg']\u001b[0m\n",
      "[\u001b[36m2024-03-22 11:41:23,311\u001b[0m][\u001b[34maiflows.workers.dispatch_worker:165\u001b[0m][\u001b[32mINFO\u001b[0m] - parallel_dispatch: False\n",
      "\u001b[0m\n",
      "[\u001b[36m2024-03-22 11:41:23,398\u001b[0m][\u001b[34maiflows.workers.dispatch_worker:188\u001b[0m][\u001b[32mINFO\u001b[0m] - Input message source: HumanUIFlow\u001b[0m\n",
      "[\u001b[36m2024-03-22 11:41:23,463\u001b[0m][\u001b[34maiflows.workers.dispatch_worker:119\u001b[0m][\u001b[32mINFO\u001b[0m] - \n",
      "~~~ Dispatch task ~~~\u001b[0m\n",
      "[\u001b[36m2024-03-22 11:41:23,488\u001b[0m][\u001b[34maiflows.workers.dispatch_worker:161\u001b[0m][\u001b[32mINFO\u001b[0m] - flow_endpoint: Assistant\u001b[0m\n",
      "[\u001b[36m2024-03-22 11:41:23,490\u001b[0m][\u001b[34maiflows.workers.dispatch_worker:162\u001b[0m][\u001b[32mINFO\u001b[0m] - flow_id: fd56e5c1-f1db-4824-bb1a-ac69147b54b4\u001b[0m\n",
      "[\u001b[36m2024-03-22 11:41:23,490\u001b[0m][\u001b[34maiflows.workers.dispatch_worker:163\u001b[0m][\u001b[32mINFO\u001b[0m] - owner_id: local\u001b[0m\n",
      "[\u001b[36m2024-03-22 11:41:23,491\u001b[0m][\u001b[34maiflows.workers.dispatch_worker:164\u001b[0m][\u001b[32mINFO\u001b[0m] - message_paths: ['push_tasks:bddecdb5-57cd-4b9c-967f-ed1826644adb:msg']\u001b[0m\n",
      "[\u001b[36m2024-03-22 11:41:23,492\u001b[0m][\u001b[34maiflows.workers.dispatch_worker:165\u001b[0m][\u001b[32mINFO\u001b[0m] - parallel_dispatch: False\n",
      "\u001b[0m\n",
      "[\u001b[36m2024-03-22 11:41:23,589\u001b[0m][\u001b[34maiflows.workers.dispatch_worker:188\u001b[0m][\u001b[32mINFO\u001b[0m] - Input message source: Assistant\u001b[0m\n",
      "[\u001b[36m2024-03-22 11:41:25,856\u001b[0m][\u001b[34maiflows.workers.dispatch_worker:119\u001b[0m][\u001b[32mINFO\u001b[0m] - \n",
      "~~~ Dispatch task ~~~\u001b[0m\n",
      "[\u001b[36m2024-03-22 11:41:25,868\u001b[0m][\u001b[34maiflows.workers.dispatch_worker:161\u001b[0m][\u001b[32mINFO\u001b[0m] - flow_endpoint: InteractiveChat\u001b[0m\n",
      "[\u001b[36m2024-03-22 11:41:25,869\u001b[0m][\u001b[34maiflows.workers.dispatch_worker:162\u001b[0m][\u001b[32mINFO\u001b[0m] - flow_id: 48e3b2c9-e0b6-42e9-a352-45300ada504f\u001b[0m\n",
      "[\u001b[36m2024-03-22 11:41:25,870\u001b[0m][\u001b[34maiflows.workers.dispatch_worker:163\u001b[0m][\u001b[32mINFO\u001b[0m] - owner_id: local\u001b[0m\n",
      "[\u001b[36m2024-03-22 11:41:25,870\u001b[0m][\u001b[34maiflows.workers.dispatch_worker:164\u001b[0m][\u001b[32mINFO\u001b[0m] - message_paths: ['push_tasks:ee791b72-d62a-44de-9d03-b2d279c5fea7:msg']\u001b[0m\n",
      "[\u001b[36m2024-03-22 11:41:25,871\u001b[0m][\u001b[34maiflows.workers.dispatch_worker:165\u001b[0m][\u001b[32mINFO\u001b[0m] - parallel_dispatch: False\n",
      "\u001b[0m\n",
      "[\u001b[36m2024-03-22 11:41:25,928\u001b[0m][\u001b[34maiflows.workers.dispatch_worker:188\u001b[0m][\u001b[32mINFO\u001b[0m] - Input message source: Assistant\u001b[0m\n",
      "[\u001b[36m2024-03-22 11:41:29,872\u001b[0m][\u001b[34maiflows.workers.dispatch_worker:119\u001b[0m][\u001b[32mINFO\u001b[0m] - \n",
      "~~~ Dispatch task ~~~\u001b[0m\n",
      "[\u001b[36m2024-03-22 11:41:29,895\u001b[0m][\u001b[34maiflows.workers.dispatch_worker:161\u001b[0m][\u001b[32mINFO\u001b[0m] - flow_endpoint: InteractiveChat\u001b[0m\n",
      "[\u001b[36m2024-03-22 11:41:29,897\u001b[0m][\u001b[34maiflows.workers.dispatch_worker:162\u001b[0m][\u001b[32mINFO\u001b[0m] - flow_id: 48e3b2c9-e0b6-42e9-a352-45300ada504f\u001b[0m\n",
      "[\u001b[36m2024-03-22 11:41:29,897\u001b[0m][\u001b[34maiflows.workers.dispatch_worker:163\u001b[0m][\u001b[32mINFO\u001b[0m] - owner_id: local\u001b[0m\n",
      "[\u001b[36m2024-03-22 11:41:29,898\u001b[0m][\u001b[34maiflows.workers.dispatch_worker:164\u001b[0m][\u001b[32mINFO\u001b[0m] - message_paths: ['push_tasks:f06d8b4d-1a71-49f6-9605-9c302b00e068:msg']\u001b[0m\n",
      "[\u001b[36m2024-03-22 11:41:29,900\u001b[0m][\u001b[34maiflows.workers.dispatch_worker:165\u001b[0m][\u001b[32mINFO\u001b[0m] - parallel_dispatch: False\n",
      "\u001b[0m\n",
      "[\u001b[36m2024-03-22 11:41:29,984\u001b[0m][\u001b[34maiflows.workers.dispatch_worker:188\u001b[0m][\u001b[32mINFO\u001b[0m] - Input message source: HumanUIFlow\u001b[0m\n",
      "[\u001b[36m2024-03-22 11:41:30,051\u001b[0m][\u001b[34maiflows.workers.dispatch_worker:119\u001b[0m][\u001b[32mINFO\u001b[0m] - \n",
      "~~~ Dispatch task ~~~\u001b[0m\n",
      "[\u001b[36m2024-03-22 11:41:30,075\u001b[0m][\u001b[34maiflows.workers.dispatch_worker:161\u001b[0m][\u001b[32mINFO\u001b[0m] - flow_endpoint: Assistant\u001b[0m\n",
      "[\u001b[36m2024-03-22 11:41:30,076\u001b[0m][\u001b[34maiflows.workers.dispatch_worker:162\u001b[0m][\u001b[32mINFO\u001b[0m] - flow_id: fd56e5c1-f1db-4824-bb1a-ac69147b54b4\u001b[0m\n",
      "[\u001b[36m2024-03-22 11:41:30,077\u001b[0m][\u001b[34maiflows.workers.dispatch_worker:163\u001b[0m][\u001b[32mINFO\u001b[0m] - owner_id: local\u001b[0m\n",
      "[\u001b[36m2024-03-22 11:41:30,077\u001b[0m][\u001b[34maiflows.workers.dispatch_worker:164\u001b[0m][\u001b[32mINFO\u001b[0m] - message_paths: ['push_tasks:a8ce57cc-5093-4846-9782-f4522ce146e2:msg']\u001b[0m\n",
      "[\u001b[36m2024-03-22 11:41:30,078\u001b[0m][\u001b[34maiflows.workers.dispatch_worker:165\u001b[0m][\u001b[32mINFO\u001b[0m] - parallel_dispatch: False\n",
      "\u001b[0m\n",
      "[\u001b[36m2024-03-22 11:41:30,174\u001b[0m][\u001b[34maiflows.workers.dispatch_worker:188\u001b[0m][\u001b[32mINFO\u001b[0m] - Input message source: Assistant\u001b[0m\n",
      "[\u001b[36m2024-03-22 11:41:30,991\u001b[0m][\u001b[34maiflows.workers.dispatch_worker:119\u001b[0m][\u001b[32mINFO\u001b[0m] - \n",
      "~~~ Dispatch task ~~~\u001b[0m\n",
      "[\u001b[36m2024-03-22 11:41:31,013\u001b[0m][\u001b[34maiflows.workers.dispatch_worker:161\u001b[0m][\u001b[32mINFO\u001b[0m] - flow_endpoint: InteractiveChat\u001b[0m\n",
      "[\u001b[36m2024-03-22 11:41:31,014\u001b[0m][\u001b[34maiflows.workers.dispatch_worker:162\u001b[0m][\u001b[32mINFO\u001b[0m] - flow_id: 48e3b2c9-e0b6-42e9-a352-45300ada504f\u001b[0m\n",
      "[\u001b[36m2024-03-22 11:41:31,015\u001b[0m][\u001b[34maiflows.workers.dispatch_worker:163\u001b[0m][\u001b[32mINFO\u001b[0m] - owner_id: local\u001b[0m\n",
      "[\u001b[36m2024-03-22 11:41:31,015\u001b[0m][\u001b[34maiflows.workers.dispatch_worker:164\u001b[0m][\u001b[32mINFO\u001b[0m] - message_paths: ['push_tasks:0ae53020-a692-467f-9971-5c8291a72113:msg']\u001b[0m\n",
      "[\u001b[36m2024-03-22 11:41:31,016\u001b[0m][\u001b[34maiflows.workers.dispatch_worker:165\u001b[0m][\u001b[32mINFO\u001b[0m] - parallel_dispatch: False\n",
      "\u001b[0m\n",
      "[\u001b[36m2024-03-22 11:41:31,087\u001b[0m][\u001b[34maiflows.workers.dispatch_worker:188\u001b[0m][\u001b[32mINFO\u001b[0m] - Input message source: Assistant\u001b[0m\n",
      "[\u001b[36m2024-03-22 11:41:33,563\u001b[0m][\u001b[34maiflows.workers.dispatch_worker:119\u001b[0m][\u001b[32mINFO\u001b[0m] - \n",
      "~~~ Dispatch task ~~~\u001b[0m\n",
      "[\u001b[36m2024-03-22 11:41:33,587\u001b[0m][\u001b[34maiflows.workers.dispatch_worker:161\u001b[0m][\u001b[32mINFO\u001b[0m] - flow_endpoint: InteractiveChat\u001b[0m\n",
      "[\u001b[36m2024-03-22 11:41:33,588\u001b[0m][\u001b[34maiflows.workers.dispatch_worker:162\u001b[0m][\u001b[32mINFO\u001b[0m] - flow_id: 48e3b2c9-e0b6-42e9-a352-45300ada504f\u001b[0m\n",
      "[\u001b[36m2024-03-22 11:41:33,588\u001b[0m][\u001b[34maiflows.workers.dispatch_worker:163\u001b[0m][\u001b[32mINFO\u001b[0m] - owner_id: local\u001b[0m\n",
      "[\u001b[36m2024-03-22 11:41:33,589\u001b[0m][\u001b[34maiflows.workers.dispatch_worker:164\u001b[0m][\u001b[32mINFO\u001b[0m] - message_paths: ['push_tasks:445a2043-2356-49ee-99aa-783eea2197c7:msg']\u001b[0m\n",
      "[\u001b[36m2024-03-22 11:41:33,589\u001b[0m][\u001b[34maiflows.workers.dispatch_worker:165\u001b[0m][\u001b[32mINFO\u001b[0m] - parallel_dispatch: False\n",
      "\u001b[0m\n",
      "[\u001b[36m2024-03-22 11:41:33,673\u001b[0m][\u001b[34maiflows.workers.dispatch_worker:188\u001b[0m][\u001b[32mINFO\u001b[0m] - Input message source: HumanUIFlow\u001b[0m\n",
      "[\u001b[36m2024-03-22 11:41:33,675\u001b[0m][\u001b[34maiflows.data_transformations.end_of_interaction:40\u001b[0m][\u001b[32mINFO\u001b[0m] - End of interaction detected!\u001b[0m\n",
      "[\u001b[36m2024-03-22 11:41:33,677\u001b[0m][\u001b[34maiflows.utils.coflows_utils:120\u001b[0m][\u001b[32mINFO\u001b[0m] - no_reply mode\u001b[0m\n"
     ]
    }
   ],
   "source": [
    "api_infos = [ApiInfo(backend_used=\"openai\", api_key=os.getenv(\"OPENAI_API_KEY\"))]\n",
    "run_dispatch_worker_thread(cl, api_infos = api_infos)\n",
    "run_dispatch_worker_thread(cl, api_infos = api_infos)"
   ]
  },
  {
   "cell_type": "code",
   "execution_count": 4,
   "id": "bbc3a626-65ba-4abc-9376-7ed637f64b00",
   "metadata": {},
   "outputs": [
    {
     "name": "stdout",
     "output_type": "stream",
     "text": [
      "[\u001b[36m2024-03-22 11:38:49,128\u001b[0m][\u001b[34maiflows.utils.serve_utils:543\u001b[0m][\u001b[32mINFO\u001b[0m] - Fetched singleton 5184fdd6-cddf-4326-b4f0-49633779785c\u001b[0m\n"
     ]
    },
    {
     "data": {
      "text/plain": [
       "{'human_input': 'yes!! present!'}"
      ]
     },
     "execution_count": 4,
     "metadata": {},
     "output_type": "execute_result"
    }
   ],
   "source": [
    "user_flow = serve_utils.get_flow_instance(\n",
    "    cl=cl,\n",
    "    flow_endpoint=\"User\",\n",
    ")\n",
    "\n",
    "input_data = {\"id\": 0, \"api_output\": \"Human, are you there?\"}\n",
    "input_message = user_flow.package_input_message(input_data)\n",
    "\n",
    "user_flow.get_reply_future(input_message).get_data() # blocks until human responds via UI"
   ]
  },
  {
   "cell_type": "markdown",
   "id": "062c37a4-3f8c-4587-89f9-4fe8e16e28ab",
   "metadata": {},
   "source": [
    "Since CoLink allows us to invoke Flows served by other users, you can also invoke another user's HumanFlow! You just need to plug in their colink user ID when getting the flow instance. Just make sure that you are both running get_instance workers needed for getting/serving flow instances across users (note that running the UI automatically starts a get_instance worker in the background)."
   ]
  },
  {
   "cell_type": "code",
   "execution_count": 12,
   "id": "1672c4a1-0582-4df4-97ca-1317242b38fb",
   "metadata": {},
   "outputs": [
    {
     "name": "stdout",
     "output_type": "stream",
     "text": [
      "[\u001b[36m2024-03-22 11:43:09,055\u001b[0m][\u001b[34maiflows.workers.get_instance_worker:164\u001b[0m][\u001b[32mINFO\u001b[0m] - get_instances worker started in attached thread for user 0398851c0934a00b839a595fe06a50c3adeed560567a2f4fcecf987c77222d9751\u001b[0m\n"
     ]
    }
   ],
   "source": [
    "# if you don't have the UI running, uncomment and run the line below\n",
    "# run_get_instance_worker_thread(cl)"
   ]
  },
  {
   "cell_type": "code",
   "execution_count": 13,
   "id": "5c605fb1-a40c-4d95-94ae-8257ff67460f",
   "metadata": {},
   "outputs": [
    {
     "data": {
      "text/plain": [
       "{'human_input': 'Hey there neighbor!!'}"
      ]
     },
     "execution_count": 13,
     "metadata": {},
     "output_type": "execute_result"
    }
   ],
   "source": [
    "user_flow = serve_utils.get_flow_instance(\n",
    "    cl=cl,\n",
    "    flow_endpoint=\"User\",\n",
    "    user_id=... # your neighbor's colink user ID\n",
    ")\n",
    "\n",
    "input_data = {\"id\": 0, \"api_output\": \"Neighbor, are you there?\"}\n",
    "input_message = user_flow.package_input_message(input_data)\n",
    "\n",
    "user_flow.get_reply_future(input_message).get_data() # blocks until human responds via UI"
   ]
  },
  {
   "cell_type": "markdown",
   "id": "5f51cd3b-9ac1-4a88-8c5e-e5b20a49981b",
   "metadata": {},
   "source": [
    "## Orchestrating the interaction\n",
    "\n",
    "Now let's try orchestrating a back and forth interaction between a ChatFlow and a HumanFlow. We start by fetching necessary Flows from the FlowVerse and serving them."
   ]
  },
  {
   "cell_type": "code",
   "execution_count": 5,
   "id": "be9b9f3b-55a3-4a30-80eb-d8b5458de1ec",
   "metadata": {
    "scrolled": true
   },
   "outputs": [
    {
     "name": "stdout",
     "output_type": "stream",
     "text": [
      "[\u001b[36m2024-03-22 11:39:54,211\u001b[0m][\u001b[34maiflows.flow_verse.loading:775\u001b[0m][\u001b[32mINFO\u001b[0m] - \u001b[32m[<interactive>]\u001b[0m started to sync flow module dependencies to /home/staverm/workspace/coflows-dev/aiflows/examples/mauro_examples/flow_modules...\u001b[0m\n",
      "[\u001b[36m2024-03-22 11:39:54,354\u001b[0m][\u001b[34maiflows.flow_verse.loading:608\u001b[0m][\u001b[32mINFO\u001b[0m] - aiflows/ChatFlowModule:coflows already synced, skip\u001b[0m\n",
      "[\u001b[36m2024-03-22 11:39:54,454\u001b[0m][\u001b[34maiflows.flow_verse.loading:608\u001b[0m][\u001b[32mINFO\u001b[0m] - aiflows/ChatInteractiveFlowModule:coflows already synced, skip\u001b[0m\n",
      "[\u001b[36m2024-03-22 11:39:54,455\u001b[0m][\u001b[34maiflows.flow_verse.loading:825\u001b[0m][\u001b[32mINFO\u001b[0m] - \u001b[32m[<interactive>]\u001b[0m finished syncing\n",
      "\n",
      "\u001b[0m\n"
     ]
    },
    {
     "data": {
      "text/plain": [
       "['/home/staverm/workspace/coflows-dev/aiflows/examples/mauro_examples/flow_modules/aiflows/ChatFlowModule',\n",
       " '/home/staverm/workspace/coflows-dev/aiflows/examples/mauro_examples/flow_modules/aiflows/ChatInteractiveFlowModule',\n",
       " '/home/staverm/workspace/coflows-dev/aiflows/examples/mauro_examples/flow_modules/aiflows/HumanStandardInputFlowModule']"
      ]
     },
     "execution_count": 5,
     "metadata": {},
     "output_type": "execute_result"
    }
   ],
   "source": [
    "dependencies = [\n",
    "    {\"url\": \"aiflows/ChatFlowModule\", \"revision\": \"coflows\"},\n",
    "    {\"url\": \"aiflows/ChatInteractiveFlowModule\", \"revision\": \"coflows\"}\n",
    "]\n",
    "flow_verse.sync_dependencies(dependencies)"
   ]
  },
  {
   "cell_type": "code",
   "execution_count": 6,
   "id": "0c8767fe-5d4b-48bd-99e8-54b196c62b64",
   "metadata": {},
   "outputs": [
    {
     "name": "stdout",
     "output_type": "stream",
     "text": [
      "[\u001b[36m2024-03-22 11:39:58,246\u001b[0m][\u001b[34maiflows.utils.serve_utils:116\u001b[0m][\u001b[32mINFO\u001b[0m] - Started serving flow_modules.aiflows.ChatFlowModule.ChatAtomicFlow at flows:Assistant.\u001b[0m\n",
      "[\u001b[36m2024-03-22 11:39:58,248\u001b[0m][\u001b[34maiflows.utils.serve_utils:117\u001b[0m][\u001b[32mINFO\u001b[0m] - dispatch_point: coflows_dispatch\u001b[0m\n",
      "[\u001b[36m2024-03-22 11:39:58,249\u001b[0m][\u001b[34maiflows.utils.serve_utils:118\u001b[0m][\u001b[32mINFO\u001b[0m] - parallel_dispatch: False\u001b[0m\n",
      "[\u001b[36m2024-03-22 11:39:58,249\u001b[0m][\u001b[34maiflows.utils.serve_utils:119\u001b[0m][\u001b[32mINFO\u001b[0m] - singleton: False\n",
      "\u001b[0m\n",
      "[\u001b[36m2024-03-22 11:39:58,340\u001b[0m][\u001b[34maiflows.utils.serve_utils:116\u001b[0m][\u001b[32mINFO\u001b[0m] - Started serving flow_modules.aiflows.ChatInteractiveFlowModule.ChatHumanFlowModule at flows:InteractiveChat.\u001b[0m\n",
      "[\u001b[36m2024-03-22 11:39:58,341\u001b[0m][\u001b[34maiflows.utils.serve_utils:117\u001b[0m][\u001b[32mINFO\u001b[0m] - dispatch_point: coflows_dispatch\u001b[0m\n",
      "[\u001b[36m2024-03-22 11:39:58,342\u001b[0m][\u001b[34maiflows.utils.serve_utils:118\u001b[0m][\u001b[32mINFO\u001b[0m] - parallel_dispatch: False\u001b[0m\n",
      "[\u001b[36m2024-03-22 11:39:58,342\u001b[0m][\u001b[34maiflows.utils.serve_utils:119\u001b[0m][\u001b[32mINFO\u001b[0m] - singleton: False\n",
      "\u001b[0m\n"
     ]
    },
    {
     "data": {
      "text/plain": [
       "True"
      ]
     },
     "execution_count": 6,
     "metadata": {},
     "output_type": "execute_result"
    }
   ],
   "source": [
    "serve_utils.serve_flow(\n",
    "    cl=cl,\n",
    "    flow_class_name=\"flow_modules.aiflows.ChatFlowModule.ChatAtomicFlow\",\n",
    "    flow_endpoint=\"Assistant\",\n",
    ")\n",
    "serve_utils.serve_flow(\n",
    "    cl=cl,\n",
    "    flow_class_name=\"flow_modules.aiflows.ChatInteractiveFlowModule.ChatHumanFlowModule\",\n",
    "    flow_endpoint=\"InteractiveChat\",\n",
    ")"
   ]
  },
  {
   "cell_type": "markdown",
   "id": "5fcfbf06-a936-4eba-9981-9762813656df",
   "metadata": {},
   "source": [
    "The ChatHumanFlowModule is a simple composite flows that relays messages between it's two subflows (ChatAtomicFlow and HumanFlow), facilitating the \"chat\" interaction between them."
   ]
  },
  {
   "cell_type": "code",
   "execution_count": 7,
   "id": "be8a06f6-e6a9-4d23-847d-72ec5e6061f6",
   "metadata": {},
   "outputs": [
    {
     "name": "stdout",
     "output_type": "stream",
     "text": [
      "[\u001b[36m2024-03-22 11:40:00,920\u001b[0m][\u001b[34maiflows.flow_verse.loading:775\u001b[0m][\u001b[32mINFO\u001b[0m] - \u001b[32m[flow_modules.aiflows.ChatInteractiveFlowModule]\u001b[0m started to sync flow module dependencies to /home/staverm/workspace/coflows-dev/aiflows/examples/mauro_examples/flow_modules...\u001b[0m\n",
      "[\u001b[36m2024-03-22 11:40:01,065\u001b[0m][\u001b[34maiflows.flow_verse.loading:608\u001b[0m][\u001b[32mINFO\u001b[0m] - aiflows/ChatFlowModule:coflows already synced, skip\u001b[0m\n",
      "[\u001b[36m2024-03-22 11:40:01,159\u001b[0m][\u001b[34maiflows.flow_verse.loading:608\u001b[0m][\u001b[32mINFO\u001b[0m] - aiflows/HumanStandardInputFlowModule:coflows already synced, skip\u001b[0m\n",
      "[\u001b[36m2024-03-22 11:40:01,161\u001b[0m][\u001b[34maiflows.flow_verse.loading:825\u001b[0m][\u001b[32mINFO\u001b[0m] - \u001b[32m[flow_modules.aiflows.ChatInteractiveFlowModule]\u001b[0m finished syncing\n",
      "\n",
      "\u001b[0m\n",
      "[\u001b[36m2024-03-22 11:40:01,339\u001b[0m][\u001b[34maiflows.utils.serve_utils:336\u001b[0m][\u001b[32mINFO\u001b[0m] - Mounted fd56e5c1-f1db-4824-bb1a-ac69147b54b4 at flows:Assistant:mounts:local:fd56e5c1-f1db-4824-bb1a-ac69147b54b4\u001b[0m\n",
      "[\u001b[36m2024-03-22 11:40:01,427\u001b[0m][\u001b[34maiflows.utils.serve_utils:543\u001b[0m][\u001b[32mINFO\u001b[0m] - Fetched singleton 5184fdd6-cddf-4326-b4f0-49633779785c\u001b[0m\n",
      "[\u001b[36m2024-03-22 11:40:01,514\u001b[0m][\u001b[34maiflows.utils.serve_utils:336\u001b[0m][\u001b[32mINFO\u001b[0m] - Mounted 48e3b2c9-e0b6-42e9-a352-45300ada504f at flows:InteractiveChat:mounts:local:48e3b2c9-e0b6-42e9-a352-45300ada504f\u001b[0m\n"
     ]
    }
   ],
   "source": [
    "interactive_chat = serve_utils.get_flow_instance(\n",
    "    cl=cl,\n",
    "    flow_endpoint=\"InteractiveChat\",\n",
    ")"
   ]
  },
  {
   "cell_type": "markdown",
   "id": "7d0d07a3-fdbe-4970-84f4-0e363ee583c5",
   "metadata": {},
   "source": [
    "We will kickstart the chat interaction by sending a message to the Composite Flow which will first relay this message to the Assistant, and then relay the Assistant's output message to our HumanFlow - this message should then get displayed in your UI. After receiving the message, you can respond to it via the UI and keep chatting with the Assistant. You can stop the chat orchestration by typing \\<END>."
   ]
  },
  {
   "cell_type": "code",
   "execution_count": 8,
   "id": "ed97131e-339b-4612-a007-6a44247967b5",
   "metadata": {},
   "outputs": [],
   "source": [
    "input_message = FlowMessage(\n",
    "    data={\"id\": 0, \"query\": \"I want to ask you a few questions\"},\n",
    ")\n",
    "interactive_chat.send_message(input_message)"
   ]
  }
 ],
 "metadata": {
  "kernelspec": {
   "display_name": "Python 3 (ipykernel)",
   "language": "python",
   "name": "python3"
  },
  "language_info": {
   "codemirror_mode": {
    "name": "ipython",
    "version": 3
   },
   "file_extension": ".py",
   "mimetype": "text/x-python",
   "name": "python",
   "nbconvert_exporter": "python",
   "pygments_lexer": "ipython3",
   "version": "3.10.6"
  }
 },
 "nbformat": 4,
 "nbformat_minor": 5
}
